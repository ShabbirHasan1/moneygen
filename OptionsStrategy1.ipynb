{
 "cells": [
  {
   "cell_type": "markdown",
   "metadata": {},
   "source": [
    "# Get Available Contracts with respective strike prices\n",
    "## Chosen stock - BANKNIFTY"
   ]
  },
  {
   "cell_type": "code",
   "execution_count": 189,
   "metadata": {},
   "outputs": [],
   "source": [
    "from selenium import webdriver\n",
    "from selenium.webdriver.common.keys import Keys\n",
    "from selenium.webdriver.support.select import Select\n",
    "from selenium.webdriver.chrome.options import Options  \n",
    "from selenium.common.exceptions import TimeoutException\n",
    "from selenium.webdriver.support.ui import WebDriverWait\n",
    "from selenium.webdriver.support import expected_conditions as EC\n",
    "from selenium.webdriver.common.by import By\n",
    "import numpy as np\n",
    "import pandas as pd\n",
    "import time\n",
    "import string\n",
    "import shutil\n",
    "import os\n",
    "pd.set_option('display.max_rows', 500)\n",
    "pd.set_option('display.max_columns', 500)\n",
    "pd.set_option('display.width', 1000)"
   ]
  },
  {
   "cell_type": "code",
   "execution_count": 74,
   "metadata": {},
   "outputs": [],
   "source": [
    "## Configurations\n",
    "download_location = r\"/Users/mayank.gupta/Moneygen/Downloads\"\n",
    "data_file_location = r\"/Users/mayank.gupta/Moneygen/DataFiles\"\n",
    "sleep_duration = 3\n",
    "options = Options() \n",
    "options.add_experimental_option(\"prefs\", {\n",
    "  \"download.default_directory\": download_location,\n",
    "  \"download.prompt_for_download\": False,\n",
    "  \"download.directory_upgrade\": True,\n",
    "  \"safebrowsing.enabled\": True\n",
    "})\n",
    "# options.add_argument(\"--headless\")  "
   ]
  },
  {
   "cell_type": "markdown",
   "metadata": {},
   "source": [
    "### Load the chrome webdriver"
   ]
  },
  {
   "cell_type": "code",
   "execution_count": 75,
   "metadata": {},
   "outputs": [
    {
     "name": "stderr",
     "output_type": "stream",
     "text": [
      "/Users/mayank.gupta/venv/tradeai/lib/python3.7/site-packages/ipykernel_launcher.py:1: DeprecationWarning: use options instead of chrome_options\n",
      "  \"\"\"Entry point for launching an IPython kernel.\n"
     ]
    }
   ],
   "source": [
    "driver = webdriver.Chrome(executable_path = './chromedriver', chrome_options = options)"
   ]
  },
  {
   "cell_type": "markdown",
   "metadata": {},
   "source": [
    "### Get the web page using driver for BANKNIFTY"
   ]
  },
  {
   "cell_type": "code",
   "execution_count": 76,
   "metadata": {},
   "outputs": [],
   "source": [
    "driver.get(\"https://nseindia.com/live_market/dynaContent/live_watch/get_quote/GetQuoteFO.jsp?underlying=BANKNIFTY&instrument=FUTIDX&type=-&strike=-&expiry=25JUL2019\")\n",
    "time.sleep(sleep_duration)"
   ]
  },
  {
   "cell_type": "markdown",
   "metadata": {},
   "source": [
    "### Select 'Options' as instrument type"
   ]
  },
  {
   "cell_type": "code",
   "execution_count": 77,
   "metadata": {},
   "outputs": [],
   "source": [
    "instrument_type_element = driver.find_element_by_id(\"instruments\")\n",
    "instrument_selector = Select(instrument_type_element)\n",
    "## Index is always index + 1 because 0 index corresponds to 'Select...'\n",
    "instrument_selector.select_by_index(2)\n",
    "time.sleep(sleep_duration)"
   ]
  },
  {
   "cell_type": "markdown",
   "metadata": {},
   "source": [
    "### Get expiry dates of all available contracts"
   ]
  },
  {
   "cell_type": "code",
   "execution_count": 78,
   "metadata": {},
   "outputs": [],
   "source": [
    "expiry_dates_element = driver.find_element_by_id(\"expiryDates\")\n",
    "expiry_dates = expiry_dates_element.text.split('\\n')[2:].copy()\n",
    "time.sleep(sleep_duration)"
   ]
  },
  {
   "cell_type": "code",
   "execution_count": 79,
   "metadata": {},
   "outputs": [
    {
     "data": {
      "text/plain": [
       "['25JUL2019',\n",
       " '18JUL2019',\n",
       " '11JUL2019',\n",
       " '04JUL2019',\n",
       " '01AUG2019',\n",
       " '08AUG2019',\n",
       " '29AUG2019',\n",
       " '14AUG2019',\n",
       " '22AUG2019',\n",
       " '26SEP2019']"
      ]
     },
     "execution_count": 79,
     "metadata": {},
     "output_type": "execute_result"
    }
   ],
   "source": [
    "expiry_dates"
   ]
  },
  {
   "cell_type": "markdown",
   "metadata": {},
   "source": [
    "### Select expiry dates and populate the strike price list"
   ]
  },
  {
   "cell_type": "code",
   "execution_count": 80,
   "metadata": {},
   "outputs": [],
   "source": [
    "def getStrikePrices():\n",
    "    date_price_dict = dict()\n",
    "    expiry_dates_selector = Select(expiry_dates_element)\n",
    "    for index in range(len(expiry_dates)):\n",
    "        print('Getting strike prices for: ', expiry_dates[index], ', having index: ', index)\n",
    "        indexer = index + 1\n",
    "        date_price_dict[expiry_dates[index]] = dict()\n",
    "\n",
    "        ## Select expiry for a contract\n",
    "        expiry_dates_selector.select_by_index(indexer)\n",
    "        time.sleep(sleep_duration)\n",
    "\n",
    "        ## Selecting 'Call' option to populate 'Strike Price' list\n",
    "        Select(driver.find_element_by_id(\"optionType\")).select_by_index(1)\n",
    "        time.sleep(sleep_duration)\n",
    "\n",
    "        ## Populating strike prices for Call option of selected date\n",
    "        strike_price_element = driver.find_element_by_id('strikePrices')\n",
    "        date_price_dict[expiry_dates[index]]['Call'] = strike_price_element.text.split('\\n')[2:].copy()\n",
    "        print('Length of strike price list for ', expiry_dates[index], 'Call option: ', len(date_price_dict[expiry_dates[index]]['Call']))\n",
    "        time.sleep(sleep_duration)\n",
    "\n",
    "        ## Selecting 'Put' option to populate 'Strike Price' list\n",
    "        Select(driver.find_element_by_id(\"optionType\")).select_by_index(2)\n",
    "        time.sleep(sleep_duration)\n",
    "\n",
    "        ## Populating strike prices for Put option of selected date\n",
    "        strike_price_element = driver.find_element_by_id('strikePrices')\n",
    "        date_price_dict[expiry_dates[index]]['Put'] = strike_price_element.text.split('\\n')[2:].copy()\n",
    "        print('Length of strike price list for ', expiry_dates[index], 'Put option: ', len(date_price_dict[expiry_dates[index]]['Put']))\n",
    "        time.sleep(sleep_duration)\n",
    "    return date_price_dict"
   ]
  },
  {
   "cell_type": "code",
   "execution_count": 81,
   "metadata": {},
   "outputs": [
    {
     "name": "stdout",
     "output_type": "stream",
     "text": [
      "Getting strike prices for:  25JUL2019 , having index:  0\n",
      "Length of strike price list for  25JUL2019 Call option:  64\n",
      "Length of strike price list for  25JUL2019 Put option:  64\n",
      "Getting strike prices for:  18JUL2019 , having index:  1\n",
      "Length of strike price list for  18JUL2019 Call option:  61\n",
      "Length of strike price list for  18JUL2019 Put option:  48\n",
      "Getting strike prices for:  11JUL2019 , having index:  2\n",
      "Length of strike price list for  11JUL2019 Call option:  64\n",
      "Length of strike price list for  11JUL2019 Put option:  48\n",
      "Getting strike prices for:  04JUL2019 , having index:  3\n",
      "Length of strike price list for  04JUL2019 Call option:  64\n",
      "Length of strike price list for  04JUL2019 Put option:  64\n",
      "Getting strike prices for:  01AUG2019 , having index:  4\n",
      "Length of strike price list for  01AUG2019 Call option:  29\n",
      "Length of strike price list for  01AUG2019 Put option:  16\n",
      "Getting strike prices for:  08AUG2019 , having index:  5\n",
      "Length of strike price list for  08AUG2019 Call option:  36\n",
      "Length of strike price list for  08AUG2019 Put option:  12\n",
      "Getting strike prices for:  29AUG2019 , having index:  6\n",
      "Length of strike price list for  29AUG2019 Call option:  47\n",
      "Length of strike price list for  29AUG2019 Put option:  47\n",
      "Getting strike prices for:  14AUG2019 , having index:  7\n",
      "Length of strike price list for  14AUG2019 Call option:  42\n",
      "Length of strike price list for  14AUG2019 Put option:  14\n",
      "Getting strike prices for:  22AUG2019 , having index:  8\n",
      "Length of strike price list for  22AUG2019 Call option:  41\n",
      "Length of strike price list for  22AUG2019 Put option:  20\n",
      "Getting strike prices for:  26SEP2019 , having index:  9\n",
      "Length of strike price list for  26SEP2019 Call option:  9\n",
      "Length of strike price list for  26SEP2019 Put option:  4\n"
     ]
    }
   ],
   "source": [
    "try:\n",
    "    date_price_dict = getStrikePrices()\n",
    "except:\n",
    "    print('Exception occured, trying again')\n",
    "    time.sleep(sleep_duration + 10)\n",
    "    date_price_dict = getStrikePrices()"
   ]
  },
  {
   "cell_type": "code",
   "execution_count": 82,
   "metadata": {},
   "outputs": [],
   "source": [
    "month_mapper = {\n",
    "\"JAN\":\"-01-\",\n",
    "\"FEB\":\"-02-\",\n",
    "\"MAR\":\"-03-\",\n",
    "\"APR\":\"-04-\",\n",
    "\"MAY\":\"-05-\",\n",
    "\"JUN\":\"-06-\",\n",
    "\"JUL\":\"-07-\",\n",
    "\"AUG\":\"-08-\",\n",
    "\"SEP\":\"-09-\",\n",
    "\"OCT\":\"-10-\",\n",
    "\"NOV\":\"-11-\",\n",
    "\"DEC\":\"-12-\"\n",
    "}"
   ]
  },
  {
   "cell_type": "code",
   "execution_count": 83,
   "metadata": {},
   "outputs": [],
   "source": [
    "expiry_dates_mapper = dict()\n",
    "## Change month name to month number\n",
    "for index, date in enumerate(expiry_dates):\n",
    "    month_name = expiry_dates[index][2:5]\n",
    "    month_number = month_mapper[month_name]\n",
    "    expiry_dates_mapper[expiry_dates[index]] = expiry_dates[index].replace(month_name, month_number)"
   ]
  },
  {
   "cell_type": "code",
   "execution_count": 84,
   "metadata": {},
   "outputs": [
    {
     "data": {
      "text/plain": [
       "{'25JUL2019': '25-07-2019',\n",
       " '18JUL2019': '18-07-2019',\n",
       " '11JUL2019': '11-07-2019',\n",
       " '04JUL2019': '04-07-2019',\n",
       " '01AUG2019': '01-08-2019',\n",
       " '08AUG2019': '08-08-2019',\n",
       " '29AUG2019': '29-08-2019',\n",
       " '14AUG2019': '14-08-2019',\n",
       " '22AUG2019': '22-08-2019',\n",
       " '26SEP2019': '26-09-2019'}"
      ]
     },
     "execution_count": 84,
     "metadata": {},
     "output_type": "execute_result"
    }
   ],
   "source": [
    "expiry_dates_mapper"
   ]
  },
  {
   "cell_type": "code",
   "execution_count": 85,
   "metadata": {},
   "outputs": [],
   "source": [
    "for old_key, new_key in zip(expiry_dates_mapper.keys(), expiry_dates_mapper.values()):\n",
    "    date_price_dict[new_key] = date_price_dict.pop(old_key)"
   ]
  },
  {
   "cell_type": "code",
   "execution_count": 86,
   "metadata": {},
   "outputs": [
    {
     "data": {
      "text/plain": [
       "dict_keys(['25-07-2019', '18-07-2019', '11-07-2019', '04-07-2019', '01-08-2019', '08-08-2019', '29-08-2019', '14-08-2019', '22-08-2019', '26-09-2019'])"
      ]
     },
     "execution_count": 86,
     "metadata": {},
     "output_type": "execute_result"
    }
   ],
   "source": [
    "date_price_dict.keys()"
   ]
  },
  {
   "cell_type": "markdown",
   "metadata": {},
   "source": [
    "# Get historical data for All contracts -> All Strike Prices"
   ]
  },
  {
   "cell_type": "code",
   "execution_count": 145,
   "metadata": {},
   "outputs": [],
   "source": [
    "## Configurations\n",
    "instrument_type = 'Index Options'\n",
    "symbol = 'BANK NIFTY'\n",
    "year = '2019'"
   ]
  },
  {
   "cell_type": "code",
   "execution_count": 146,
   "metadata": {},
   "outputs": [
    {
     "name": "stderr",
     "output_type": "stream",
     "text": [
      "/Users/mayank.gupta/venv/tradeai/lib/python3.7/site-packages/ipykernel_launcher.py:2: DeprecationWarning: use options instead of chrome_options\n",
      "  \n"
     ]
    }
   ],
   "source": [
    "# driver.close()\n",
    "driver = webdriver.Chrome(executable_path = './chromedriver', chrome_options = options)\n",
    "driver.get('https://www.nseindia.com/products/content/derivatives/equities/historical_fo.htm')"
   ]
  },
  {
   "cell_type": "code",
   "execution_count": 147,
   "metadata": {},
   "outputs": [],
   "source": [
    "Select(driver.find_element_by_id('instrumentType')).select_by_index(3) ## Select `Index Options`\n",
    "time.sleep(sleep_duration)\n",
    "Select(driver.find_element_by_id('symbol')).select_by_index(4) ## Select `BANK NIFTY`\n",
    "time.sleep(sleep_duration)\n",
    "Select(driver.find_element_by_id('dateRange')).select_by_index(6) ## Select `BANK NIFTY`\n",
    "time.sleep(sleep_duration)\n",
    "Select(driver.find_element_by_id('year')).select_by_index(5) ## Select `BANK NIFTY`\n",
    "time.sleep(sleep_duration)"
   ]
  },
  {
   "cell_type": "code",
   "execution_count": 148,
   "metadata": {},
   "outputs": [],
   "source": [
    "expiry_date_element = driver.find_element_by_id('expiryDate') ## Get expiryDates on website\n",
    "expiry_date_list = expiry_date_element.text.replace(' ','').split('\\n') ## Remove white spaces and split by newline"
   ]
  },
  {
   "cell_type": "code",
   "execution_count": 136,
   "metadata": {},
   "outputs": [],
   "source": [
    "## Skip dates \n",
    "skip_list = list()"
   ]
  },
  {
   "cell_type": "code",
   "execution_count": 137,
   "metadata": {},
   "outputs": [
    {
     "name": "stdout",
     "output_type": "stream",
     "text": [
      "SelectExpiry\n",
      "03-01-2019\n",
      "10-01-2019\n",
      "17-01-2019\n",
      "24-01-2019\n",
      "31-01-2019\n",
      "07-02-2019\n",
      "14-02-2019\n",
      "21-02-2019\n",
      "28-02-2019\n",
      "07-03-2019\n",
      "14-03-2019\n",
      "15-03-2019\n",
      "20-03-2019\n",
      "28-03-2019\n",
      "04-04-2019\n",
      "11-04-2019\n",
      "18-04-2019\n",
      "25-04-2019\n",
      "02-05-2019\n",
      "09-05-2019\n",
      "16-05-2019\n",
      "23-05-2019\n",
      "30-05-2019\n",
      "06-06-2019\n",
      "13-06-2019\n",
      "20-06-2019\n",
      "21-06-2019\n",
      "27-06-2019\n",
      "04-07-2019\n",
      "Skipped item:  04-07-2019\n",
      "11-07-2019\n",
      "Skipped item:  11-07-2019\n",
      "18-07-2019\n",
      "Skipped item:  18-07-2019\n",
      "25-07-2019\n",
      "Skipped item:  25-07-2019\n",
      "01-08-2019\n",
      "Skipped item:  01-08-2019\n",
      "08-08-2019\n",
      "Skipped item:  08-08-2019\n",
      "14-08-2019\n",
      "Skipped item:  14-08-2019\n",
      "22-08-2019\n",
      "Skipped item:  22-08-2019\n",
      "29-08-2019\n",
      "Skipped item:  29-08-2019\n",
      "20-09-2019\n",
      "26-09-2019\n",
      "Inside if:  26-09-2019\n",
      "26-12-2019\n"
     ]
    }
   ],
   "source": [
    "## For Call options\n",
    "for index, item in enumerate(expiry_date_list):\n",
    "    print(item)\n",
    "    if item in skip_list:\n",
    "        print('Skipped item: ', item)\n",
    "        continue\n",
    "    if item in list(expiry_dates_mapper.values()):\n",
    "        print('Inside if: ', item)\n",
    "        Select(expiry_date_element).select_by_index(index)\n",
    "        Select(driver.find_element_by_id(\"optionType\")).select_by_index(1)\n",
    "        time.sleep(sleep_duration)\n",
    "        for strike_price in date_price_dict[item]['Call']:\n",
    "            driver.find_element_by_id('strikePrice').clear()\n",
    "            driver.find_element_by_id('strikePrice').send_keys(int(strike_price.split('.')[0]))\n",
    "            driver.find_element_by_id('getButton').click()\n",
    "            time.sleep(sleep_duration)\n",
    "            try:\n",
    "                download_link = WebDriverWait(driver, sleep_duration+20).until(EC.presence_of_element_located((By.LINK_TEXT, \"Download file in csv format\")))\n",
    "                download_link.click()\n",
    "            except:\n",
    "                print('Exception occured, waiting and trying again')\n",
    "                driver.find_element_by_id('getButton').click()\n",
    "                download_link = WebDriverWait(driver, sleep_duration+20).until(EC.presence_of_element_located((By.LINK_TEXT, \"Download file in csv format\")))\n",
    "                download_link.click()\n",
    "            time.sleep(sleep_duration)\n",
    "            try:\n",
    "                filename = os.listdir(download_location)[0]\n",
    "            except:\n",
    "                print(\"Index error occured, waiting for a file to appear in directory\")\n",
    "                ## There might be a glitch due to which 'Download' link doesn't get clicked\n",
    "                download_link.click()\n",
    "                time.sleep(sleep_duration + 10)\n",
    "                filename = os.listdir(download_location)[0]\n",
    "            destination_filename = item + '_' + 'Call' + '_' + strike_price.split('.')[0] + '.csv'\n",
    "            shutil.move(os.path.join(download_location,filename),os.path.join(data_file_location, destination_filename))\n",
    "            skip_list.append(item)"
   ]
  },
  {
   "cell_type": "code",
   "execution_count": 149,
   "metadata": {},
   "outputs": [],
   "source": [
    "## skip_items\n",
    "skip_list = list()"
   ]
  },
  {
   "cell_type": "code",
   "execution_count": 151,
   "metadata": {},
   "outputs": [
    {
     "name": "stdout",
     "output_type": "stream",
     "text": [
      "SelectExpiry\n",
      "03-01-2019\n",
      "10-01-2019\n",
      "17-01-2019\n",
      "24-01-2019\n",
      "31-01-2019\n",
      "07-02-2019\n",
      "14-02-2019\n",
      "21-02-2019\n",
      "28-02-2019\n",
      "07-03-2019\n",
      "14-03-2019\n",
      "15-03-2019\n",
      "20-03-2019\n",
      "28-03-2019\n",
      "04-04-2019\n",
      "11-04-2019\n",
      "18-04-2019\n",
      "25-04-2019\n",
      "02-05-2019\n",
      "09-05-2019\n",
      "16-05-2019\n",
      "23-05-2019\n",
      "30-05-2019\n",
      "06-06-2019\n",
      "13-06-2019\n",
      "20-06-2019\n",
      "21-06-2019\n",
      "27-06-2019\n",
      "04-07-2019\n",
      "Skipped item:  04-07-2019\n",
      "11-07-2019\n",
      "Inside if:  11-07-2019\n",
      "18-07-2019\n",
      "Inside if:  18-07-2019\n",
      "25-07-2019\n",
      "Inside if:  25-07-2019\n",
      "Exception occured, waiting and trying again\n",
      "01-08-2019\n",
      "Inside if:  01-08-2019\n",
      "08-08-2019\n",
      "Inside if:  08-08-2019\n",
      "14-08-2019\n",
      "Inside if:  14-08-2019\n",
      "22-08-2019\n",
      "Inside if:  22-08-2019\n",
      "29-08-2019\n",
      "Inside if:  29-08-2019\n",
      "20-09-2019\n",
      "26-09-2019\n",
      "Inside if:  26-09-2019\n",
      "26-12-2019\n"
     ]
    }
   ],
   "source": [
    "## For Put options\n",
    "for index, item in enumerate(expiry_date_list):\n",
    "    print(item)\n",
    "    if item in skip_list:\n",
    "        print('Skipped item: ', item)\n",
    "        continue\n",
    "    if item in list(expiry_dates_mapper.values()):\n",
    "        print('Inside if: ', item)\n",
    "        Select(expiry_date_element).select_by_index(index)\n",
    "        Select(driver.find_element_by_id(\"optionType\")).select_by_index(2)\n",
    "        time.sleep(sleep_duration)\n",
    "        for strike_price in date_price_dict[item]['Put']:\n",
    "            driver.find_element_by_id('strikePrice').clear()\n",
    "            driver.find_element_by_id('strikePrice').send_keys(int(strike_price.split('.')[0]))\n",
    "            driver.find_element_by_id('getButton').click()\n",
    "            time.sleep(sleep_duration)\n",
    "            try:\n",
    "                download_link = WebDriverWait(driver, sleep_duration+20).until(EC.presence_of_element_located((By.LINK_TEXT, \"Download file in csv format\")))\n",
    "                download_link.click()\n",
    "            except:\n",
    "                print('Exception occured, waiting and trying again')\n",
    "                driver.find_element_by_id('getButton').click()\n",
    "                download_link = WebDriverWait(driver, sleep_duration+20).until(EC.presence_of_element_located((By.LINK_TEXT, \"Download file in csv format\")))\n",
    "                download_link.click()\n",
    "            time.sleep(sleep_duration)\n",
    "            try:\n",
    "                filename = os.listdir(download_location)[0]\n",
    "            except:\n",
    "                print(\"Index error occured, waiting for a file to appear in directory\")\n",
    "                ## There might be a glitch due to which 'Download' link doesn't get clicked\n",
    "                download_link.click()\n",
    "                time.sleep(sleep_duration + 10)\n",
    "                filename = os.listdir(download_location)[0]\n",
    "            destination_filename = item + '_' + 'Put' + '_' + strike_price.split('.')[0] + '.csv'\n",
    "            shutil.move(os.path.join(download_location,filename),os.path.join(data_file_location, destination_filename))\n",
    "            skip_list.append(item)\n",
    "        "
   ]
  },
  {
   "cell_type": "markdown",
   "metadata": {},
   "source": [
    "# Append dataframe to respective Date-StrikePrice combo"
   ]
  },
  {
   "cell_type": "code",
   "execution_count": null,
   "metadata": {},
   "outputs": [],
   "source": [
    "dataframe_dict = dict()"
   ]
  },
  {
   "cell_type": "code",
   "execution_count": 183,
   "metadata": {},
   "outputs": [],
   "source": [
    "def process_data_files(data_directory: str, option_type: str, dataframe_dict: dict):\n",
    "    \n",
    "    files_path = os.path.join(data_directory, option_type)\n",
    "    \n",
    "    for file in os.listdir(files_path):\n",
    "    #     print('Processing file:', file)\n",
    "        filename_split = file.split('_')\n",
    "        expiry_date = filename_split[0]\n",
    "        strike_price = filename_split[2].split('.')[0]\n",
    "\n",
    "        if expiry_date not in dataframe_dict.keys():\n",
    "            dataframe_dict[expiry_date] = dict()\n",
    "\n",
    "        if option_type not in dataframe_dict[expiry_date].keys():\n",
    "            dataframe_dict[expiry_date][option_type] = dict()\n",
    "\n",
    "        dataframe_dict[expiry_date][option_type][strike_price] = pd.read_csv(os.path.join(files_path, file))\n",
    "        \n",
    "    return dataframe_dict"
   ]
  },
  {
   "cell_type": "code",
   "execution_count": 184,
   "metadata": {},
   "outputs": [],
   "source": [
    "dataframe_dict = process_data_files('DataFiles','Put',dict())"
   ]
  },
  {
   "cell_type": "code",
   "execution_count": 185,
   "metadata": {},
   "outputs": [],
   "source": [
    "dataframe_dict = process_data_files('DataFiles','Call',dataframe_dict)"
   ]
  },
  {
   "cell_type": "code",
   "execution_count": 262,
   "metadata": {},
   "outputs": [],
   "source": [
    "dataframe_dict_copy = dataframe_dict.copy()"
   ]
  },
  {
   "cell_type": "markdown",
   "metadata": {},
   "source": [
    "## Experiments"
   ]
  },
  {
   "cell_type": "code",
   "execution_count": 244,
   "metadata": {},
   "outputs": [],
   "source": [
    "ohlc = ['Open','High','Low','Close']"
   ]
  },
  {
   "cell_type": "code",
   "execution_count": 197,
   "metadata": {},
   "outputs": [],
   "source": [
    "open_prices = np.array(dataframe_dict['11-07-2019']['Put']['31300']['Open'].tolist())"
   ]
  },
  {
   "cell_type": "code",
   "execution_count": 209,
   "metadata": {},
   "outputs": [
    {
     "data": {
      "text/plain": [
       "array([  0.  ,   0.  ,   0.  ,   0.  ,   0.  ,   0.  ,   0.  ,   0.  ,\n",
       "         0.  ,   0.  ,   0.  ,   0.  ,   0.  ,   0.  ,   0.  ,   0.  ,\n",
       "         0.  ,   0.  ,   0.  ,   0.  ,   0.  ,   0.  ,   0.  ,   0.  ,\n",
       "         0.  ,   0.  , 398.  , 481.7 , 455.65, 280.  ])"
      ]
     },
     "execution_count": 209,
     "metadata": {},
     "output_type": "execute_result"
    }
   ],
   "source": [
    "open_prices"
   ]
  },
  {
   "cell_type": "code",
   "execution_count": 210,
   "metadata": {},
   "outputs": [
    {
     "data": {
      "text/plain": [
       "array([  0.09347727,  -2.95791143,  23.49089475, -32.88310973])"
      ]
     },
     "execution_count": 210,
     "metadata": {},
     "output_type": "execute_result"
    }
   ],
   "source": [
    "result = np.polyfit(range(0, len(open_prices)), open_prices, deg=3)\n",
    "slope = result[-2]\n",
    "# float(slope)\n",
    "result"
   ]
  },
  {
   "cell_type": "code",
   "execution_count": 225,
   "metadata": {},
   "outputs": [
    {
     "data": {
      "text/plain": [
       "array([  0.  ,   0.  ,   0.  ,   0.  ,   0.  ,   0.  ,   0.  ,   0.  ,\n",
       "         0.  ,   0.  ,   0.  ,   0.  ,   0.  ,   0.  ,   0.  ,   0.  ,\n",
       "         0.  ,   0.  ,   0.  ,   0.  ,   0.  ,   0.  ,   0.  ,   0.  ,\n",
       "         0.  ,   0.  , 398.  , 481.7 , 455.65, 280.  ])"
      ]
     },
     "execution_count": 225,
     "metadata": {},
     "output_type": "execute_result"
    }
   ],
   "source": [
    "open_prices"
   ]
  },
  {
   "cell_type": "code",
   "execution_count": 216,
   "metadata": {},
   "outputs": [
    {
     "data": {
      "text/plain": [
       "30"
      ]
     },
     "execution_count": 216,
     "metadata": {},
     "output_type": "execute_result"
    }
   ],
   "source": [
    "open_prices.shape[0]"
   ]
  },
  {
   "cell_type": "code",
   "execution_count": 218,
   "metadata": {},
   "outputs": [],
   "source": [
    "blank = np.zeros(open_prices.shape[0])"
   ]
  },
  {
   "cell_type": "code",
   "execution_count": 230,
   "metadata": {},
   "outputs": [],
   "source": [
    "for i in range(0,open_prices.shape[0]-1) : \n",
    "  \n",
    "    # absolute difference between \n",
    "    # consecutive numbers \n",
    "    diff = open_prices[i+1] - open_prices[i]\n",
    "    blank[i+1]=diff"
   ]
  },
  {
   "cell_type": "code",
   "execution_count": 231,
   "metadata": {},
   "outputs": [
    {
     "data": {
      "text/plain": [
       "array([   0.  ,    0.  ,    0.  ,    0.  ,    0.  ,    0.  ,    0.  ,\n",
       "          0.  ,    0.  ,    0.  ,    0.  ,    0.  ,    0.  ,    0.  ,\n",
       "          0.  ,    0.  ,    0.  ,    0.  ,    0.  ,    0.  ,    0.  ,\n",
       "          0.  ,    0.  ,    0.  ,    0.  ,    0.  ,  398.  ,   83.7 ,\n",
       "        -26.05, -175.65])"
      ]
     },
     "execution_count": 231,
     "metadata": {},
     "output_type": "execute_result"
    }
   ],
   "source": [
    "blank"
   ]
  },
  {
   "cell_type": "code",
   "execution_count": 306,
   "metadata": {},
   "outputs": [],
   "source": [
    "open_prices_df = dataframe_ohlc_all['04-07-2019']['Put']['28200'][ohlc]\n",
    "open_prices_df = open_prices_df[open_prices_df['Open'] != 0]"
   ]
  },
  {
   "cell_type": "code",
   "execution_count": 307,
   "metadata": {},
   "outputs": [
    {
     "data": {
      "text/html": [
       "<div>\n",
       "<style scoped>\n",
       "    .dataframe tbody tr th:only-of-type {\n",
       "        vertical-align: middle;\n",
       "    }\n",
       "\n",
       "    .dataframe tbody tr th {\n",
       "        vertical-align: top;\n",
       "    }\n",
       "\n",
       "    .dataframe thead th {\n",
       "        text-align: right;\n",
       "    }\n",
       "</style>\n",
       "<table border=\"1\" class=\"dataframe\">\n",
       "  <thead>\n",
       "    <tr style=\"text-align: right;\">\n",
       "      <th></th>\n",
       "      <th>Open</th>\n",
       "      <th>High</th>\n",
       "      <th>Low</th>\n",
       "      <th>Close</th>\n",
       "    </tr>\n",
       "  </thead>\n",
       "  <tbody>\n",
       "    <tr>\n",
       "      <th>39</th>\n",
       "      <td>2</td>\n",
       "      <td>2.95</td>\n",
       "      <td>1.25</td>\n",
       "      <td>1.25</td>\n",
       "    </tr>\n",
       "    <tr>\n",
       "      <th>40</th>\n",
       "      <td>2</td>\n",
       "      <td>2.60</td>\n",
       "      <td>0.50</td>\n",
       "      <td>0.80</td>\n",
       "    </tr>\n",
       "    <tr>\n",
       "      <th>41</th>\n",
       "      <td>2</td>\n",
       "      <td>2.70</td>\n",
       "      <td>0.10</td>\n",
       "      <td>0.55</td>\n",
       "    </tr>\n",
       "  </tbody>\n",
       "</table>\n",
       "</div>"
      ],
      "text/plain": [
       "    Open  High   Low  Close\n",
       "39     2  2.95  1.25   1.25\n",
       "40     2  2.60  0.50   0.80\n",
       "41     2  2.70  0.10   0.55"
      ]
     },
     "execution_count": 307,
     "metadata": {},
     "output_type": "execute_result"
    }
   ],
   "source": [
    "open_prices_df"
   ]
  },
  {
   "cell_type": "code",
   "execution_count": 308,
   "metadata": {},
   "outputs": [],
   "source": [
    "profit_loss_open = open_prices_df - open_prices_df.shift(1)"
   ]
  },
  {
   "cell_type": "code",
   "execution_count": 310,
   "metadata": {},
   "outputs": [
    {
     "data": {
      "text/plain": [
       "0.0"
      ]
     },
     "execution_count": 310,
     "metadata": {},
     "output_type": "execute_result"
    }
   ],
   "source": [
    "profit_loss_open['Open'].sum()"
   ]
  },
  {
   "cell_type": "code",
   "execution_count": 294,
   "metadata": {},
   "outputs": [
    {
     "data": {
      "text/html": [
       "<div>\n",
       "<style scoped>\n",
       "    .dataframe tbody tr th:only-of-type {\n",
       "        vertical-align: middle;\n",
       "    }\n",
       "\n",
       "    .dataframe tbody tr th {\n",
       "        vertical-align: top;\n",
       "    }\n",
       "\n",
       "    .dataframe thead th {\n",
       "        text-align: right;\n",
       "    }\n",
       "</style>\n",
       "<table border=\"1\" class=\"dataframe\">\n",
       "  <thead>\n",
       "    <tr style=\"text-align: right;\">\n",
       "      <th></th>\n",
       "      <th>Open</th>\n",
       "      <th>High</th>\n",
       "      <th>Low</th>\n",
       "      <th>Close</th>\n",
       "    </tr>\n",
       "  </thead>\n",
       "  <tbody>\n",
       "    <tr>\n",
       "      <th>30</th>\n",
       "      <td>NaN</td>\n",
       "      <td>NaN</td>\n",
       "      <td>NaN</td>\n",
       "      <td>NaN</td>\n",
       "    </tr>\n",
       "    <tr>\n",
       "      <th>31</th>\n",
       "      <td>-76.20</td>\n",
       "      <td>29.85</td>\n",
       "      <td>-99.50</td>\n",
       "      <td>55.00</td>\n",
       "    </tr>\n",
       "    <tr>\n",
       "      <th>32</th>\n",
       "      <td>-63.80</td>\n",
       "      <td>0.15</td>\n",
       "      <td>4.50</td>\n",
       "      <td>-75.15</td>\n",
       "    </tr>\n",
       "    <tr>\n",
       "      <th>33</th>\n",
       "      <td>109.25</td>\n",
       "      <td>-60.75</td>\n",
       "      <td>-124.25</td>\n",
       "      <td>-186.45</td>\n",
       "    </tr>\n",
       "    <tr>\n",
       "      <th>34</th>\n",
       "      <td>-219.25</td>\n",
       "      <td>-125.15</td>\n",
       "      <td>-17.35</td>\n",
       "      <td>33.25</td>\n",
       "    </tr>\n",
       "    <tr>\n",
       "      <th>35</th>\n",
       "      <td>7.30</td>\n",
       "      <td>-49.85</td>\n",
       "      <td>3.35</td>\n",
       "      <td>-34.35</td>\n",
       "    </tr>\n",
       "    <tr>\n",
       "      <th>36</th>\n",
       "      <td>12.50</td>\n",
       "      <td>10.50</td>\n",
       "      <td>-81.75</td>\n",
       "      <td>-91.95</td>\n",
       "    </tr>\n",
       "    <tr>\n",
       "      <th>37</th>\n",
       "      <td>-124.80</td>\n",
       "      <td>-128.85</td>\n",
       "      <td>-72.30</td>\n",
       "      <td>-83.55</td>\n",
       "    </tr>\n",
       "    <tr>\n",
       "      <th>38</th>\n",
       "      <td>-97.00</td>\n",
       "      <td>-118.00</td>\n",
       "      <td>-33.70</td>\n",
       "      <td>-27.10</td>\n",
       "    </tr>\n",
       "    <tr>\n",
       "      <th>39</th>\n",
       "      <td>-5.35</td>\n",
       "      <td>7.55</td>\n",
       "      <td>3.10</td>\n",
       "      <td>-0.05</td>\n",
       "    </tr>\n",
       "    <tr>\n",
       "      <th>40</th>\n",
       "      <td>-3.70</td>\n",
       "      <td>-26.50</td>\n",
       "      <td>-26.40</td>\n",
       "      <td>-32.20</td>\n",
       "    </tr>\n",
       "    <tr>\n",
       "      <th>41</th>\n",
       "      <td>-29.95</td>\n",
       "      <td>-11.95</td>\n",
       "      <td>-3.35</td>\n",
       "      <td>-3.50</td>\n",
       "    </tr>\n",
       "  </tbody>\n",
       "</table>\n",
       "</div>"
      ],
      "text/plain": [
       "      Open    High     Low   Close\n",
       "30     NaN     NaN     NaN     NaN\n",
       "31  -76.20   29.85  -99.50   55.00\n",
       "32  -63.80    0.15    4.50  -75.15\n",
       "33  109.25  -60.75 -124.25 -186.45\n",
       "34 -219.25 -125.15  -17.35   33.25\n",
       "35    7.30  -49.85    3.35  -34.35\n",
       "36   12.50   10.50  -81.75  -91.95\n",
       "37 -124.80 -128.85  -72.30  -83.55\n",
       "38  -97.00 -118.00  -33.70  -27.10\n",
       "39   -5.35    7.55    3.10   -0.05\n",
       "40   -3.70  -26.50  -26.40  -32.20\n",
       "41  -29.95  -11.95   -3.35   -3.50"
      ]
     },
     "execution_count": 294,
     "metadata": {},
     "output_type": "execute_result"
    }
   ],
   "source": [
    "profit_loss_open"
   ]
  },
  {
   "cell_type": "markdown",
   "metadata": {},
   "source": [
    "# Experiments done"
   ]
  },
  {
   "cell_type": "markdown",
   "metadata": {},
   "source": [
    "## Remove dataframes with 0 in all ohlc data"
   ]
  },
  {
   "cell_type": "code",
   "execution_count": 258,
   "metadata": {},
   "outputs": [],
   "source": [
    "def remove_strike_prices_with_only_zero_values(dataframe_dictionary: dict, option_type: str):\n",
    "    dataframe_dict = dataframe_dictionary.copy()\n",
    "    for expiry_date in list(dataframe_dict.keys()):\n",
    "#         print(\"Expiry date:\", expiry_date)\n",
    "        for strike_price in list(dataframe_dict[expiry_date][option_type].keys()):\n",
    "#             print(\"Strike Price:\", strike_price)\n",
    "            if dataframe_dict[expiry_date][option_type][strike_price]['Open'].sum() == 0:\n",
    "                del dataframe_dict[expiry_date][option_type][strike_price]\n",
    "    return dataframe_dict"
   ]
  },
  {
   "cell_type": "code",
   "execution_count": 263,
   "metadata": {},
   "outputs": [],
   "source": [
    "dataframe_non_zero_put = remove_strike_prices_with_only_zero_values(dataframe_dict_copy, 'Put')\n",
    "dataframe_non_zero_all = remove_strike_prices_with_only_zero_values(dataframe_non_zero_put, 'Call')"
   ]
  },
  {
   "cell_type": "markdown",
   "metadata": {},
   "source": [
    "## Filter OHLC data in all dataframes"
   ]
  },
  {
   "cell_type": "code",
   "execution_count": 270,
   "metadata": {},
   "outputs": [],
   "source": [
    "def filter_ohlc_data(dataframe_dictionary: dict, option_type: str):\n",
    "    dataframe_dict = dataframe_dictionary.copy()\n",
    "    for expiry_date in list(dataframe_dict.keys()):\n",
    "#         print(\"Expiry date:\", expiry_date)\n",
    "        for strike_price in list(dataframe_dict[expiry_date][option_type].keys()):\n",
    "#             print(\"Strike Price:\", strike_price)\n",
    "            dataframe_dict[expiry_date][option_type][strike_price] = dataframe_dict[expiry_date][option_type][strike_price][ohlc]\n",
    "    return dataframe_dict"
   ]
  },
  {
   "cell_type": "code",
   "execution_count": 272,
   "metadata": {},
   "outputs": [],
   "source": [
    "dataframe_ohlc_put = filter_ohlc_data(dataframe_non_zero_all, 'Put')\n",
    "dataframe_ohlc_all = filter_ohlc_data(dataframe_ohlc_put, 'Call')"
   ]
  },
  {
   "cell_type": "markdown",
   "metadata": {},
   "source": [
    "## Get profitable stocks from OHLC"
   ]
  },
  {
   "cell_type": "code",
   "execution_count": 297,
   "metadata": {},
   "outputs": [],
   "source": [
    "## Criteria can be: Open, High, Low, Close\n",
    "def list_profitable_stocks(dataframe_dictionary: dict, option_type: str, criteria: str): \n",
    "    dataframe_dict = dataframe_dictionary.copy()\n",
    "    for expiry_date in list(dataframe_dict.keys()):\n",
    "#         print(\"Expiry date:\", expiry_date)\n",
    "        for strike_price in list(dataframe_dict[expiry_date][option_type].keys()):\n",
    "#             print(\"Strike Price:\", strike_price)\n",
    "            df = dataframe_dict[expiry_date][option_type][strike_price]\n",
    "            profit_loss_df = df - df.shift(1)\n",
    "            profit_loss_value = profit_loss_df[criteria].sum()\n",
    "            if profit_loss_value > 0:\n",
    "                print('Profit in:', expiry_date, option_type, strike_price, \"with value: \", profit_loss_value)\n",
    "\n"
   ]
  },
  {
   "cell_type": "code",
   "execution_count": 298,
   "metadata": {},
   "outputs": [
    {
     "name": "stdout",
     "output_type": "stream",
     "text": [
      "Profit in: 11-07-2019 Put 31300 with value:  280.0\n",
      "Profit in: 11-07-2019 Put 29000 with value:  11.1\n",
      "Profit in: 11-07-2019 Put 30800 with value:  150.35\n",
      "Profit in: 11-07-2019 Put 31100 with value:  247.65\n",
      "Profit in: 11-07-2019 Put 31500 with value:  428.0\n",
      "Profit in: 11-07-2019 Put 31700 with value:  565.75\n",
      "Profit in: 11-07-2019 Put 30900 with value:  176.9\n",
      "Profit in: 11-07-2019 Put 31000 with value:  210.65\n",
      "Profit in: 11-07-2019 Put 31200 with value:  275.0\n",
      "Profit in: 11-07-2019 Put 31600 with value:  508.5\n",
      "Profit in: 11-07-2019 Put 31400 with value:  368.65\n",
      "Profit in: 11-07-2019 Put 29500 with value:  16.1\n",
      "Profit in: 11-07-2019 Put 30300 with value:  53.0\n",
      "Profit in: 11-07-2019 Put 30700 with value:  132.7\n",
      "Profit in: 11-07-2019 Put 30500 with value:  84.8\n",
      "Profit in: 11-07-2019 Put 30200 with value:  50.0\n",
      "Profit in: 11-07-2019 Put 30000 with value:  35.1\n",
      "Profit in: 11-07-2019 Put 31900 with value:  650.0\n",
      "Profit in: 11-07-2019 Put 32000 with value:  870.0\n",
      "Profit in: 11-07-2019 Put 30400 with value:  70.0\n",
      "Profit in: 11-07-2019 Put 30600 with value:  110.0\n",
      "Profit in: 18-07-2019 Put 31200 with value:  395.3\n",
      "Profit in: 29-08-2019 Put 28700 with value:  102.0\n",
      "Profit in: 29-08-2019 Put 32000 with value:  910.0\n",
      "Profit in: 29-08-2019 Put 30000 with value:  277.85\n",
      "Profit in: 29-08-2019 Put 30500 with value:  338.05\n",
      "Profit in: 29-08-2019 Put 29500 with value:  185.0\n",
      "Profit in: 29-08-2019 Put 31000 with value:  518.95\n",
      "Profit in: 29-08-2019 Put 31500 with value:  750.05\n",
      "Profit in: 29-08-2019 Put 29000 with value:  130.0\n",
      "Profit in: 04-07-2019 Put 30500 with value:  9.000000000000036\n",
      "Profit in: 04-07-2019 Put 28400 with value:  1.6\n",
      "Profit in: 04-07-2019 Put 27900 with value:  1.95\n",
      "Profit in: 04-07-2019 Put 28600 with value:  1.75\n",
      "Profit in: 04-07-2019 Put 30700 with value:  16.14999999999997\n",
      "Profit in: 04-07-2019 Put 30300 with value:  5.749999999999988\n",
      "Profit in: 04-07-2019 Put 28200 with value:  2.0\n",
      "Profit in: 04-07-2019 Put 32500 with value:  1141.05\n",
      "Profit in: 04-07-2019 Put 31800 with value:  418.4\n",
      "Profit in: 04-07-2019 Put 29900 with value:  2.799999999999989\n",
      "Profit in: 04-07-2019 Put 30100 with value:  4.349999999999985\n",
      "Profit in: 04-07-2019 Put 28700 with value:  1.95\n",
      "Profit in: 04-07-2019 Put 32200 with value:  797.3\n",
      "Profit in: 04-07-2019 Put 30600 with value:  13.55\n",
      "Profit in: 04-07-2019 Put 30400 with value:  8.0\n",
      "Profit in: 04-07-2019 Put 28500 with value:  0.6499999999999999\n",
      "Profit in: 04-07-2019 Put 27800 with value:  2.1\n",
      "Profit in: 04-07-2019 Put 32000 with value:  614.0\n",
      "Profit in: 04-07-2019 Put 31900 with value:  545.0\n",
      "Profit in: 04-07-2019 Put 28100 with value:  1.5\n",
      "Profit in: 04-07-2019 Put 30000 with value:  3.9999999999999947\n",
      "Profit in: 04-07-2019 Put 29800 with value:  2.4499999999999913\n",
      "Profit in: 04-07-2019 Put 30200 with value:  5.55\n",
      "Profit in: 04-07-2019 Put 28300 with value:  1.55\n",
      "Profit in: 04-07-2019 Put 31700 with value:  337.6\n",
      "Profit in: 04-07-2019 Put 27200 with value:  3.7\n",
      "Profit in: 04-07-2019 Put 29600 with value:  2.350000000000002\n",
      "Profit in: 04-07-2019 Put 29400 with value:  2.1999999999999966\n",
      "Profit in: 04-07-2019 Put 27000 with value:  2.75\n",
      "Profit in: 04-07-2019 Put 31500 with value:  229.8\n",
      "Profit in: 04-07-2019 Put 28900 with value:  1.75\n",
      "Profit in: 04-07-2019 Put 27400 with value:  1.9\n",
      "Profit in: 04-07-2019 Put 31100 with value:  62.0\n",
      "Profit in: 04-07-2019 Put 29000 with value:  2.0500000000000007\n",
      "Profit in: 04-07-2019 Put 30800 with value:  22.900000000000027\n",
      "Profit in: 04-07-2019 Put 29200 with value:  2.1999999999999997\n",
      "Profit in: 04-07-2019 Put 31300 with value:  133.2\n",
      "Profit in: 04-07-2019 Put 29500 with value:  2.4\n",
      "Profit in: 04-07-2019 Put 31400 with value:  171.65\n",
      "Profit in: 04-07-2019 Put 27100 with value:  0.6000000000000001\n",
      "Profit in: 04-07-2019 Put 27300 with value:  1.1\n",
      "Profit in: 04-07-2019 Put 31600 with value:  270.8\n",
      "Profit in: 04-07-2019 Put 29700 with value:  3.3499999999999983\n",
      "Profit in: 04-07-2019 Put 29300 with value:  0.5\n",
      "Profit in: 04-07-2019 Put 27700 with value:  1.6\n",
      "Profit in: 04-07-2019 Put 31200 with value:  86.5\n",
      "Profit in: 04-07-2019 Put 31000 with value:  39.900000000000034\n",
      "Profit in: 04-07-2019 Put 28800 with value:  1.65\n",
      "Profit in: 04-07-2019 Put 30900 with value:  33.8999999999999\n",
      "Profit in: 04-07-2019 Put 29100 with value:  3.4000000000000017\n",
      "Profit in: 25-07-2019 Put 29700 with value:  87.8\n",
      "Profit in: 25-07-2019 Put 31600 with value:  565.25\n",
      "Profit in: 25-07-2019 Put 31400 with value:  485.0\n",
      "Profit in: 25-07-2019 Put 29500 with value:  66.35000000000002\n",
      "Profit in: 25-07-2019 Put 33000 with value:  1599.4999999999998\n",
      "Profit in: 25-07-2019 Put 29100 with value:  45.4\n",
      "Profit in: 25-07-2019 Put 30900 with value:  309.95\n",
      "Profit in: 25-07-2019 Put 27500 with value:  7.0\n",
      "Profit in: 25-07-2019 Put 28800 with value:  37.65\n",
      "Profit in: 25-07-2019 Put 31000 with value:  319.95\n",
      "Profit in: 25-07-2019 Put 31200 with value:  403.2\n",
      "Profit in: 25-07-2019 Put 29300 with value:  51.95\n",
      "Profit in: 25-07-2019 Put 31500 with value:  525.0\n",
      "Profit in: 25-07-2019 Put 27000 with value:  5.200000000000003\n",
      "Profit in: 25-07-2019 Put 29400 with value:  61.6\n",
      "Profit in: 25-07-2019 Put 33300 with value:  1960.0\n",
      "Profit in: 25-07-2019 Put 29600 with value:  76.0\n",
      "Profit in: 25-07-2019 Put 31700 with value:  650.15\n",
      "Profit in: 25-07-2019 Put 31300 with value:  438.45\n",
      "Profit in: 25-07-2019 Put 29200 with value:  45.0\n",
      "Profit in: 25-07-2019 Put 30800 with value:  270.0\n",
      "Profit in: 25-07-2019 Put 29000 with value:  38.00000000000003\n",
      "Profit in: 25-07-2019 Put 31100 with value:  361.25\n",
      "Profit in: 25-07-2019 Put 32000 with value:  800.0\n",
      "Profit in: 25-07-2019 Put 28500 with value:  22.0\n",
      "Profit in: 25-07-2019 Put 30400 with value:  183.9\n",
      "Profit in: 25-07-2019 Put 30600 with value:  226.55\n",
      "Profit in: 25-07-2019 Put 30200 with value:  147.0\n",
      "Profit in: 25-07-2019 Put 29800 with value:  98.55\n",
      "Profit in: 25-07-2019 Put 30700 with value:  247.4\n",
      "Profit in: 25-07-2019 Put 30500 with value:  198.85\n",
      "Profit in: 25-07-2019 Put 30100 with value:  135.9\n",
      "Profit in: 25-07-2019 Put 29900 with value:  103.8\n",
      "Profit in: 25-07-2019 Put 31800 with value:  676.65\n",
      "Profit in: 25-07-2019 Put 32500 with value:  1277.85\n",
      "Profit in: 25-07-2019 Put 28000 with value:  16.499999999999996\n",
      "Profit in: 25-07-2019 Put 30300 with value:  172.05\n"
     ]
    }
   ],
   "source": [
    "dataframe_profitable_put = list_profitable_stocks(dataframe_ohlc_all, 'Put', 'Open')"
   ]
  },
  {
   "cell_type": "code",
   "execution_count": 289,
   "metadata": {},
   "outputs": [
    {
     "name": "stdout",
     "output_type": "stream",
     "text": [
      "Profit in: 11-07-2019 Call 33000\n",
      "Profit in: 11-07-2019 Call 31400\n",
      "Profit in: 11-07-2019 Call 31600\n",
      "Profit in: 11-07-2019 Call 31200\n",
      "Profit in: 11-07-2019 Call 31000\n",
      "Profit in: 11-07-2019 Call 30900\n",
      "Profit in: 11-07-2019 Call 31700\n",
      "Profit in: 11-07-2019 Call 33300\n",
      "Profit in: 11-07-2019 Call 31500\n",
      "Profit in: 11-07-2019 Call 31100\n",
      "Profit in: 11-07-2019 Call 31300\n",
      "Profit in: 11-07-2019 Call 32200\n",
      "Profit in: 11-07-2019 Call 32000\n",
      "Profit in: 11-07-2019 Call 31900\n",
      "Profit in: 11-07-2019 Call 30000\n",
      "Profit in: 11-07-2019 Call 32600\n",
      "Profit in: 11-07-2019 Call 30500\n",
      "Profit in: 11-07-2019 Call 32100\n",
      "Profit in: 11-07-2019 Call 32300\n",
      "Profit in: 11-07-2019 Call 30700\n",
      "Profit in: 11-07-2019 Call 32500\n",
      "Profit in: 11-07-2019 Call 31800\n",
      "Profit in: 29-08-2019 Call 31500\n",
      "Profit in: 29-08-2019 Call 33000\n",
      "Profit in: 29-08-2019 Call 31000\n",
      "Profit in: 29-08-2019 Call 32500\n",
      "Profit in: 29-08-2019 Call 32000\n",
      "Profit in: 04-07-2019 Call 30300\n",
      "Profit in: 04-07-2019 Call 32700\n",
      "Profit in: 04-07-2019 Call 31800\n",
      "Profit in: 04-07-2019 Call 32500\n",
      "Profit in: 04-07-2019 Call 30500\n",
      "Profit in: 04-07-2019 Call 32100\n",
      "Profit in: 04-07-2019 Call 32300\n",
      "Profit in: 04-07-2019 Call 30700\n",
      "Profit in: 04-07-2019 Call 32400\n",
      "Profit in: 04-07-2019 Call 31900\n",
      "Profit in: 04-07-2019 Call 30000\n",
      "Profit in: 04-07-2019 Call 30200\n",
      "Profit in: 04-07-2019 Call 32600\n",
      "Profit in: 04-07-2019 Call 32200\n",
      "Profit in: 04-07-2019 Call 30600\n",
      "Profit in: 04-07-2019 Call 30400\n",
      "Profit in: 04-07-2019 Call 32000\n",
      "Profit in: 04-07-2019 Call 31100\n",
      "Profit in: 04-07-2019 Call 30800\n",
      "Profit in: 04-07-2019 Call 29000\n",
      "Profit in: 04-07-2019 Call 31300\n",
      "Profit in: 04-07-2019 Call 31700\n",
      "Profit in: 04-07-2019 Call 33300\n",
      "Profit in: 04-07-2019 Call 33100\n",
      "Profit in: 04-07-2019 Call 31500\n",
      "Profit in: 04-07-2019 Call 32800\n",
      "Profit in: 04-07-2019 Call 31200\n",
      "Profit in: 04-07-2019 Call 31000\n",
      "Profit in: 04-07-2019 Call 30900\n",
      "Profit in: 04-07-2019 Call 29500\n",
      "Profit in: 04-07-2019 Call 33000\n",
      "Profit in: 04-07-2019 Call 32900\n",
      "Profit in: 04-07-2019 Call 31400\n",
      "Profit in: 04-07-2019 Call 31600\n",
      "Profit in: 04-07-2019 Call 33200\n",
      "Profit in: 25-07-2019 Call 33100\n",
      "Profit in: 25-07-2019 Call 31500\n",
      "Profit in: 25-07-2019 Call 27000\n",
      "Profit in: 25-07-2019 Call 31700\n",
      "Profit in: 25-07-2019 Call 33300\n",
      "Profit in: 25-07-2019 Call 31300\n",
      "Profit in: 25-07-2019 Call 31100\n",
      "Profit in: 25-07-2019 Call 30800\n",
      "Profit in: 25-07-2019 Call 29000\n",
      "Profit in: 25-07-2019 Call 31600\n",
      "Profit in: 25-07-2019 Call 33200\n",
      "Profit in: 25-07-2019 Call 29500\n",
      "Profit in: 25-07-2019 Call 33000\n",
      "Profit in: 25-07-2019 Call 32900\n",
      "Profit in: 25-07-2019 Call 31400\n",
      "Profit in: 25-07-2019 Call 27500\n",
      "Profit in: 25-07-2019 Call 31000\n",
      "Profit in: 25-07-2019 Call 30900\n",
      "Profit in: 25-07-2019 Call 31200\n",
      "Profit in: 25-07-2019 Call 32300\n",
      "Profit in: 25-07-2019 Call 30700\n",
      "Profit in: 25-07-2019 Call 30500\n",
      "Profit in: 25-07-2019 Call 32100\n",
      "Profit in: 25-07-2019 Call 31800\n",
      "Profit in: 25-07-2019 Call 32500\n",
      "Profit in: 25-07-2019 Call 28000\n",
      "Profit in: 25-07-2019 Call 29900\n",
      "Profit in: 25-07-2019 Call 32000\n",
      "Profit in: 25-07-2019 Call 28500\n",
      "Profit in: 25-07-2019 Call 32200\n",
      "Profit in: 25-07-2019 Call 30600\n",
      "Profit in: 25-07-2019 Call 32400\n",
      "Profit in: 25-07-2019 Call 31900\n",
      "Profit in: 25-07-2019 Call 30000\n"
     ]
    }
   ],
   "source": [
    "dataframe_profitable_call = list_profitable_stocks(dataframe_ohlc_all, 'Call', 'Open')"
   ]
  },
  {
   "cell_type": "code",
   "execution_count": null,
   "metadata": {},
   "outputs": [],
   "source": []
  }
 ],
 "metadata": {
  "kernelspec": {
   "display_name": "tradeai",
   "language": "python",
   "name": "tradeai"
  },
  "language_info": {
   "codemirror_mode": {
    "name": "ipython",
    "version": 3
   },
   "file_extension": ".py",
   "mimetype": "text/x-python",
   "name": "python",
   "nbconvert_exporter": "python",
   "pygments_lexer": "ipython3",
   "version": "3.7.1"
  }
 },
 "nbformat": 4,
 "nbformat_minor": 2
}
