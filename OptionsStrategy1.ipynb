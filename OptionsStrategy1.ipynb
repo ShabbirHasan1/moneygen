{
 "cells": [
  {
   "cell_type": "markdown",
   "metadata": {},
   "source": [
    "# Get Available Contracts with respective strike prices\n",
    "## Chosen stock - BANKNIFTY"
   ]
  },
  {
   "cell_type": "code",
   "execution_count": 1,
   "metadata": {},
   "outputs": [],
   "source": [
    "from selenium import webdriver\n",
    "from selenium.webdriver.common.keys import Keys\n",
    "from selenium.webdriver.support.select import Select\n",
    "import time\n",
    "import string"
   ]
  },
  {
   "cell_type": "code",
   "execution_count": 2,
   "metadata": {},
   "outputs": [],
   "source": [
    "## Configurations\n",
    "sleep_duration = 3"
   ]
  },
  {
   "cell_type": "markdown",
   "metadata": {},
   "source": [
    "### Load the chrome webdriver"
   ]
  },
  {
   "cell_type": "code",
   "execution_count": 3,
   "metadata": {},
   "outputs": [],
   "source": [
    "driver = webdriver.Chrome('./chromedriver')"
   ]
  },
  {
   "cell_type": "markdown",
   "metadata": {},
   "source": [
    "### Get the web page using driver for BANKNIFTY"
   ]
  },
  {
   "cell_type": "code",
   "execution_count": 4,
   "metadata": {},
   "outputs": [],
   "source": [
    "driver.get(\"https://nseindia.com/live_market/dynaContent/live_watch/get_quote/GetQuoteFO.jsp?underlying=BANKNIFTY&instrument=FUTIDX&type=-&strike=-&expiry=25JUL2019\")\n",
    "time.sleep(sleep_duration)"
   ]
  },
  {
   "cell_type": "markdown",
   "metadata": {},
   "source": [
    "### Select 'Options' as instrument type"
   ]
  },
  {
   "cell_type": "code",
   "execution_count": 5,
   "metadata": {},
   "outputs": [],
   "source": [
    "instrument_type_element = driver.find_element_by_id(\"instruments\")\n",
    "instrument_selector = Select(instrument_type_element)\n",
    "## Index is always index + 1 because 0 index corresponds to 'Select...'\n",
    "instrument_selector.select_by_index(2)\n",
    "time.sleep(sleep_duration)"
   ]
  },
  {
   "cell_type": "markdown",
   "metadata": {},
   "source": [
    "### Get expiry dates of all available contracts"
   ]
  },
  {
   "cell_type": "code",
   "execution_count": 6,
   "metadata": {},
   "outputs": [],
   "source": [
    "expiry_dates_element = driver.find_element_by_id(\"expiryDates\")\n",
    "expiry_dates = expiry_dates_element.text.split('\\n')[2:].copy()\n",
    "time.sleep(sleep_duration)"
   ]
  },
  {
   "cell_type": "code",
   "execution_count": 7,
   "metadata": {},
   "outputs": [
    {
     "data": {
      "text/plain": [
       "['25JUL2019',\n",
       " '18JUL2019',\n",
       " '11JUL2019',\n",
       " '04JUL2019',\n",
       " '01AUG2019',\n",
       " '08AUG2019',\n",
       " '29AUG2019',\n",
       " '14AUG2019',\n",
       " '22AUG2019',\n",
       " '26SEP2019']"
      ]
     },
     "execution_count": 7,
     "metadata": {},
     "output_type": "execute_result"
    }
   ],
   "source": [
    "expiry_dates"
   ]
  },
  {
   "cell_type": "markdown",
   "metadata": {},
   "source": [
    "### Select expiry dates and populate the strike price list"
   ]
  },
  {
   "cell_type": "code",
   "execution_count": 8,
   "metadata": {},
   "outputs": [
    {
     "name": "stdout",
     "output_type": "stream",
     "text": [
      "Getting strike prices for:  25JUL2019 , having index:  0\n",
      "Length of strike price list for  25JUL2019 Call option:  64\n",
      "Length of strike price list for  25JUL2019 Put option:  64\n",
      "Getting strike prices for:  18JUL2019 , having index:  1\n",
      "Length of strike price list for  18JUL2019 Call option:  61\n",
      "Length of strike price list for  18JUL2019 Put option:  55\n",
      "Getting strike prices for:  11JUL2019 , having index:  2\n",
      "Length of strike price list for  11JUL2019 Call option:  64\n",
      "Length of strike price list for  11JUL2019 Put option:  53\n",
      "Getting strike prices for:  04JUL2019 , having index:  3\n",
      "Length of strike price list for  04JUL2019 Call option:  64\n",
      "Length of strike price list for  04JUL2019 Put option:  64\n",
      "Getting strike prices for:  01AUG2019 , having index:  4\n",
      "Length of strike price list for  01AUG2019 Call option:  34\n",
      "Length of strike price list for  01AUG2019 Put option:  20\n",
      "Getting strike prices for:  08AUG2019 , having index:  5\n",
      "Length of strike price list for  08AUG2019 Call option:  39\n",
      "Length of strike price list for  08AUG2019 Put option:  16\n",
      "Getting strike prices for:  29AUG2019 , having index:  6\n",
      "Length of strike price list for  29AUG2019 Call option:  47\n",
      "Length of strike price list for  29AUG2019 Put option:  47\n",
      "Getting strike prices for:  14AUG2019 , having index:  7\n",
      "Length of strike price list for  14AUG2019 Call option:  43\n",
      "Length of strike price list for  14AUG2019 Put option:  20\n",
      "Getting strike prices for:  22AUG2019 , having index:  8\n",
      "Length of strike price list for  22AUG2019 Call option:  40\n",
      "Length of strike price list for  22AUG2019 Put option:  29\n",
      "Getting strike prices for:  26SEP2019 , having index:  9\n",
      "Length of strike price list for  26SEP2019 Call option:  10\n",
      "Length of strike price list for  26SEP2019 Put option:  3\n"
     ]
    }
   ],
   "source": [
    "date_price_dict = dict()\n",
    "\n",
    "expiry_dates_selector = Select(expiry_dates_element)\n",
    "for index in range(len(expiry_dates)):\n",
    "    print('Getting strike prices for: ', expiry_dates[index], ', having index: ', index)\n",
    "    indexer = index + 1\n",
    "    date_price_dict[expiry_dates[index]] = dict()\n",
    "    \n",
    "    ## Select expiry for a contract\n",
    "    expiry_dates_selector.select_by_index(indexer)\n",
    "    time.sleep(sleep_duration)\n",
    "    \n",
    "    ## Selecting 'Call' option to populate 'Strike Price' list\n",
    "    Select(driver.find_element_by_id(\"optionType\")).select_by_index(1)\n",
    "    time.sleep(sleep_duration)\n",
    "    \n",
    "    ## Populating strike prices for Call option of selected date\n",
    "    strike_price_element = driver.find_element_by_id('strikePrices')\n",
    "    date_price_dict[expiry_dates[index]]['Call'] = strike_price_element.text.split('\\n')[2:].copy()\n",
    "    print('Length of strike price list for ', expiry_dates[index], 'Call option: ', len(date_price_dict[expiry_dates[index]]['Call']))\n",
    "    time.sleep(sleep_duration)\n",
    "    \n",
    "    ## Selecting 'Put' option to populate 'Strike Price' list\n",
    "    Select(driver.find_element_by_id(\"optionType\")).select_by_index(2)\n",
    "    time.sleep(sleep_duration)\n",
    "    \n",
    "    ## Populating strike prices for Put option of selected date\n",
    "    strike_price_element = driver.find_element_by_id('strikePrices')\n",
    "    date_price_dict[expiry_dates[index]]['Put'] = strike_price_element.text.split('\\n')[2:].copy()\n",
    "    print('Length of strike price list for ', expiry_dates[index], 'Put option: ', len(date_price_dict[expiry_dates[index]]['Put']))\n",
    "    time.sleep(sleep_duration)"
   ]
  },
  {
   "cell_type": "code",
   "execution_count": 9,
   "metadata": {},
   "outputs": [],
   "source": [
    "month_mapper = {\n",
    "\"JAN\":\"-1-\",\n",
    "\"FEB\":\"-2-\",\n",
    "\"MAR\":\"-3-\",\n",
    "\"APR\":\"-4-\",\n",
    "\"MAY\":\"-5-\",\n",
    "\"JUN\":\"-6-\",\n",
    "\"JUL\":\"-7-\",\n",
    "\"AUG\":\"-8-\",\n",
    "\"SEP\":\"-9-\",\n",
    "\"OCT\":\"-10-\",\n",
    "\"NOV\":\"-11-\",\n",
    "\"DEC\":\"-12-\"\n",
    "}"
   ]
  },
  {
   "cell_type": "code",
   "execution_count": 10,
   "metadata": {},
   "outputs": [],
   "source": [
    "## Change month name to month number\n",
    "for index, date in enumerate(expiry_dates):\n",
    "    month_name = expiry_dates[index][2:5]\n",
    "    month_number = month_mapper[month_name]\n",
    "    expiry_dates[index] = expiry_dates[index].replace(month_name, month_number)"
   ]
  },
  {
   "cell_type": "code",
   "execution_count": 11,
   "metadata": {},
   "outputs": [
    {
     "data": {
      "text/plain": [
       "['25-7-2019',\n",
       " '18-7-2019',\n",
       " '11-7-2019',\n",
       " '04-7-2019',\n",
       " '01-8-2019',\n",
       " '08-8-2019',\n",
       " '29-8-2019',\n",
       " '14-8-2019',\n",
       " '22-8-2019',\n",
       " '26-9-2019']"
      ]
     },
     "execution_count": 11,
     "metadata": {},
     "output_type": "execute_result"
    }
   ],
   "source": [
    "expiry_dates"
   ]
  },
  {
   "cell_type": "markdown",
   "metadata": {},
   "source": [
    "# Get historical data for All contracts -> All Strike Prices"
   ]
  },
  {
   "cell_type": "code",
   "execution_count": 13,
   "metadata": {},
   "outputs": [],
   "source": [
    "## Configurations\n",
    "instrument_type = 'Index Options'\n",
    "symbol = 'BANK NIFTY'\n",
    "year = '2019'"
   ]
  },
  {
   "cell_type": "code",
   "execution_count": 14,
   "metadata": {},
   "outputs": [],
   "source": [
    "driver.get('https://www.nseindia.com/products/content/derivatives/equities/historical_fo.htm')"
   ]
  },
  {
   "cell_type": "code",
   "execution_count": 15,
   "metadata": {},
   "outputs": [],
   "source": [
    "Select(driver.find_element_by_id('instrumentType')).select_by_index(3) ## Select `Index Options`\n",
    "time.sleep(sleep_duration)\n",
    "Select(driver.find_element_by_id('symbol')).select_by_index(4) ## Select `BANK NIFTY`\n",
    "time.sleep(sleep_duration)\n",
    "Select(driver.find_element_by_id('dateRange')).select_by_index(6) ## Select `BANK NIFTY`\n",
    "time.sleep(sleep_duration)"
   ]
  },
  {
   "cell_type": "code",
   "execution_count": null,
   "metadata": {},
   "outputs": [],
   "source": []
  }
 ],
 "metadata": {
  "kernelspec": {
   "display_name": "tradeai",
   "language": "python",
   "name": "tradeai"
  },
  "language_info": {
   "codemirror_mode": {
    "name": "ipython",
    "version": 3
   },
   "file_extension": ".py",
   "mimetype": "text/x-python",
   "name": "python",
   "nbconvert_exporter": "python",
   "pygments_lexer": "ipython3",
   "version": "3.7.1"
  }
 },
 "nbformat": 4,
 "nbformat_minor": 2
}
