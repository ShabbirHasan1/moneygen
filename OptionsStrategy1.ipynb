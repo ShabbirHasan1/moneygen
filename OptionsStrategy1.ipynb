{
 "cells": [
  {
   "cell_type": "markdown",
   "metadata": {},
   "source": [
    "# Get Available Contracts with respective strike prices\n",
    "## Chosen stock - BANKNIFTY"
   ]
  },
  {
   "cell_type": "code",
   "execution_count": 51,
   "metadata": {},
   "outputs": [],
   "source": [
    "from selenium import webdriver\n",
    "from selenium.webdriver.common.keys import Keys\n",
    "from selenium.webdriver.support.select import Select\n",
    "import time\n",
    "import string\n",
    "import shutil\n",
    "import os"
   ]
  },
  {
   "cell_type": "code",
   "execution_count": 50,
   "metadata": {},
   "outputs": [],
   "source": [
    "## Configurations\n",
    "download_location = r\"/Users/mayank.gupta/Moneygen/Downloads\"\n",
    "data_file_location = r\"/Users/mayank.gupta/Moneygen/DataFiles\"\n",
    "sleep_duration = 3\n",
    "options = webdriver.ChromeOptions() \n",
    "options.add_experimental_option(\"prefs\", {\n",
    "  \"download.default_directory\": download_location,\n",
    "  \"download.prompt_for_download\": False,\n",
    "  \"download.directory_upgrade\": True,\n",
    "  \"safebrowsing.enabled\": True\n",
    "})"
   ]
  },
  {
   "cell_type": "markdown",
   "metadata": {},
   "source": [
    "### Load the chrome webdriver"
   ]
  },
  {
   "cell_type": "code",
   "execution_count": 3,
   "metadata": {},
   "outputs": [
    {
     "name": "stderr",
     "output_type": "stream",
     "text": [
      "/Users/mayank.gupta/venv/tradeai/lib/python3.7/site-packages/ipykernel_launcher.py:1: DeprecationWarning: use options instead of chrome_options\n",
      "  \"\"\"Entry point for launching an IPython kernel.\n"
     ]
    }
   ],
   "source": [
    "driver = webdriver.Chrome(executable_path = './chromedriver', chrome_options = options)"
   ]
  },
  {
   "cell_type": "markdown",
   "metadata": {},
   "source": [
    "### Get the web page using driver for BANKNIFTY"
   ]
  },
  {
   "cell_type": "code",
   "execution_count": 4,
   "metadata": {},
   "outputs": [],
   "source": [
    "driver.get(\"https://nseindia.com/live_market/dynaContent/live_watch/get_quote/GetQuoteFO.jsp?underlying=BANKNIFTY&instrument=FUTIDX&type=-&strike=-&expiry=25JUL2019\")\n",
    "time.sleep(sleep_duration)"
   ]
  },
  {
   "cell_type": "markdown",
   "metadata": {},
   "source": [
    "### Select 'Options' as instrument type"
   ]
  },
  {
   "cell_type": "code",
   "execution_count": 5,
   "metadata": {},
   "outputs": [],
   "source": [
    "instrument_type_element = driver.find_element_by_id(\"instruments\")\n",
    "instrument_selector = Select(instrument_type_element)\n",
    "## Index is always index + 1 because 0 index corresponds to 'Select...'\n",
    "instrument_selector.select_by_index(2)\n",
    "time.sleep(sleep_duration)"
   ]
  },
  {
   "cell_type": "markdown",
   "metadata": {},
   "source": [
    "### Get expiry dates of all available contracts"
   ]
  },
  {
   "cell_type": "code",
   "execution_count": 6,
   "metadata": {},
   "outputs": [],
   "source": [
    "expiry_dates_element = driver.find_element_by_id(\"expiryDates\")\n",
    "expiry_dates = expiry_dates_element.text.split('\\n')[2:].copy()\n",
    "time.sleep(sleep_duration)"
   ]
  },
  {
   "cell_type": "code",
   "execution_count": 7,
   "metadata": {},
   "outputs": [
    {
     "data": {
      "text/plain": [
       "['25JUL2019',\n",
       " '18JUL2019',\n",
       " '11JUL2019',\n",
       " '04JUL2019',\n",
       " '01AUG2019',\n",
       " '08AUG2019',\n",
       " '29AUG2019',\n",
       " '14AUG2019',\n",
       " '22AUG2019',\n",
       " '26SEP2019']"
      ]
     },
     "execution_count": 7,
     "metadata": {},
     "output_type": "execute_result"
    }
   ],
   "source": [
    "expiry_dates"
   ]
  },
  {
   "cell_type": "markdown",
   "metadata": {},
   "source": [
    "### Select expiry dates and populate the strike price list"
   ]
  },
  {
   "cell_type": "code",
   "execution_count": 8,
   "metadata": {},
   "outputs": [
    {
     "name": "stdout",
     "output_type": "stream",
     "text": [
      "Getting strike prices for:  25JUL2019 , having index:  0\n",
      "Length of strike price list for  25JUL2019 Call option:  64\n",
      "Length of strike price list for  25JUL2019 Put option:  64\n",
      "Getting strike prices for:  18JUL2019 , having index:  1\n",
      "Length of strike price list for  18JUL2019 Call option:  61\n",
      "Length of strike price list for  18JUL2019 Put option:  49\n",
      "Getting strike prices for:  11JUL2019 , having index:  2\n",
      "Length of strike price list for  11JUL2019 Call option:  64\n",
      "Length of strike price list for  11JUL2019 Put option:  50\n",
      "Getting strike prices for:  04JUL2019 , having index:  3\n",
      "Length of strike price list for  04JUL2019 Call option:  64\n",
      "Length of strike price list for  04JUL2019 Put option:  64\n",
      "Getting strike prices for:  01AUG2019 , having index:  4\n",
      "Length of strike price list for  01AUG2019 Call option:  36\n",
      "Length of strike price list for  01AUG2019 Put option:  22\n",
      "Getting strike prices for:  08AUG2019 , having index:  5\n",
      "Length of strike price list for  08AUG2019 Call option:  40\n",
      "Length of strike price list for  08AUG2019 Put option:  17\n",
      "Getting strike prices for:  29AUG2019 , having index:  6\n",
      "Length of strike price list for  29AUG2019 Call option:  47\n",
      "Length of strike price list for  29AUG2019 Put option:  47\n",
      "Getting strike prices for:  14AUG2019 , having index:  7\n",
      "Length of strike price list for  14AUG2019 Call option:  43\n",
      "Length of strike price list for  14AUG2019 Put option:  21\n",
      "Getting strike prices for:  22AUG2019 , having index:  8\n",
      "Length of strike price list for  22AUG2019 Call option:  41\n",
      "Length of strike price list for  22AUG2019 Put option:  23\n",
      "Getting strike prices for:  26SEP2019 , having index:  9\n",
      "Length of strike price list for  26SEP2019 Call option:  8\n",
      "Length of strike price list for  26SEP2019 Put option:  6\n"
     ]
    }
   ],
   "source": [
    "date_price_dict = dict()\n",
    "\n",
    "expiry_dates_selector = Select(expiry_dates_element)\n",
    "for index in range(len(expiry_dates)):\n",
    "    print('Getting strike prices for: ', expiry_dates[index], ', having index: ', index)\n",
    "    indexer = index + 1\n",
    "    date_price_dict[expiry_dates[index]] = dict()\n",
    "    \n",
    "    ## Select expiry for a contract\n",
    "    expiry_dates_selector.select_by_index(indexer)\n",
    "    time.sleep(sleep_duration)\n",
    "    \n",
    "    ## Selecting 'Call' option to populate 'Strike Price' list\n",
    "    Select(driver.find_element_by_id(\"optionType\")).select_by_index(1)\n",
    "    time.sleep(sleep_duration)\n",
    "    \n",
    "    ## Populating strike prices for Call option of selected date\n",
    "    strike_price_element = driver.find_element_by_id('strikePrices')\n",
    "    date_price_dict[expiry_dates[index]]['Call'] = strike_price_element.text.split('\\n')[2:].copy()\n",
    "    print('Length of strike price list for ', expiry_dates[index], 'Call option: ', len(date_price_dict[expiry_dates[index]]['Call']))\n",
    "    time.sleep(sleep_duration)\n",
    "    \n",
    "    ## Selecting 'Put' option to populate 'Strike Price' list\n",
    "    Select(driver.find_element_by_id(\"optionType\")).select_by_index(2)\n",
    "    time.sleep(sleep_duration)\n",
    "    \n",
    "    ## Populating strike prices for Put option of selected date\n",
    "    strike_price_element = driver.find_element_by_id('strikePrices')\n",
    "    date_price_dict[expiry_dates[index]]['Put'] = strike_price_element.text.split('\\n')[2:].copy()\n",
    "    print('Length of strike price list for ', expiry_dates[index], 'Put option: ', len(date_price_dict[expiry_dates[index]]['Put']))\n",
    "    time.sleep(sleep_duration)"
   ]
  },
  {
   "cell_type": "code",
   "execution_count": 9,
   "metadata": {},
   "outputs": [],
   "source": [
    "month_mapper = {\n",
    "\"JAN\":\"-01-\",\n",
    "\"FEB\":\"-02-\",\n",
    "\"MAR\":\"-03-\",\n",
    "\"APR\":\"-04-\",\n",
    "\"MAY\":\"-05-\",\n",
    "\"JUN\":\"-06-\",\n",
    "\"JUL\":\"-07-\",\n",
    "\"AUG\":\"-08-\",\n",
    "\"SEP\":\"-09-\",\n",
    "\"OCT\":\"-10-\",\n",
    "\"NOV\":\"-11-\",\n",
    "\"DEC\":\"-12-\"\n",
    "}"
   ]
  },
  {
   "cell_type": "code",
   "execution_count": 10,
   "metadata": {},
   "outputs": [],
   "source": [
    "expiry_dates_mapper = dict()\n",
    "## Change month name to month number\n",
    "for index, date in enumerate(expiry_dates):\n",
    "    month_name = expiry_dates[index][2:5]\n",
    "    month_number = month_mapper[month_name]\n",
    "    expiry_dates_mapper[expiry_dates[index]] = expiry_dates[index].replace(month_name, month_number)"
   ]
  },
  {
   "cell_type": "code",
   "execution_count": 11,
   "metadata": {},
   "outputs": [
    {
     "data": {
      "text/plain": [
       "{'25JUL2019': '25-07-2019',\n",
       " '18JUL2019': '18-07-2019',\n",
       " '11JUL2019': '11-07-2019',\n",
       " '04JUL2019': '04-07-2019',\n",
       " '01AUG2019': '01-08-2019',\n",
       " '08AUG2019': '08-08-2019',\n",
       " '29AUG2019': '29-08-2019',\n",
       " '14AUG2019': '14-08-2019',\n",
       " '22AUG2019': '22-08-2019',\n",
       " '26SEP2019': '26-09-2019'}"
      ]
     },
     "execution_count": 11,
     "metadata": {},
     "output_type": "execute_result"
    }
   ],
   "source": [
    "expiry_dates_mapper"
   ]
  },
  {
   "cell_type": "code",
   "execution_count": 12,
   "metadata": {},
   "outputs": [],
   "source": [
    "for old_key, new_key in zip(expiry_dates_mapper.keys(), expiry_dates_mapper.values()):\n",
    "    date_price_dict[new_key] = date_price_dict.pop(old_key)"
   ]
  },
  {
   "cell_type": "code",
   "execution_count": 13,
   "metadata": {},
   "outputs": [
    {
     "data": {
      "text/plain": [
       "dict_keys(['25-07-2019', '18-07-2019', '11-07-2019', '04-07-2019', '01-08-2019', '08-08-2019', '29-08-2019', '14-08-2019', '22-08-2019', '26-09-2019'])"
      ]
     },
     "execution_count": 13,
     "metadata": {},
     "output_type": "execute_result"
    }
   ],
   "source": [
    "date_price_dict.keys()"
   ]
  },
  {
   "cell_type": "markdown",
   "metadata": {},
   "source": [
    "# Get historical data for All contracts -> All Strike Prices"
   ]
  },
  {
   "cell_type": "code",
   "execution_count": 14,
   "metadata": {},
   "outputs": [],
   "source": [
    "## Configurations\n",
    "instrument_type = 'Index Options'\n",
    "symbol = 'BANK NIFTY'\n",
    "year = '2019'"
   ]
  },
  {
   "cell_type": "code",
   "execution_count": 69,
   "metadata": {},
   "outputs": [
    {
     "name": "stderr",
     "output_type": "stream",
     "text": [
      "/Users/mayank.gupta/venv/tradeai/lib/python3.7/site-packages/ipykernel_launcher.py:1: DeprecationWarning: use options instead of chrome_options\n",
      "  \"\"\"Entry point for launching an IPython kernel.\n"
     ]
    }
   ],
   "source": [
    "driver = webdriver.Chrome(executable_path = './chromedriver', chrome_options = options)\n",
    "driver.get('https://www.nseindia.com/products/content/derivatives/equities/historical_fo.htm')"
   ]
  },
  {
   "cell_type": "code",
   "execution_count": 70,
   "metadata": {},
   "outputs": [],
   "source": [
    "Select(driver.find_element_by_id('instrumentType')).select_by_index(3) ## Select `Index Options`\n",
    "time.sleep(sleep_duration)\n",
    "Select(driver.find_element_by_id('symbol')).select_by_index(4) ## Select `BANK NIFTY`\n",
    "time.sleep(sleep_duration)\n",
    "Select(driver.find_element_by_id('dateRange')).select_by_index(6) ## Select `BANK NIFTY`\n",
    "time.sleep(sleep_duration)\n",
    "Select(driver.find_element_by_id('year')).select_by_index(5) ## Select `BANK NIFTY`\n",
    "time.sleep(sleep_duration)"
   ]
  },
  {
   "cell_type": "code",
   "execution_count": 71,
   "metadata": {},
   "outputs": [],
   "source": [
    "expiry_date_element = driver.find_element_by_id('expiryDate') ## Get expiryDates on website\n",
    "expiry_date_list = expiry_date_element.text.replace(' ','').split('\\n') ## Remove white spaces and split by newline"
   ]
  },
  {
   "cell_type": "code",
   "execution_count": 72,
   "metadata": {},
   "outputs": [
    {
     "name": "stdout",
     "output_type": "stream",
     "text": [
      "SelectExpiry\n",
      "03-01-2019\n",
      "10-01-2019\n",
      "17-01-2019\n",
      "24-01-2019\n",
      "31-01-2019\n",
      "07-02-2019\n",
      "14-02-2019\n",
      "21-02-2019\n",
      "28-02-2019\n",
      "07-03-2019\n",
      "14-03-2019\n",
      "15-03-2019\n",
      "20-03-2019\n",
      "28-03-2019\n",
      "04-04-2019\n",
      "11-04-2019\n",
      "18-04-2019\n",
      "25-04-2019\n",
      "02-05-2019\n",
      "09-05-2019\n",
      "16-05-2019\n",
      "23-05-2019\n",
      "30-05-2019\n",
      "06-06-2019\n",
      "13-06-2019\n",
      "20-06-2019\n",
      "21-06-2019\n",
      "27-06-2019\n",
      "04-07-2019\n",
      "Exception occured, waiting and trying again\n",
      "Exception occured, waiting and trying again\n",
      "Exception occured, waiting and trying again\n"
     ]
    },
    {
     "ename": "NoSuchElementException",
     "evalue": "Message: no such element: Unable to locate element: {\"method\":\"link text\",\"selector\":\"Download file in csv format\"}\n  (Session info: chrome=75.0.3770.100)\n",
     "output_type": "error",
     "traceback": [
      "\u001b[0;31m---------------------------------------------------------------------------\u001b[0m",
      "\u001b[0;31mNoSuchElementException\u001b[0m                    Traceback (most recent call last)",
      "\u001b[0;32m<ipython-input-72-2d12f69e6275>\u001b[0m in \u001b[0;36m<module>\u001b[0;34m\u001b[0m\n\u001b[1;32m     14\u001b[0m             \u001b[0;32mtry\u001b[0m\u001b[0;34m:\u001b[0m\u001b[0;34m\u001b[0m\u001b[0;34m\u001b[0m\u001b[0m\n\u001b[0;32m---> 15\u001b[0;31m                 \u001b[0mdriver\u001b[0m\u001b[0;34m.\u001b[0m\u001b[0mfind_element_by_link_text\u001b[0m\u001b[0;34m(\u001b[0m\u001b[0;34m'Download file in csv format'\u001b[0m\u001b[0;34m)\u001b[0m\u001b[0;34m.\u001b[0m\u001b[0mclick\u001b[0m\u001b[0;34m(\u001b[0m\u001b[0;34m)\u001b[0m\u001b[0;34m\u001b[0m\u001b[0;34m\u001b[0m\u001b[0m\n\u001b[0m\u001b[1;32m     16\u001b[0m             \u001b[0;32mexcept\u001b[0m\u001b[0;34m:\u001b[0m\u001b[0;34m\u001b[0m\u001b[0;34m\u001b[0m\u001b[0m\n",
      "\u001b[0;32m~/venv/tradeai/lib/python3.7/site-packages/selenium/webdriver/remote/webdriver.py\u001b[0m in \u001b[0;36mfind_element_by_link_text\u001b[0;34m(self, link_text)\u001b[0m\n\u001b[1;32m    427\u001b[0m         \"\"\"\n\u001b[0;32m--> 428\u001b[0;31m         \u001b[0;32mreturn\u001b[0m \u001b[0mself\u001b[0m\u001b[0;34m.\u001b[0m\u001b[0mfind_element\u001b[0m\u001b[0;34m(\u001b[0m\u001b[0mby\u001b[0m\u001b[0;34m=\u001b[0m\u001b[0mBy\u001b[0m\u001b[0;34m.\u001b[0m\u001b[0mLINK_TEXT\u001b[0m\u001b[0;34m,\u001b[0m \u001b[0mvalue\u001b[0m\u001b[0;34m=\u001b[0m\u001b[0mlink_text\u001b[0m\u001b[0;34m)\u001b[0m\u001b[0;34m\u001b[0m\u001b[0;34m\u001b[0m\u001b[0m\n\u001b[0m\u001b[1;32m    429\u001b[0m \u001b[0;34m\u001b[0m\u001b[0m\n",
      "\u001b[0;32m~/venv/tradeai/lib/python3.7/site-packages/selenium/webdriver/remote/webdriver.py\u001b[0m in \u001b[0;36mfind_element\u001b[0;34m(self, by, value)\u001b[0m\n\u001b[1;32m    977\u001b[0m             \u001b[0;34m'using'\u001b[0m\u001b[0;34m:\u001b[0m \u001b[0mby\u001b[0m\u001b[0;34m,\u001b[0m\u001b[0;34m\u001b[0m\u001b[0;34m\u001b[0m\u001b[0m\n\u001b[0;32m--> 978\u001b[0;31m             'value': value})['value']\n\u001b[0m\u001b[1;32m    979\u001b[0m \u001b[0;34m\u001b[0m\u001b[0m\n",
      "\u001b[0;32m~/venv/tradeai/lib/python3.7/site-packages/selenium/webdriver/remote/webdriver.py\u001b[0m in \u001b[0;36mexecute\u001b[0;34m(self, driver_command, params)\u001b[0m\n\u001b[1;32m    320\u001b[0m         \u001b[0;32mif\u001b[0m \u001b[0mresponse\u001b[0m\u001b[0;34m:\u001b[0m\u001b[0;34m\u001b[0m\u001b[0;34m\u001b[0m\u001b[0m\n\u001b[0;32m--> 321\u001b[0;31m             \u001b[0mself\u001b[0m\u001b[0;34m.\u001b[0m\u001b[0merror_handler\u001b[0m\u001b[0;34m.\u001b[0m\u001b[0mcheck_response\u001b[0m\u001b[0;34m(\u001b[0m\u001b[0mresponse\u001b[0m\u001b[0;34m)\u001b[0m\u001b[0;34m\u001b[0m\u001b[0;34m\u001b[0m\u001b[0m\n\u001b[0m\u001b[1;32m    322\u001b[0m             response['value'] = self._unwrap_value(\n",
      "\u001b[0;32m~/venv/tradeai/lib/python3.7/site-packages/selenium/webdriver/remote/errorhandler.py\u001b[0m in \u001b[0;36mcheck_response\u001b[0;34m(self, response)\u001b[0m\n\u001b[1;32m    241\u001b[0m             \u001b[0;32mraise\u001b[0m \u001b[0mexception_class\u001b[0m\u001b[0;34m(\u001b[0m\u001b[0mmessage\u001b[0m\u001b[0;34m,\u001b[0m \u001b[0mscreen\u001b[0m\u001b[0;34m,\u001b[0m \u001b[0mstacktrace\u001b[0m\u001b[0;34m,\u001b[0m \u001b[0malert_text\u001b[0m\u001b[0;34m)\u001b[0m\u001b[0;34m\u001b[0m\u001b[0;34m\u001b[0m\u001b[0m\n\u001b[0;32m--> 242\u001b[0;31m         \u001b[0;32mraise\u001b[0m \u001b[0mexception_class\u001b[0m\u001b[0;34m(\u001b[0m\u001b[0mmessage\u001b[0m\u001b[0;34m,\u001b[0m \u001b[0mscreen\u001b[0m\u001b[0;34m,\u001b[0m \u001b[0mstacktrace\u001b[0m\u001b[0;34m)\u001b[0m\u001b[0;34m\u001b[0m\u001b[0;34m\u001b[0m\u001b[0m\n\u001b[0m\u001b[1;32m    243\u001b[0m \u001b[0;34m\u001b[0m\u001b[0m\n",
      "\u001b[0;31mNoSuchElementException\u001b[0m: Message: no such element: Unable to locate element: {\"method\":\"link text\",\"selector\":\"Download file in csv format\"}\n  (Session info: chrome=75.0.3770.100)\n",
      "\nDuring handling of the above exception, another exception occurred:\n",
      "\u001b[0;31mNoSuchElementException\u001b[0m                    Traceback (most recent call last)",
      "\u001b[0;32m<ipython-input-72-2d12f69e6275>\u001b[0m in \u001b[0;36m<module>\u001b[0;34m\u001b[0m\n\u001b[1;32m     17\u001b[0m                 \u001b[0mprint\u001b[0m\u001b[0;34m(\u001b[0m\u001b[0;34m'Exception occured, waiting and trying again'\u001b[0m\u001b[0;34m)\u001b[0m\u001b[0;34m\u001b[0m\u001b[0;34m\u001b[0m\u001b[0m\n\u001b[1;32m     18\u001b[0m                 \u001b[0mtime\u001b[0m\u001b[0;34m.\u001b[0m\u001b[0msleep\u001b[0m\u001b[0;34m(\u001b[0m\u001b[0msleep_duration\u001b[0m \u001b[0;34m+\u001b[0m \u001b[0;36m10\u001b[0m\u001b[0;34m)\u001b[0m\u001b[0;34m\u001b[0m\u001b[0;34m\u001b[0m\u001b[0m\n\u001b[0;32m---> 19\u001b[0;31m                 \u001b[0mdriver\u001b[0m\u001b[0;34m.\u001b[0m\u001b[0mfind_element_by_link_text\u001b[0m\u001b[0;34m(\u001b[0m\u001b[0;34m'Download file in csv format'\u001b[0m\u001b[0;34m)\u001b[0m\u001b[0;34m.\u001b[0m\u001b[0mclick\u001b[0m\u001b[0;34m(\u001b[0m\u001b[0;34m)\u001b[0m\u001b[0;34m\u001b[0m\u001b[0;34m\u001b[0m\u001b[0m\n\u001b[0m\u001b[1;32m     20\u001b[0m             \u001b[0mtime\u001b[0m\u001b[0;34m.\u001b[0m\u001b[0msleep\u001b[0m\u001b[0;34m(\u001b[0m\u001b[0msleep_duration\u001b[0m\u001b[0;34m)\u001b[0m\u001b[0;34m\u001b[0m\u001b[0;34m\u001b[0m\u001b[0m\n\u001b[1;32m     21\u001b[0m             \u001b[0mfilename\u001b[0m \u001b[0;34m=\u001b[0m \u001b[0mos\u001b[0m\u001b[0;34m.\u001b[0m\u001b[0mlistdir\u001b[0m\u001b[0;34m(\u001b[0m\u001b[0mdownload_location\u001b[0m\u001b[0;34m)\u001b[0m\u001b[0;34m[\u001b[0m\u001b[0;36m0\u001b[0m\u001b[0;34m]\u001b[0m\u001b[0;34m\u001b[0m\u001b[0;34m\u001b[0m\u001b[0m\n",
      "\u001b[0;32m~/venv/tradeai/lib/python3.7/site-packages/selenium/webdriver/remote/webdriver.py\u001b[0m in \u001b[0;36mfind_element_by_link_text\u001b[0;34m(self, link_text)\u001b[0m\n\u001b[1;32m    426\u001b[0m             \u001b[0melement\u001b[0m \u001b[0;34m=\u001b[0m \u001b[0mdriver\u001b[0m\u001b[0;34m.\u001b[0m\u001b[0mfind_element_by_link_text\u001b[0m\u001b[0;34m(\u001b[0m\u001b[0;34m'Sign In'\u001b[0m\u001b[0;34m)\u001b[0m\u001b[0;34m\u001b[0m\u001b[0;34m\u001b[0m\u001b[0m\n\u001b[1;32m    427\u001b[0m         \"\"\"\n\u001b[0;32m--> 428\u001b[0;31m         \u001b[0;32mreturn\u001b[0m \u001b[0mself\u001b[0m\u001b[0;34m.\u001b[0m\u001b[0mfind_element\u001b[0m\u001b[0;34m(\u001b[0m\u001b[0mby\u001b[0m\u001b[0;34m=\u001b[0m\u001b[0mBy\u001b[0m\u001b[0;34m.\u001b[0m\u001b[0mLINK_TEXT\u001b[0m\u001b[0;34m,\u001b[0m \u001b[0mvalue\u001b[0m\u001b[0;34m=\u001b[0m\u001b[0mlink_text\u001b[0m\u001b[0;34m)\u001b[0m\u001b[0;34m\u001b[0m\u001b[0;34m\u001b[0m\u001b[0m\n\u001b[0m\u001b[1;32m    429\u001b[0m \u001b[0;34m\u001b[0m\u001b[0m\n\u001b[1;32m    430\u001b[0m     \u001b[0;32mdef\u001b[0m \u001b[0mfind_elements_by_link_text\u001b[0m\u001b[0;34m(\u001b[0m\u001b[0mself\u001b[0m\u001b[0;34m,\u001b[0m \u001b[0mtext\u001b[0m\u001b[0;34m)\u001b[0m\u001b[0;34m:\u001b[0m\u001b[0;34m\u001b[0m\u001b[0;34m\u001b[0m\u001b[0m\n",
      "\u001b[0;32m~/venv/tradeai/lib/python3.7/site-packages/selenium/webdriver/remote/webdriver.py\u001b[0m in \u001b[0;36mfind_element\u001b[0;34m(self, by, value)\u001b[0m\n\u001b[1;32m    976\u001b[0m         return self.execute(Command.FIND_ELEMENT, {\n\u001b[1;32m    977\u001b[0m             \u001b[0;34m'using'\u001b[0m\u001b[0;34m:\u001b[0m \u001b[0mby\u001b[0m\u001b[0;34m,\u001b[0m\u001b[0;34m\u001b[0m\u001b[0;34m\u001b[0m\u001b[0m\n\u001b[0;32m--> 978\u001b[0;31m             'value': value})['value']\n\u001b[0m\u001b[1;32m    979\u001b[0m \u001b[0;34m\u001b[0m\u001b[0m\n\u001b[1;32m    980\u001b[0m     \u001b[0;32mdef\u001b[0m \u001b[0mfind_elements\u001b[0m\u001b[0;34m(\u001b[0m\u001b[0mself\u001b[0m\u001b[0;34m,\u001b[0m \u001b[0mby\u001b[0m\u001b[0;34m=\u001b[0m\u001b[0mBy\u001b[0m\u001b[0;34m.\u001b[0m\u001b[0mID\u001b[0m\u001b[0;34m,\u001b[0m \u001b[0mvalue\u001b[0m\u001b[0;34m=\u001b[0m\u001b[0;32mNone\u001b[0m\u001b[0;34m)\u001b[0m\u001b[0;34m:\u001b[0m\u001b[0;34m\u001b[0m\u001b[0;34m\u001b[0m\u001b[0m\n",
      "\u001b[0;32m~/venv/tradeai/lib/python3.7/site-packages/selenium/webdriver/remote/webdriver.py\u001b[0m in \u001b[0;36mexecute\u001b[0;34m(self, driver_command, params)\u001b[0m\n\u001b[1;32m    319\u001b[0m         \u001b[0mresponse\u001b[0m \u001b[0;34m=\u001b[0m \u001b[0mself\u001b[0m\u001b[0;34m.\u001b[0m\u001b[0mcommand_executor\u001b[0m\u001b[0;34m.\u001b[0m\u001b[0mexecute\u001b[0m\u001b[0;34m(\u001b[0m\u001b[0mdriver_command\u001b[0m\u001b[0;34m,\u001b[0m \u001b[0mparams\u001b[0m\u001b[0;34m)\u001b[0m\u001b[0;34m\u001b[0m\u001b[0;34m\u001b[0m\u001b[0m\n\u001b[1;32m    320\u001b[0m         \u001b[0;32mif\u001b[0m \u001b[0mresponse\u001b[0m\u001b[0;34m:\u001b[0m\u001b[0;34m\u001b[0m\u001b[0;34m\u001b[0m\u001b[0m\n\u001b[0;32m--> 321\u001b[0;31m             \u001b[0mself\u001b[0m\u001b[0;34m.\u001b[0m\u001b[0merror_handler\u001b[0m\u001b[0;34m.\u001b[0m\u001b[0mcheck_response\u001b[0m\u001b[0;34m(\u001b[0m\u001b[0mresponse\u001b[0m\u001b[0;34m)\u001b[0m\u001b[0;34m\u001b[0m\u001b[0;34m\u001b[0m\u001b[0m\n\u001b[0m\u001b[1;32m    322\u001b[0m             response['value'] = self._unwrap_value(\n\u001b[1;32m    323\u001b[0m                 response.get('value', None))\n",
      "\u001b[0;32m~/venv/tradeai/lib/python3.7/site-packages/selenium/webdriver/remote/errorhandler.py\u001b[0m in \u001b[0;36mcheck_response\u001b[0;34m(self, response)\u001b[0m\n\u001b[1;32m    240\u001b[0m                 \u001b[0malert_text\u001b[0m \u001b[0;34m=\u001b[0m \u001b[0mvalue\u001b[0m\u001b[0;34m[\u001b[0m\u001b[0;34m'alert'\u001b[0m\u001b[0;34m]\u001b[0m\u001b[0;34m.\u001b[0m\u001b[0mget\u001b[0m\u001b[0;34m(\u001b[0m\u001b[0;34m'text'\u001b[0m\u001b[0;34m)\u001b[0m\u001b[0;34m\u001b[0m\u001b[0;34m\u001b[0m\u001b[0m\n\u001b[1;32m    241\u001b[0m             \u001b[0;32mraise\u001b[0m \u001b[0mexception_class\u001b[0m\u001b[0;34m(\u001b[0m\u001b[0mmessage\u001b[0m\u001b[0;34m,\u001b[0m \u001b[0mscreen\u001b[0m\u001b[0;34m,\u001b[0m \u001b[0mstacktrace\u001b[0m\u001b[0;34m,\u001b[0m \u001b[0malert_text\u001b[0m\u001b[0;34m)\u001b[0m\u001b[0;34m\u001b[0m\u001b[0;34m\u001b[0m\u001b[0m\n\u001b[0;32m--> 242\u001b[0;31m         \u001b[0;32mraise\u001b[0m \u001b[0mexception_class\u001b[0m\u001b[0;34m(\u001b[0m\u001b[0mmessage\u001b[0m\u001b[0;34m,\u001b[0m \u001b[0mscreen\u001b[0m\u001b[0;34m,\u001b[0m \u001b[0mstacktrace\u001b[0m\u001b[0;34m)\u001b[0m\u001b[0;34m\u001b[0m\u001b[0;34m\u001b[0m\u001b[0m\n\u001b[0m\u001b[1;32m    243\u001b[0m \u001b[0;34m\u001b[0m\u001b[0m\n\u001b[1;32m    244\u001b[0m     \u001b[0;32mdef\u001b[0m \u001b[0m_value_or_default\u001b[0m\u001b[0;34m(\u001b[0m\u001b[0mself\u001b[0m\u001b[0;34m,\u001b[0m \u001b[0mobj\u001b[0m\u001b[0;34m,\u001b[0m \u001b[0mkey\u001b[0m\u001b[0;34m,\u001b[0m \u001b[0mdefault\u001b[0m\u001b[0;34m)\u001b[0m\u001b[0;34m:\u001b[0m\u001b[0;34m\u001b[0m\u001b[0;34m\u001b[0m\u001b[0m\n",
      "\u001b[0;31mNoSuchElementException\u001b[0m: Message: no such element: Unable to locate element: {\"method\":\"link text\",\"selector\":\"Download file in csv format\"}\n  (Session info: chrome=75.0.3770.100)\n"
     ]
    }
   ],
   "source": [
    "## For Call options\n",
    "for index, item in enumerate(expiry_date_list):\n",
    "    print(item)\n",
    "    if item in list(expiry_dates_mapper.values()):\n",
    "#         print('Inside if')\n",
    "        Select(expiry_date_element).select_by_index(index)\n",
    "        Select(driver.find_element_by_id(\"optionType\")).select_by_index(1)\n",
    "        time.sleep(sleep_duration)\n",
    "        for strike_price in date_price_dict[item]['Call']:\n",
    "            driver.find_element_by_id('strikePrice').clear()\n",
    "            driver.find_element_by_id('strikePrice').send_keys(int(strike_price.split('.')[0]))\n",
    "            driver.find_element_by_id('getButton').click()\n",
    "            time.sleep(sleep_duration)\n",
    "            try: \n",
    "                driver.find_element_by_link_text('Download file in csv format').click()\n",
    "            except:\n",
    "                print('Exception occured, waiting and trying again')\n",
    "                driver.find_element_by_id('getButton').click()\n",
    "                time.sleep(sleep_duration + 10)\n",
    "                driver.find_element_by_link_text('Download file in csv format').click()\n",
    "            time.sleep(sleep_duration)\n",
    "            filename = os.listdir(download_location)[0]\n",
    "            destination_filename = item + '_' + 'Call' + '_' + strike_price.split('.')[0] + '.csv'\n",
    "            shutil.move(os.path.join(download_location,filename),os.path.join(data_file_location, destination_filename))\n",
    "        "
   ]
  },
  {
   "cell_type": "code",
   "execution_count": null,
   "metadata": {},
   "outputs": [],
   "source": []
  }
 ],
 "metadata": {
  "kernelspec": {
   "display_name": "tradeai",
   "language": "python",
   "name": "tradeai"
  },
  "language_info": {
   "codemirror_mode": {
    "name": "ipython",
    "version": 3
   },
   "file_extension": ".py",
   "mimetype": "text/x-python",
   "name": "python",
   "nbconvert_exporter": "python",
   "pygments_lexer": "ipython3",
   "version": "3.7.1"
  }
 },
 "nbformat": 4,
 "nbformat_minor": 2
}
