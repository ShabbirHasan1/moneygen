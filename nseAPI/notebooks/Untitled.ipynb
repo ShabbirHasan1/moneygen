{
 "cells": [
  {
   "cell_type": "code",
   "execution_count": 17,
   "metadata": {},
   "outputs": [],
   "source": [
    "class ScopeTest:\n",
    "    def __init__(self):\n",
    "        pass\n",
    "    \n",
    "    def parent(self):\n",
    "        sell_dict = dict()\n",
    "        def child(i):\n",
    "            if True:\n",
    "                for i in range(0,i):\n",
    "                    if True:\n",
    "                        sell_dict[i] = 'hello'\n",
    "        childer = child\n",
    "        for i in range(0,3):\n",
    "            childer(i+i)\n",
    "        \n",
    "        print(sell_dict)"
   ]
  },
  {
   "cell_type": "code",
   "execution_count": 18,
   "metadata": {},
   "outputs": [
    {
     "name": "stdout",
     "output_type": "stream",
     "text": [
      "{0: 'hello', 1: 'hello', 2: 'hello', 3: 'hello'}\n"
     ]
    }
   ],
   "source": [
    "ScopeTest().parent()"
   ]
  },
  {
   "cell_type": "code",
   "execution_count": null,
   "metadata": {},
   "outputs": [],
   "source": []
  }
 ],
 "metadata": {
  "kernelspec": {
   "display_name": "DLaaS",
   "language": "python",
   "name": "dlaas"
  },
  "language_info": {
   "codemirror_mode": {
    "name": "ipython",
    "version": 3
   },
   "file_extension": ".py",
   "mimetype": "text/x-python",
   "name": "python",
   "nbconvert_exporter": "python",
   "pygments_lexer": "ipython3",
   "version": "3.7.1"
  }
 },
 "nbformat": 4,
 "nbformat_minor": 2
}
