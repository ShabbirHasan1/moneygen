{
 "cells": [
  {
   "cell_type": "code",
   "execution_count": 15,
   "metadata": {},
   "outputs": [],
   "source": [
    "import requests\n",
    "from bs4 import BeautifulSoup\n",
    "import json"
   ]
  },
  {
   "cell_type": "code",
   "execution_count": 4,
   "metadata": {},
   "outputs": [],
   "source": [
    "res = requests.get('https://nseindia.com/live_market/dynaContent/live_watch/get_quote/GetQuote.jsp?symbol=INFRATEL')"
   ]
  },
  {
   "cell_type": "code",
   "execution_count": 9,
   "metadata": {},
   "outputs": [],
   "source": [
    "soup = BeautifulSoup(res.content, 'html.parser')"
   ]
  },
  {
   "cell_type": "code",
   "execution_count": 17,
   "metadata": {},
   "outputs": [
    {
     "name": "stdout",
     "output_type": "stream",
     "text": [
      "\n",
      "\n",
      "\n",
      "\n",
      "\n",
      "\n",
      "\n",
      "\n",
      "\n",
      "\n",
      "\n",
      "\n",
      "{\"tradedDate\":\"29NOV2019\",\"data\":[{\"pricebandupper\":\"295.05\",\"symbol\":\"INFRATEL\",\"applicableMargin\":\"27.65\",\"bcEndDate\":\"-\",\"totalSellQuantity\":\"30,975\",\"adhocMargin\":\"-\",\"companyName\":\"Bharti Infratel Limited\",\"marketType\":\"N\",\"exDate\":\"22-AUG-19\",\"bcStartDate\":\"-\",\"css_status_desc\":\"Listed\",\"dayHigh\":\"283.80\",\"basePrice\":\"256.60\",\"securityVar\":\"22.65\",\"pricebandlower\":\"230.95\",\"sellQuantity5\":\"-\",\"sellQuantity4\":\"-\",\"sellQuantity3\":\"-\",\"cm_adj_high_dt\":\"08-FEB-19\",\"sellQuantity2\":\"-\",\"dayLow\":\"238.00\",\"sellQuantity1\":\"30,975\",\"quantityTraded\":\"5,23,05,477\",\"pChange\":\"6.70\",\"totalTradedValue\":\"1,42,715.49\",\"deliveryToTradedQuantity\":\"13.74\",\"totalBuyQuantity\":\"-\",\"averagePrice\":\"272.85\",\"indexVar\":\"-\",\"cm_ffm\":\"23,508.15\",\"purpose\":\"INTERIM DIVIDEND - RS 3.65 PER SHARE\",\"buyPrice2\":\"-\",\"secDate\":\"29-Nov-2019 00:00:00\",\"buyPrice1\":\"-\",\"high52\":\"335.00\",\"previousClose\":\"256.60\",\"ndEndDate\":\"-\",\"low52\":\"176.35\",\"buyPrice4\":\"-\",\"buyPrice3\":\"-\",\"recordDate\":\"23-AUG-19\",\"deliveryQuantity\":\"71,84,843\",\"buyPrice5\":\"-\",\"priceBand\":\"No Band\",\"extremeLossMargin\":\"5.00\",\"cm_adj_low_dt\":\"30-OCT-19\",\"varMargin\":\"22.65\",\"sellPrice1\":\"276.30\",\"sellPrice2\":\"-\",\"totalTradedVolume\":\"5,23,05,477\",\"sellPrice3\":\"-\",\"sellPrice4\":\"-\",\"sellPrice5\":\"-\",\"change\":\"17.20\",\"surv_indicator\":\"-\",\"ndStartDate\":\"-\",\"buyQuantity4\":\"-\",\"isExDateFlag\":false,\"buyQuantity3\":\"-\",\"buyQuantity2\":\"-\",\"buyQuantity1\":\"-\",\"series\":\"EQ\",\"faceValue\":\"10.00\",\"buyQuantity5\":\"-\",\"closePrice\":\"276.30\",\"open\":\"250.00\",\"isinCode\":\"INE121J01017\",\"lastPrice\":\"273.80\"}],\"optLink\":\"\\/marketinfo\\/sym_map\\/symbolMapping.jsp?symbol=INFRATEL&instrument=-&date=-&segmentLink=17&symbolCount=2\",\"otherSeries\":[\"EQ\"],\"futLink\":\"\\/live_market\\/dynaContent\\/live_watch\\/get_quote\\/GetQuoteFO.jsp?underlying=INFRATEL&instrument=FUTSTK&expiry=26DEC2019&type=-&strike=-\",\"lastUpdateTime\":\"29-NOV-2019 15:59:59\"}\n",
      "\n",
      "\n",
      "\n"
     ]
    }
   ],
   "source": [
    "res_json = soup.find(id='responseDiv').get_text()\n",
    "print(res_json)"
   ]
  },
  {
   "cell_type": "code",
   "execution_count": 21,
   "metadata": {},
   "outputs": [
    {
     "data": {
      "text/plain": [
       "[{'pricebandupper': '295.05',\n",
       "  'symbol': 'INFRATEL',\n",
       "  'applicableMargin': '27.65',\n",
       "  'bcEndDate': '-',\n",
       "  'totalSellQuantity': '30,975',\n",
       "  'adhocMargin': '-',\n",
       "  'companyName': 'Bharti Infratel Limited',\n",
       "  'marketType': 'N',\n",
       "  'exDate': '22-AUG-19',\n",
       "  'bcStartDate': '-',\n",
       "  'css_status_desc': 'Listed',\n",
       "  'dayHigh': '283.80',\n",
       "  'basePrice': '256.60',\n",
       "  'securityVar': '22.65',\n",
       "  'pricebandlower': '230.95',\n",
       "  'sellQuantity5': '-',\n",
       "  'sellQuantity4': '-',\n",
       "  'sellQuantity3': '-',\n",
       "  'cm_adj_high_dt': '08-FEB-19',\n",
       "  'sellQuantity2': '-',\n",
       "  'dayLow': '238.00',\n",
       "  'sellQuantity1': '30,975',\n",
       "  'quantityTraded': '5,23,05,477',\n",
       "  'pChange': '6.70',\n",
       "  'totalTradedValue': '1,42,715.49',\n",
       "  'deliveryToTradedQuantity': '13.74',\n",
       "  'totalBuyQuantity': '-',\n",
       "  'averagePrice': '272.85',\n",
       "  'indexVar': '-',\n",
       "  'cm_ffm': '23,508.15',\n",
       "  'purpose': 'INTERIM DIVIDEND - RS 3.65 PER SHARE',\n",
       "  'buyPrice2': '-',\n",
       "  'secDate': '29-Nov-2019 00:00:00',\n",
       "  'buyPrice1': '-',\n",
       "  'high52': '335.00',\n",
       "  'previousClose': '256.60',\n",
       "  'ndEndDate': '-',\n",
       "  'low52': '176.35',\n",
       "  'buyPrice4': '-',\n",
       "  'buyPrice3': '-',\n",
       "  'recordDate': '23-AUG-19',\n",
       "  'deliveryQuantity': '71,84,843',\n",
       "  'buyPrice5': '-',\n",
       "  'priceBand': 'No Band',\n",
       "  'extremeLossMargin': '5.00',\n",
       "  'cm_adj_low_dt': '30-OCT-19',\n",
       "  'varMargin': '22.65',\n",
       "  'sellPrice1': '276.30',\n",
       "  'sellPrice2': '-',\n",
       "  'totalTradedVolume': '5,23,05,477',\n",
       "  'sellPrice3': '-',\n",
       "  'sellPrice4': '-',\n",
       "  'sellPrice5': '-',\n",
       "  'change': '17.20',\n",
       "  'surv_indicator': '-',\n",
       "  'ndStartDate': '-',\n",
       "  'buyQuantity4': '-',\n",
       "  'isExDateFlag': False,\n",
       "  'buyQuantity3': '-',\n",
       "  'buyQuantity2': '-',\n",
       "  'buyQuantity1': '-',\n",
       "  'series': 'EQ',\n",
       "  'faceValue': '10.00',\n",
       "  'buyQuantity5': '-',\n",
       "  'closePrice': '276.30',\n",
       "  'open': '250.00',\n",
       "  'isinCode': 'INE121J01017',\n",
       "  'lastPrice': '273.80'}]"
      ]
     },
     "execution_count": 21,
     "metadata": {},
     "output_type": "execute_result"
    }
   ],
   "source": [
    "json.loads(res_json)['data']"
   ]
  },
  {
   "cell_type": "code",
   "execution_count": null,
   "metadata": {},
   "outputs": [],
   "source": []
  }
 ],
 "metadata": {
  "kernelspec": {
   "display_name": "nse",
   "language": "python",
   "name": "nse"
  },
  "language_info": {
   "codemirror_mode": {
    "name": "ipython",
    "version": 3
   },
   "file_extension": ".py",
   "mimetype": "text/x-python",
   "name": "python",
   "nbconvert_exporter": "python",
   "pygments_lexer": "ipython3",
   "version": "3.7.4"
  }
 },
 "nbformat": 4,
 "nbformat_minor": 4
}
