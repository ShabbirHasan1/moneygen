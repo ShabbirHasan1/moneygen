{
 "cells": [
  {
   "cell_type": "code",
   "execution_count": 28,
   "metadata": {},
   "outputs": [],
   "source": [
    "from multiprocessing import Process"
   ]
  },
  {
   "cell_type": "code",
   "execution_count": 35,
   "metadata": {},
   "outputs": [],
   "source": [
    "class LiveSimulator:\n",
    "    def __init__(self):\n",
    "        pass\n",
    "    \n",
    "    def simulate_market(self):\n",
    "        sell_dict = dict()\n",
    "        def on_ticks(i):\n",
    "            if True:\n",
    "                if i<5:\n",
    "                    for j in range(0,5):\n",
    "                        if True:\n",
    "                            sell_dict[i] = str(i+1)\n",
    "                else:\n",
    "                    for j in range(5,10):\n",
    "                        sell_dict[i] = str(i+5)\n",
    "        \n",
    "        ticker = Ticker()\n",
    "        ticker.tick = on_ticks\n",
    "        ticker.connect()\n",
    "        \n",
    "        print(sell_dict)"
   ]
  },
  {
   "cell_type": "code",
   "execution_count": 39,
   "metadata": {},
   "outputs": [],
   "source": [
    "class Ticker():\n",
    "    def __init__(self):\n",
    "        self.tick = None\n",
    "        \n",
    "    def connect(self):\n",
    "        for i in range(0,10):\n",
    "            self.tick(i)\n",
    "        "
   ]
  },
  {
   "cell_type": "code",
   "execution_count": 40,
   "metadata": {},
   "outputs": [],
   "source": [
    "def main():\n",
    "    def simulate_market_process():\n",
    "        simulator = LiveSimulator()\n",
    "        simulator.simulate_market()\n",
    "    \n",
    "    simulation_process = Process(target=simulate_market_process)\n",
    "    simulation_process.start()\n",
    "    simulation_process.join(timeout=None)\n",
    "    "
   ]
  },
  {
   "cell_type": "code",
   "execution_count": 41,
   "metadata": {},
   "outputs": [
    {
     "name": "stdout",
     "output_type": "stream",
     "text": [
      "{0: '1', 1: '2', 2: '3', 3: '4', 4: '5', 5: '10', 6: '11', 7: '12', 8: '13', 9: '14'}\n"
     ]
    }
   ],
   "source": [
    "main()"
   ]
  },
  {
   "cell_type": "code",
   "execution_count": null,
   "metadata": {},
   "outputs": [],
   "source": []
  }
 ],
 "metadata": {
  "kernelspec": {
   "display_name": "nse",
   "language": "python",
   "name": "nse"
  },
  "language_info": {
   "codemirror_mode": {
    "name": "ipython",
    "version": 3
   },
   "file_extension": ".py",
   "mimetype": "text/x-python",
   "name": "python",
   "nbconvert_exporter": "python",
   "pygments_lexer": "ipython3",
   "version": "3.7.4"
  }
 },
 "nbformat": 4,
 "nbformat_minor": 4
}
