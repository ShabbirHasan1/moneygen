{
 "cells": [
  {
   "cell_type": "markdown",
   "metadata": {},
   "source": [
    "# Main Page"
   ]
  },
  {
   "cell_type": "code",
   "execution_count": 1,
   "metadata": {},
   "outputs": [],
   "source": [
    "from bs4 import BeautifulSoup\n",
    "import requests"
   ]
  },
  {
   "cell_type": "code",
   "execution_count": 35,
   "metadata": {},
   "outputs": [],
   "source": [
    "url = 'https://money.rediff.com/gainers/nse/daily/' + 'nifty'\n",
    "res = requests.get(url)\n",
    "soup = BeautifulSoup(res.content, 'html.parser')"
   ]
  },
  {
   "cell_type": "code",
   "execution_count": 36,
   "metadata": {},
   "outputs": [],
   "source": [
    "table = soup.findAll(\"table\", attrs={\"class\": \"dataTable\"})[0]"
   ]
  },
  {
   "cell_type": "code",
   "execution_count": 37,
   "metadata": {},
   "outputs": [],
   "source": [
    "table_body = table.find('tbody')"
   ]
  },
  {
   "cell_type": "code",
   "execution_count": 38,
   "metadata": {},
   "outputs": [],
   "source": [
    "rows = table_body.find_all('tr')"
   ]
  },
  {
   "cell_type": "code",
   "execution_count": 39,
   "metadata": {},
   "outputs": [],
   "source": [
    "data = []\n",
    "for row in rows:\n",
    "    cols = row.find_all('td')\n",
    "    link = row.find_all('td')[0].find_all('a')[0]['href']\n",
    "    cols = [ele.text.strip() for ele in cols]\n",
    "    cols.append('https:'+link)\n",
    "    data.append([ele for ele in cols if ele])"
   ]
  },
  {
   "cell_type": "code",
   "execution_count": 41,
   "metadata": {},
   "outputs": [
    {
     "data": {
      "text/plain": [
       "[['Bharti Airtel',\n",
       "  '442.45',\n",
       "  '458.60',\n",
       "  '+3.65',\n",
       "  'https://money.rediff.com/companies/bharti-airtel-ltd/15200022'],\n",
       " ['JSW Steel',\n",
       "  '261.55',\n",
       "  '268.30',\n",
       "  '+2.58',\n",
       "  'https://money.rediff.com/companies/jsw-steel-ltd/15530059'],\n",
       " ['Grasim Inds.',\n",
       "  '787.05',\n",
       "  '807.25',\n",
       "  '+2.57',\n",
       "  'https://money.rediff.com/companies/grasim-industries-ltd/17010006'],\n",
       " ['Reliance Inds.',\n",
       "  '1551.15',\n",
       "  '1,586.50',\n",
       "  '+2.28',\n",
       "  'https://money.rediff.com/companies/reliance-industries-ltd/12150008'],\n",
       " ['Asian Paints Ltd.',\n",
       "  '1706.15',\n",
       "  '1,738.25',\n",
       "  '+1.88',\n",
       "  'https://money.rediff.com/companies/asian-paints-ltd/11580001']]"
      ]
     },
     "execution_count": 41,
     "metadata": {},
     "output_type": "execute_result"
    }
   ],
   "source": [
    "data[:5]"
   ]
  },
  {
   "cell_type": "markdown",
   "metadata": {},
   "source": [
    "# Child page\n",
    "### example page: https://money.rediff.com/companies/Bharti-Airtel-Ltd/15200022"
   ]
  },
  {
   "cell_type": "code",
   "execution_count": 42,
   "metadata": {},
   "outputs": [],
   "source": [
    "url = 'https://money.rediff.com/companies/asian-paints-ltd/11580001'\n",
    "res = requests.get(url)\n",
    "soup = BeautifulSoup(res.content, 'html.parser')"
   ]
  },
  {
   "cell_type": "code",
   "execution_count": 43,
   "metadata": {},
   "outputs": [],
   "source": [
    "input_field = soup.findAll(\"input\", attrs={\"name\": \"nseCompanyCode\"})[0]"
   ]
  },
  {
   "cell_type": "code",
   "execution_count": 45,
   "metadata": {},
   "outputs": [
    {
     "data": {
      "text/plain": [
       "'ASIANPAINT'"
      ]
     },
     "execution_count": 45,
     "metadata": {},
     "output_type": "execute_result"
    }
   ],
   "source": [
    "input_field['value']"
   ]
  },
  {
   "cell_type": "code",
   "execution_count": null,
   "metadata": {},
   "outputs": [],
   "source": []
  }
 ],
 "metadata": {
  "kernelspec": {
   "display_name": "DLaaS",
   "language": "python",
   "name": "dlaas"
  },
  "language_info": {
   "codemirror_mode": {
    "name": "ipython",
    "version": 3
   },
   "file_extension": ".py",
   "mimetype": "text/x-python",
   "name": "python",
   "nbconvert_exporter": "python",
   "pygments_lexer": "ipython3",
   "version": "3.7.1"
  }
 },
 "nbformat": 4,
 "nbformat_minor": 2
}
