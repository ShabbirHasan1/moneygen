{
 "cells": [
  {
   "cell_type": "markdown",
   "metadata": {},
   "source": [
    "# Main Page"
   ]
  },
  {
   "cell_type": "code",
   "execution_count": 1,
   "metadata": {},
   "outputs": [],
   "source": [
    "from bs4 import BeautifulSoup\n",
    "import requests"
   ]
  },
  {
   "cell_type": "code",
   "execution_count": 35,
   "metadata": {},
   "outputs": [],
   "source": [
    "url = 'https://money.rediff.com/gainers/nse/daily/' + 'nifty'\n",
    "res = requests.get(url)\n",
    "soup = BeautifulSoup(res.content, 'html.parser')"
   ]
  },
  {
   "cell_type": "code",
   "execution_count": 36,
   "metadata": {},
   "outputs": [],
   "source": [
    "table = soup.findAll(\"table\", attrs={\"class\": \"dataTable\"})[0]"
   ]
  },
  {
   "cell_type": "code",
   "execution_count": 37,
   "metadata": {},
   "outputs": [],
   "source": [
    "table_body = table.find('tbody')"
   ]
  },
  {
   "cell_type": "code",
   "execution_count": 38,
   "metadata": {},
   "outputs": [],
   "source": [
    "rows = table_body.find_all('tr')"
   ]
  },
  {
   "cell_type": "code",
   "execution_count": 39,
   "metadata": {},
   "outputs": [],
   "source": [
    "data = []\n",
    "for row in rows:\n",
    "    cols = row.find_all('td')\n",
    "    link = row.find_all('td')[0].find_all('a')[0]['href']\n",
    "    cols = [ele.text.strip() for ele in cols]\n",
    "    cols.append('https:'+link)\n",
    "    data.append([ele for ele in cols if ele])"
   ]
  },
  {
   "cell_type": "code",
   "execution_count": 40,
   "metadata": {},
   "outputs": [
    {
     "data": {
      "text/plain": [
       "[['Bharti Airtel',\n",
       "  '442.45',\n",
       "  '458.60',\n",
       "  '+3.65',\n",
       "  'https://money.rediff.com/companies/bharti-airtel-ltd/15200022'],\n",
       " ['JSW Steel',\n",
       "  '261.55',\n",
       "  '268.30',\n",
       "  '+2.58',\n",
       "  'https://money.rediff.com/companies/jsw-steel-ltd/15530059'],\n",
       " ['Grasim Inds.',\n",
       "  '787.05',\n",
       "  '807.25',\n",
       "  '+2.57',\n",
       "  'https://money.rediff.com/companies/grasim-industries-ltd/17010006'],\n",
       " ['Reliance Inds.',\n",
       "  '1551.15',\n",
       "  '1,586.50',\n",
       "  '+2.28',\n",
       "  'https://money.rediff.com/companies/reliance-industries-ltd/12150008'],\n",
       " ['Asian Paints Ltd.',\n",
       "  '1706.15',\n",
       "  '1,738.25',\n",
       "  '+1.88',\n",
       "  'https://money.rediff.com/companies/asian-paints-ltd/11580001'],\n",
       " ['Kotak Mahindra Bank',\n",
       "  '1615.2',\n",
       "  '1,633.00',\n",
       "  '+1.10',\n",
       "  'https://money.rediff.com/companies/kotak-mahindra-bank-ltd/14060005'],\n",
       " ['Nestle India',\n",
       "  '14453.95',\n",
       "  '14,557.65',\n",
       "  '+.72',\n",
       "  'https://money.rediff.com/companies/nestle-india-ltd/11120007'],\n",
       " ['Axis Bank Ltd.',\n",
       "  '739.05',\n",
       "  '744.30',\n",
       "  '+.71',\n",
       "  'https://money.rediff.com/companies/axis-bank-ltd/14030047'],\n",
       " ['Mahi. & Mahi',\n",
       "  '530.55',\n",
       "  '534.15',\n",
       "  '+.68',\n",
       "  'https://money.rediff.com/companies/mahindra-and-mahindra-ltd/10520003'],\n",
       " ['GAIL (India) Ltd.',\n",
       "  '126.05',\n",
       "  '126.60',\n",
       "  '+.44',\n",
       "  'https://money.rediff.com/companies/gail-india-ltd/15120010'],\n",
       " ['IndusInd Bank',\n",
       "  '1569.1',\n",
       "  '1,576.00',\n",
       "  '+.44',\n",
       "  'https://money.rediff.com/companies/indusind-bank-ltd/14030054'],\n",
       " ['HDFC',\n",
       "  '2297.25',\n",
       "  '2,306.60',\n",
       "  '+.41',\n",
       "  'https://money.rediff.com/companies/housing-development-finance-corporation-ltd/14080001'],\n",
       " ['UltraTech Cement',\n",
       "  '4259.1',\n",
       "  '4,276.25',\n",
       "  '+.40',\n",
       "  'https://money.rediff.com/companies/ultratech-cement-ltd/11520068'],\n",
       " ['Britannia Ind.',\n",
       "  '3057.7',\n",
       "  '3,069.70',\n",
       "  '+.39',\n",
       "  'https://money.rediff.com/companies/britannia-industries-ltd/11120001'],\n",
       " ['Hindustan Unilever L',\n",
       "  '2035.3',\n",
       "  '2,043.20',\n",
       "  '+.39',\n",
       "  'https://money.rediff.com/companies/hindustan-unilever-ltd/12520002'],\n",
       " ['Wipro Ltd',\n",
       "  '237.7',\n",
       "  '238.60',\n",
       "  '+.38',\n",
       "  'https://money.rediff.com/companies/wipro-ltd/11060011'],\n",
       " ['Hindalco Indus.',\n",
       "  '200.15',\n",
       "  '200.80',\n",
       "  '+.32',\n",
       "  'https://money.rediff.com/companies/hindalco-industries-ltd/15040001'],\n",
       " ['Coal India',\n",
       "  '205.25',\n",
       "  '205.85',\n",
       "  '+.29',\n",
       "  'https://money.rediff.com/companies/coal-india-ltd/15110007'],\n",
       " ['L&T',\n",
       "  '1330.55',\n",
       "  '1,333.35',\n",
       "  '+.21',\n",
       "  'https://money.rediff.com/companies/larsen-and-toubro-ltd/17010013'],\n",
       " ['Vedanta',\n",
       "  '144.6',\n",
       "  '144.70',\n",
       "  '+.07',\n",
       "  'https://money.rediff.com/companies/vedanta-ltd/17020022']]"
      ]
     },
     "execution_count": 40,
     "metadata": {},
     "output_type": "execute_result"
    }
   ],
   "source": [
    "data"
   ]
  },
  {
   "cell_type": "code",
   "execution_count": null,
   "metadata": {},
   "outputs": [],
   "source": []
  }
 ],
 "metadata": {
  "kernelspec": {
   "display_name": "DLaaS",
   "language": "python",
   "name": "dlaas"
  },
  "language_info": {
   "codemirror_mode": {
    "name": "ipython",
    "version": 3
   },
   "file_extension": ".py",
   "mimetype": "text/x-python",
   "name": "python",
   "nbconvert_exporter": "python",
   "pygments_lexer": "ipython3",
   "version": "3.7.1"
  }
 },
 "nbformat": 4,
 "nbformat_minor": 2
}
