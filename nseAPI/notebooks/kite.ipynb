{
 "cells": [
  {
   "cell_type": "code",
   "execution_count": 20,
   "metadata": {},
   "outputs": [],
   "source": [
    "import logging\n",
    "from kiteconnect import KiteConnect\n",
    "from kiteconnect import KiteTicker\n",
    "import requests\n",
    "import sys\n",
    "import time\n",
    "from selenium.webdriver.common.keys import Keys\n",
    "import urllib.parse as urlparse\n",
    "from urllib.parse import parse_qs\n",
    "import pandas as pd\n",
    "sys.path.append('../src/')\n",
    "from util.selenium_dispatcher import SeleniumDispatcher\n",
    "from config import Config"
   ]
  },
  {
   "cell_type": "code",
   "execution_count": 3,
   "metadata": {},
   "outputs": [],
   "source": [
    " def get_request_token(kite_url):\n",
    "        print('Starting to fetch request token for Kite API')\n",
    "        selenium = SeleniumDispatcher(headless=True)\n",
    "        driver = selenium.get_driver()\n",
    "        driver.get(kite_url)\n",
    "        time.sleep(4)\n",
    "        username_field = driver.find_element_by_xpath(\"//input[@type='text']\")\n",
    "        username_field.send_keys(Config.KITE_USER_ID)\n",
    "        password_field = driver.find_element_by_xpath(\"//input[@type='password']\")\n",
    "        password_field.send_keys(Config.KITE_PASSWORD)\n",
    "        password_field.send_keys(Keys.ENTER)\n",
    "        time.sleep(2)\n",
    "        pin_field = driver.find_element_by_xpath(\"//input[@type='password']\")\n",
    "        pin_field.send_keys(Config.KITE_PIN)\n",
    "        pin_field.send_keys(Keys.ENTER)\n",
    "        time.sleep(2)\n",
    "        url = driver.current_url\n",
    "        parsed = urlparse.urlparse(url)\n",
    "        print(url)\n",
    "        token = parse_qs(parsed.query)['request_token'][0]\n",
    "        print('Request token received!')\n",
    "        selenium.destroy_driver()\n",
    "        return token"
   ]
  },
  {
   "cell_type": "code",
   "execution_count": 4,
   "metadata": {},
   "outputs": [],
   "source": [
    "kite = KiteConnect(api_key=Config.KITE_API_KEY)"
   ]
  },
  {
   "cell_type": "code",
   "execution_count": 5,
   "metadata": {},
   "outputs": [
    {
     "name": "stdout",
     "output_type": "stream",
     "text": [
      "https://kite.trade/connect/login?api_key=37wk1ehie3noonc1&v=3\n"
     ]
    }
   ],
   "source": [
    "print(kite.login_url())"
   ]
  },
  {
   "cell_type": "code",
   "execution_count": 6,
   "metadata": {},
   "outputs": [
    {
     "name": "stdout",
     "output_type": "stream",
     "text": [
      "Starting to fetch request token for Kite API\n",
      "http://localhost/?request_token=Wgb7On6hwLYvfSqpq5sEvO6R37TMDCHI&action=login&status=success\n",
      "Request token received!\n"
     ]
    }
   ],
   "source": [
    "data = kite.generate_session(get_request_token(kite.login_url()), api_secret=Config.KITE_API_SECRET)"
   ]
  },
  {
   "cell_type": "code",
   "execution_count": 7,
   "metadata": {},
   "outputs": [],
   "source": [
    "kite.set_access_token(data[\"access_token\"])\n"
   ]
  },
  {
   "cell_type": "code",
   "execution_count": 8,
   "metadata": {},
   "outputs": [
    {
     "data": {
      "text/plain": [
       "OrderedDict([('instrument_token', 258313),\n",
       "             ('exchange_token', '1009'),\n",
       "             ('tradingsymbol', 'CPSE INDEX'),\n",
       "             ('name', 'CPSE INDEX'),\n",
       "             ('last_price', 0.0),\n",
       "             ('expiry', ''),\n",
       "             ('strike', 0.0),\n",
       "             ('tick_size', 0.0),\n",
       "             ('lot_size', 0),\n",
       "             ('instrument_type', 'EQ'),\n",
       "             ('segment', 'INDICES'),\n",
       "             ('exchange', 'NSE')])"
      ]
     },
     "execution_count": 8,
     "metadata": {},
     "output_type": "execute_result"
    }
   ],
   "source": [
    "instruments = kite.instruments(exchange='NSE')\n",
    "instruments[0]"
   ]
  },
  {
   "cell_type": "code",
   "execution_count": 9,
   "metadata": {},
   "outputs": [
    {
     "data": {
      "text/plain": [
       "['NSE:NIFTY100 QUALTY30',\n",
       " 'NSE:NIFTY200 QUALTY30',\n",
       " 'NSE:NIFTY50 DIV POINT',\n",
       " 'NSE:NIFTY50 EQL WGT',\n",
       " 'NSE:NIFTY50 PR 1X INV']"
      ]
     },
     "execution_count": 9,
     "metadata": {},
     "output_type": "execute_result"
    }
   ],
   "source": [
    "selected = [f\"NSE:{x['tradingsymbol']}\" for x in instruments[50:55]]\n",
    "selected"
   ]
  },
  {
   "cell_type": "code",
   "execution_count": 10,
   "metadata": {},
   "outputs": [
    {
     "data": {
      "text/plain": [
       "{'NSE:NIFTY100 QUALTY30': {'instrument_token': 272393,\n",
       "  'tradingsymbol': 'NIFTY100 QUALTY30',\n",
       "  'timestamp': datetime.datetime(2020, 4, 20, 14, 4, 49),\n",
       "  'last_price': 2245.8,\n",
       "  'net_change': -13.05,\n",
       "  'ohlc': {'open': 2283.15, 'high': 2284.25, 'low': 2242, 'close': 2258.85}},\n",
       " 'NSE:NIFTY200 QUALTY30': {'instrument_token': 265737,\n",
       "  'tradingsymbol': 'NIFTY200 QUALTY30',\n",
       "  'timestamp': datetime.datetime(2020, 4, 20, 14, 4, 49),\n",
       "  'last_price': 8592.4,\n",
       "  'net_change': -45.95,\n",
       "  'ohlc': {'open': 8715.95,\n",
       "   'high': 8718.05,\n",
       "   'low': 8578.65,\n",
       "   'close': 8638.35}},\n",
       " 'NSE:NIFTY50 DIV POINT': {'instrument_token': 265225,\n",
       "  'tradingsymbol': 'NIFTY50 DIV POINT',\n",
       "  'timestamp': datetime.datetime(2020, 4, 20, 14, 4, 49),\n",
       "  'last_price': 0,\n",
       "  'net_change': -149.1,\n",
       "  'ohlc': {'open': 0, 'high': 0, 'low': 0, 'close': 149.1}},\n",
       " 'NSE:NIFTY50 EQL WGT': {'instrument_token': 271625,\n",
       "  'tradingsymbol': 'NIFTY50 EQL WGT',\n",
       "  'timestamp': datetime.datetime(2020, 4, 20, 14, 4, 49),\n",
       "  'last_price': 9492.95,\n",
       "  'net_change': -67.75,\n",
       "  'ohlc': {'open': 9654.75, 'high': 9656.25, 'low': 9473.8, 'close': 9560.7}},\n",
       " 'NSE:NIFTY50 PR 1X INV': {'instrument_token': 259081,\n",
       "  'tradingsymbol': 'NIFTY50 PR 1X INV',\n",
       "  'timestamp': datetime.datetime(2020, 4, 20, 14, 4, 49),\n",
       "  'last_price': 476.55,\n",
       "  'net_change': -0.4,\n",
       "  'ohlc': {'open': 470.75, 'high': 478.9, 'low': 470.75, 'close': 476.95}}}"
      ]
     },
     "execution_count": 10,
     "metadata": {},
     "output_type": "execute_result"
    }
   ],
   "source": [
    "kite.quote(selected)"
   ]
  },
  {
   "cell_type": "code",
   "execution_count": 11,
   "metadata": {},
   "outputs": [
    {
     "data": {
      "text/plain": [
       "{'NSE:NIFTY100 QUALTY30': {'instrument_token': 272393,\n",
       "  'last_price': 2245.75,\n",
       "  'ohlc': {'open': 2283.15, 'high': 2284.25, 'low': 2242, 'close': 2258.85}},\n",
       " 'NSE:NIFTY200 QUALTY30': {'instrument_token': 265737,\n",
       "  'last_price': 8592.25,\n",
       "  'ohlc': {'open': 8715.95,\n",
       "   'high': 8718.05,\n",
       "   'low': 8578.65,\n",
       "   'close': 8638.35}},\n",
       " 'NSE:NIFTY50 DIV POINT': {'instrument_token': 265225,\n",
       "  'last_price': 0,\n",
       "  'ohlc': {'open': 0, 'high': 0, 'low': 0, 'close': 149.1}},\n",
       " 'NSE:NIFTY50 EQL WGT': {'instrument_token': 271625,\n",
       "  'last_price': 9492.9,\n",
       "  'ohlc': {'open': 9654.75, 'high': 9656.25, 'low': 9473.8, 'close': 9560.7}},\n",
       " 'NSE:NIFTY50 PR 1X INV': {'instrument_token': 259081,\n",
       "  'last_price': 476.55,\n",
       "  'ohlc': {'open': 470.75, 'high': 478.9, 'low': 470.75, 'close': 476.95}}}"
      ]
     },
     "execution_count": 11,
     "metadata": {},
     "output_type": "execute_result"
    }
   ],
   "source": [
    "kite.ohlc(selected)"
   ]
  },
  {
   "cell_type": "code",
   "execution_count": 12,
   "metadata": {},
   "outputs": [
    {
     "data": {
      "text/plain": [
       "{'NSE:NIFTY100 QUALTY30': {'instrument_token': 272393, 'last_price': 2245.75},\n",
       " 'NSE:NIFTY200 QUALTY30': {'instrument_token': 265737, 'last_price': 8592.25},\n",
       " 'NSE:NIFTY50 DIV POINT': {'instrument_token': 265225, 'last_price': 0},\n",
       " 'NSE:NIFTY50 EQL WGT': {'instrument_token': 271625, 'last_price': 9492.9},\n",
       " 'NSE:NIFTY50 PR 1X INV': {'instrument_token': 259081, 'last_price': 476.55}}"
      ]
     },
     "execution_count": 12,
     "metadata": {},
     "output_type": "execute_result"
    }
   ],
   "source": [
    "kite.ltp(selected)"
   ]
  },
  {
   "cell_type": "code",
   "execution_count": 13,
   "metadata": {},
   "outputs": [],
   "source": [
    "# required_instruments = list()\n",
    "\n",
    "# for instrument in instruments:\n",
    "#     if 'BANKNIFTY20312' in instrument['tradingsymbol']:\n",
    "#         required_instruments.append(instrument)\n",
    "\n",
    "# len(required_instruments)\n",
    "\n",
    "# df = pd.DataFrame.from_dict(required_instruments)\n",
    "\n",
    "# df_put = df[df.instrument_type == 'PE'].reset_index().drop('index', axis=1)\n",
    "\n",
    "# df_call = df[df.instrument_type == 'CE'].reset_index().drop('index', axis=1)"
   ]
  },
  {
   "cell_type": "code",
   "execution_count": 14,
   "metadata": {},
   "outputs": [],
   "source": [
    "# Initialise\n",
    "kws = KiteTicker(Config.KITE_API_KEY, data['access_token'])\n",
    "tick_count = 0"
   ]
  },
  {
   "cell_type": "code",
   "execution_count": 16,
   "metadata": {},
   "outputs": [
    {
     "data": {
      "text/plain": [
       "134657"
      ]
     },
     "execution_count": 16,
     "metadata": {},
     "output_type": "execute_result"
    }
   ],
   "source": [
    "## Get token of required instrument\n",
    "selected_instrument = ''\n",
    "for instrument in instruments:\n",
    "    if instrument['tradingsymbol'] == 'BPCL':\n",
    "        selected_instrument = instrument['instrument_token']\n",
    "        break\n",
    "selected_instrument"
   ]
  },
  {
   "cell_type": "code",
   "execution_count": 17,
   "metadata": {},
   "outputs": [],
   "source": [
    "def on_ticks(ws, ticks):\n",
    "    # Callback to receive ticks.\n",
    "    global tick_count\n",
    "    print(\"Ticks: {}\".format(ticks))\n",
    "    tick_count = tick_count + 1\n",
    "    print(\"Length: {}\".format(tick_count))\n",
    "#     if tick_count > 5:\n",
    "#         ws.close()\n",
    "\n",
    "def on_connect(ws, response):\n",
    "    pass\n",
    "    # Callback on successful connect.\n",
    "    # Subscribe to a list of instrument_tokens (RELIANCE and ACC here).\n",
    "    ws.subscribe([134657])\n",
    "#     ws.subscribe([134657])\n",
    "    # Set RELIANCE to tick in `full` mode.\n",
    "#     ws.set_mode(ws.MODE_LTP, [134657, 408065, 237569, 389377, 2791681])\n",
    "    ws.set_mode(ws., [134657])\n",
    "\n",
    "def on_close(ws, code, reason):\n",
    "    # On connection close stop the main loop\n",
    "    # Reconnection will not happen after executing `ws.stop()`\n",
    "    ws.stop()"
   ]
  },
  {
   "cell_type": "code",
   "execution_count": 18,
   "metadata": {},
   "outputs": [],
   "source": [
    "# Assign the callbacks.\n",
    "kws.on_ticks = on_ticks\n",
    "kws.on_connect = on_connect\n",
    "kws.on_close = on_close"
   ]
  },
  {
   "cell_type": "code",
   "execution_count": 19,
   "metadata": {},
   "outputs": [
    {
     "name": "stdout",
     "output_type": "stream",
     "text": [
      "Ticks: [{'tradable': True, 'mode': 'full', 'instrument_token': 134657, 'last_price': 368.25, 'last_quantity': 2, 'average_price': 367.55, 'volume': 4792974, 'buy_quantity': 428244, 'sell_quantity': 481886, 'ohlc': {'open': 362.15, 'high': 372.9, 'low': 361.2, 'close': 360.1}, 'change': 2.263260205498466, 'last_trade_time': datetime.datetime(2020, 4, 20, 14, 5, 30), 'oi': 0, 'oi_day_high': 0, 'oi_day_low': 0, 'timestamp': datetime.datetime(2020, 4, 20, 14, 5, 31), 'depth': {'buy': [{'quantity': 10, 'price': 368.1, 'orders': 1}, {'quantity': 842, 'price': 368.0, 'orders': 5}, {'quantity': 42, 'price': 367.95, 'orders': 1}, {'quantity': 23, 'price': 367.9, 'orders': 1}, {'quantity': 30, 'price': 367.85, 'orders': 1}], 'sell': [{'quantity': 12, 'price': 368.15, 'orders': 1}, {'quantity': 27, 'price': 368.2, 'orders': 1}, {'quantity': 87, 'price': 368.25, 'orders': 1}, {'quantity': 3435, 'price': 368.3, 'orders': 1}, {'quantity': 219, 'price': 368.35, 'orders': 1}]}}]\n",
      "Length: 1\n",
      "Ticks: [{'tradable': True, 'mode': 'full', 'instrument_token': 134657, 'last_price': 368.0, 'last_quantity': 60, 'average_price': 367.55, 'volume': 4793044, 'buy_quantity': 428346, 'sell_quantity': 481880, 'ohlc': {'open': 362.15, 'high': 372.9, 'low': 361.2, 'close': 360.1}, 'change': 2.193835045820599, 'last_trade_time': datetime.datetime(2020, 4, 20, 14, 5, 33), 'oi': 0, 'oi_day_high': 0, 'oi_day_low': 0, 'timestamp': datetime.datetime(2020, 4, 20, 14, 5, 33), 'depth': {'buy': [{'quantity': 802, 'price': 368.0, 'orders': 6}, {'quantity': 42, 'price': 367.95, 'orders': 1}, {'quantity': 95, 'price': 367.9, 'orders': 2}, {'quantity': 95, 'price': 367.85, 'orders': 2}, {'quantity': 606, 'price': 367.8, 'orders': 4}], 'sell': [{'quantity': 12, 'price': 368.15, 'orders': 1}, {'quantity': 87, 'price': 368.25, 'orders': 1}, {'quantity': 3435, 'price': 368.3, 'orders': 1}, {'quantity': 298, 'price': 368.35, 'orders': 3}, {'quantity': 377, 'price': 368.4, 'orders': 4}]}}]\n",
      "Length: 2\n",
      "Ticks: [{'tradable': True, 'mode': 'full', 'instrument_token': 134657, 'last_price': 368.05, 'last_quantity': 32, 'average_price': 367.55, 'volume': 4793174, 'buy_quantity': 428574, 'sell_quantity': 481659, 'ohlc': {'open': 362.15, 'high': 372.9, 'low': 361.2, 'close': 360.1}, 'change': 2.2077200777561754, 'last_trade_time': datetime.datetime(2020, 4, 20, 14, 5, 33), 'oi': 0, 'oi_day_high': 0, 'oi_day_low': 0, 'timestamp': datetime.datetime(2020, 4, 20, 14, 5, 34), 'depth': {'buy': [{'quantity': 812, 'price': 368.0, 'orders': 7}, {'quantity': 65, 'price': 367.95, 'orders': 2}, {'quantity': 27, 'price': 367.9, 'orders': 1}, {'quantity': 249, 'price': 367.85, 'orders': 2}, {'quantity': 606, 'price': 367.8, 'orders': 4}], 'sell': [{'quantity': 87, 'price': 368.25, 'orders': 1}, {'quantity': 3435, 'price': 368.3, 'orders': 1}, {'quantity': 52, 'price': 368.35, 'orders': 1}, {'quantity': 347, 'price': 368.4, 'orders': 3}, {'quantity': 82, 'price': 368.45, 'orders': 2}]}}]\n",
      "Length: 3\n",
      "Ticks: [{'tradable': True, 'mode': 'full', 'instrument_token': 134657, 'last_price': 368.05, 'last_quantity': 32, 'average_price': 367.55, 'volume': 4793174, 'buy_quantity': 428566, 'sell_quantity': 481659, 'ohlc': {'open': 362.15, 'high': 372.9, 'low': 361.2, 'close': 360.1}, 'change': 2.2077200777561754, 'last_trade_time': datetime.datetime(2020, 4, 20, 14, 5, 33), 'oi': 0, 'oi_day_high': 0, 'oi_day_low': 0, 'timestamp': datetime.datetime(2020, 4, 20, 14, 5, 35), 'depth': {'buy': [{'quantity': 812, 'price': 368.0, 'orders': 7}, {'quantity': 65, 'price': 367.95, 'orders': 2}, {'quantity': 27, 'price': 367.9, 'orders': 1}, {'quantity': 249, 'price': 367.85, 'orders': 2}, {'quantity': 606, 'price': 367.8, 'orders': 4}], 'sell': [{'quantity': 87, 'price': 368.25, 'orders': 1}, {'quantity': 3435, 'price': 368.3, 'orders': 1}, {'quantity': 52, 'price': 368.35, 'orders': 1}, {'quantity': 347, 'price': 368.4, 'orders': 3}, {'quantity': 82, 'price': 368.45, 'orders': 2}]}}]\n",
      "Length: 4\n",
      "Ticks: [{'tradable': True, 'mode': 'full', 'instrument_token': 134657, 'last_price': 368.05, 'last_quantity': 32, 'average_price': 367.55, 'volume': 4793174, 'buy_quantity': 428560, 'sell_quantity': 481876, 'ohlc': {'open': 362.15, 'high': 372.9, 'low': 361.2, 'close': 360.1}, 'change': 2.2077200777561754, 'last_trade_time': datetime.datetime(2020, 4, 20, 14, 5, 33), 'oi': 0, 'oi_day_high': 0, 'oi_day_low': 0, 'timestamp': datetime.datetime(2020, 4, 20, 14, 5, 36), 'depth': {'buy': [{'quantity': 812, 'price': 368.0, 'orders': 7}, {'quantity': 23, 'price': 367.9, 'orders': 1}, {'quantity': 57, 'price': 367.85, 'orders': 2}, {'quantity': 606, 'price': 367.8, 'orders': 4}, {'quantity': 929, 'price': 367.75, 'orders': 6}], 'sell': [{'quantity': 87, 'price': 368.25, 'orders': 1}, {'quantity': 3435, 'price': 368.3, 'orders': 1}, {'quantity': 81, 'price': 368.35, 'orders': 3}, {'quantity': 345, 'price': 368.4, 'orders': 2}, {'quantity': 82, 'price': 368.45, 'orders': 2}]}}]\n",
      "Length: 5\n",
      "Ticks: [{'tradable': True, 'mode': 'full', 'instrument_token': 134657, 'last_price': 368.05, 'last_quantity': 32, 'average_price': 367.55, 'volume': 4793174, 'buy_quantity': 428347, 'sell_quantity': 483289, 'ohlc': {'open': 362.15, 'high': 372.9, 'low': 361.2, 'close': 360.1}, 'change': 2.2077200777561754, 'last_trade_time': datetime.datetime(2020, 4, 20, 14, 5, 33), 'oi': 0, 'oi_day_high': 0, 'oi_day_low': 0, 'timestamp': datetime.datetime(2020, 4, 20, 14, 5, 37), 'depth': {'buy': [{'quantity': 812, 'price': 368.0, 'orders': 7}, {'quantity': 53, 'price': 367.85, 'orders': 2}, {'quantity': 534, 'price': 367.8, 'orders': 3}, {'quantity': 891, 'price': 367.75, 'orders': 6}, {'quantity': 619, 'price': 367.7, 'orders': 3}], 'sell': [{'quantity': 14, 'price': 368.2, 'orders': 1}, {'quantity': 114, 'price': 368.25, 'orders': 2}, {'quantity': 3771, 'price': 368.3, 'orders': 3}, {'quantity': 226, 'price': 368.35, 'orders': 3}, {'quantity': 756, 'price': 368.4, 'orders': 4}]}}]\n",
      "Length: 6\n",
      "Ticks: [{'tradable': True, 'mode': 'full', 'instrument_token': 134657, 'last_price': 368.3, 'last_quantity': 139, 'average_price': 367.55, 'volume': 4797907, 'buy_quantity': 431284, 'sell_quantity': 475604, 'ohlc': {'open': 362.15, 'high': 372.9, 'low': 361.2, 'close': 360.1}, 'change': 2.2771452374340426, 'last_trade_time': datetime.datetime(2020, 4, 20, 14, 5, 38), 'oi': 0, 'oi_day_high': 0, 'oi_day_low': 0, 'timestamp': datetime.datetime(2020, 4, 20, 14, 5, 38), 'depth': {'buy': [{'quantity': 163, 'price': 368.35, 'orders': 1}, {'quantity': 94, 'price': 368.3, 'orders': 2}, {'quantity': 23, 'price': 368.25, 'orders': 1}, {'quantity': 30, 'price': 368.2, 'orders': 1}, {'quantity': 419, 'price': 368.1, 'orders': 2}], 'sell': [{'quantity': 12, 'price': 368.6, 'orders': 2}, {'quantity': 200, 'price': 368.65, 'orders': 2}, {'quantity': 2500, 'price': 368.7, 'orders': 6}, {'quantity': 983, 'price': 368.75, 'orders': 5}, {'quantity': 2368, 'price': 368.8, 'orders': 7}]}}]\n",
      "Length: 7\n",
      "Ticks: [{'tradable': True, 'mode': 'full', 'instrument_token': 134657, 'last_price': 368.3, 'last_quantity': 16, 'average_price': 367.55, 'volume': 4797907, 'buy_quantity': 431284, 'sell_quantity': 475604, 'ohlc': {'open': 362.15, 'high': 372.9, 'low': 361.2, 'close': 360.1}, 'change': 2.2771452374340426, 'last_trade_time': datetime.datetime(2020, 4, 20, 14, 5, 38), 'oi': 0, 'oi_day_high': 0, 'oi_day_low': 0, 'timestamp': datetime.datetime(2020, 4, 20, 14, 5, 39), 'depth': {'buy': [{'quantity': 163, 'price': 368.35, 'orders': 1}, {'quantity': 94, 'price': 368.3, 'orders': 2}, {'quantity': 23, 'price': 368.25, 'orders': 1}, {'quantity': 30, 'price': 368.2, 'orders': 1}, {'quantity': 419, 'price': 368.1, 'orders': 2}], 'sell': [{'quantity': 12, 'price': 368.6, 'orders': 2}, {'quantity': 200, 'price': 368.65, 'orders': 2}, {'quantity': 2500, 'price': 368.7, 'orders': 6}, {'quantity': 983, 'price': 368.75, 'orders': 5}, {'quantity': 2368, 'price': 368.8, 'orders': 7}]}}]\n",
      "Length: 8\n",
      "Ticks: [{'tradable': True, 'mode': 'full', 'instrument_token': 134657, 'last_price': 368.3, 'last_quantity': 16, 'average_price': 367.55, 'volume': 4798153, 'buy_quantity': 430971, 'sell_quantity': 475853, 'ohlc': {'open': 362.15, 'high': 372.9, 'low': 361.2, 'close': 360.1}, 'change': 2.2771452374340426, 'last_trade_time': datetime.datetime(2020, 4, 20, 14, 5, 38), 'oi': 0, 'oi_day_high': 0, 'oi_day_low': 0, 'timestamp': datetime.datetime(2020, 4, 20, 14, 5, 39), 'depth': {'buy': [{'quantity': 309, 'price': 368.25, 'orders': 3}, {'quantity': 92, 'price': 368.2, 'orders': 2}, {'quantity': 529, 'price': 368.15, 'orders': 4}, {'quantity': 219, 'price': 368.1, 'orders': 1}, {'quantity': 754, 'price': 368.05, 'orders': 5}], 'sell': [{'quantity': 114, 'price': 368.6, 'orders': 4}, {'quantity': 200, 'price': 368.65, 'orders': 2}, {'quantity': 2731, 'price': 368.7, 'orders': 10}, {'quantity': 1129, 'price': 368.75, 'orders': 6}, {'quantity': 2138, 'price': 368.8, 'orders': 5}]}}]\n",
      "Length: 9\n",
      "Ticks: [{'tradable': True, 'mode': 'full', 'instrument_token': 134657, 'last_price': 368.3, 'last_quantity': 16, 'average_price': 367.55, 'volume': 4798153, 'buy_quantity': 431004, 'sell_quantity': 475845, 'ohlc': {'open': 362.15, 'high': 372.9, 'low': 361.2, 'close': 360.1}, 'change': 2.2771452374340426, 'last_trade_time': datetime.datetime(2020, 4, 20, 14, 5, 38), 'oi': 0, 'oi_day_high': 0, 'oi_day_low': 0, 'timestamp': datetime.datetime(2020, 4, 20, 14, 5, 41), 'depth': {'buy': [{'quantity': 342, 'price': 368.25, 'orders': 4}, {'quantity': 92, 'price': 368.2, 'orders': 2}, {'quantity': 529, 'price': 368.15, 'orders': 4}, {'quantity': 219, 'price': 368.1, 'orders': 1}, {'quantity': 372, 'price': 368.05, 'orders': 4}], 'sell': [{'quantity': 86, 'price': 368.6, 'orders': 3}, {'quantity': 220, 'price': 368.65, 'orders': 3}, {'quantity': 2731, 'price': 368.7, 'orders': 10}, {'quantity': 1129, 'price': 368.75, 'orders': 6}, {'quantity': 2138, 'price': 368.8, 'orders': 5}]}}]\n",
      "Length: 10\n",
      "Ticks: [{'tradable': True, 'mode': 'full', 'instrument_token': 134657, 'last_price': 368.3, 'last_quantity': 16, 'average_price': 367.55, 'volume': 4798153, 'buy_quantity': 431054, 'sell_quantity': 475696, 'ohlc': {'open': 362.15, 'high': 372.9, 'low': 361.2, 'close': 360.1}, 'change': 2.2771452374340426, 'last_trade_time': datetime.datetime(2020, 4, 20, 14, 5, 38), 'oi': 0, 'oi_day_high': 0, 'oi_day_low': 0, 'timestamp': datetime.datetime(2020, 4, 20, 14, 5, 41), 'depth': {'buy': [{'quantity': 342, 'price': 368.25, 'orders': 4}, {'quantity': 92, 'price': 368.2, 'orders': 2}, {'quantity': 529, 'price': 368.15, 'orders': 4}, {'quantity': 219, 'price': 368.1, 'orders': 1}, {'quantity': 172, 'price': 368.05, 'orders': 3}], 'sell': [{'quantity': 136, 'price': 368.6, 'orders': 4}, {'quantity': 220, 'price': 368.65, 'orders': 3}, {'quantity': 2731, 'price': 368.7, 'orders': 10}, {'quantity': 1129, 'price': 368.75, 'orders': 6}, {'quantity': 1939, 'price': 368.8, 'orders': 4}]}}]\n",
      "Length: 11\n"
     ]
    },
    {
     "name": "stderr",
     "output_type": "stream",
     "text": [
      "Connection error: 1006 - connection was closed uncleanly (peer dropped the TCP connection without previous WebSocket closing handshake)\n",
      "Connection closed: 1006 - connection was closed uncleanly (peer dropped the TCP connection without previous WebSocket closing handshake)\n",
      "Unhandled Error\n",
      "Traceback (most recent call last):\n",
      "  File \"/Users/mayank.gupta/Moneygen/nseAPI/env/lib/python3.7/site-packages/twisted/internet/defer.py\", line 311, in addCallbacks\n",
      "    self._runCallbacks()\n",
      "  File \"/Users/mayank.gupta/Moneygen/nseAPI/env/lib/python3.7/site-packages/twisted/internet/defer.py\", line 654, in _runCallbacks\n",
      "    current.result = callback(current.result, *args, **kw)\n",
      "  File \"/Users/mayank.gupta/Moneygen/nseAPI/env/lib/python3.7/site-packages/twisted/internet/base.py\", line 447, in _continueFiring\n",
      "    callable(*args, **kwargs)\n",
      "  File \"/Users/mayank.gupta/Moneygen/nseAPI/env/lib/python3.7/site-packages/twisted/internet/base.py\", line 706, in disconnectAll\n",
      "    failure.Failure(main.CONNECTION_LOST))\n",
      "--- <exception caught here> ---\n",
      "  File \"/Users/mayank.gupta/Moneygen/nseAPI/env/lib/python3.7/site-packages/twisted/python/log.py\", line 103, in callWithLogger\n",
      "    return callWithContext({\"system\": lp}, func, *args, **kw)\n",
      "  File \"/Users/mayank.gupta/Moneygen/nseAPI/env/lib/python3.7/site-packages/twisted/python/log.py\", line 86, in callWithContext\n",
      "    return context.call({ILogContext: newCtx}, func, *args, **kw)\n",
      "  File \"/Users/mayank.gupta/Moneygen/nseAPI/env/lib/python3.7/site-packages/twisted/python/context.py\", line 122, in callWithContext\n",
      "    return self.currentContext().callWithContext(ctx, func, *args, **kw)\n",
      "  File \"/Users/mayank.gupta/Moneygen/nseAPI/env/lib/python3.7/site-packages/twisted/python/context.py\", line 85, in callWithContext\n",
      "    return func(*args,**kw)\n",
      "  File \"/Users/mayank.gupta/Moneygen/nseAPI/env/lib/python3.7/site-packages/twisted/internet/tcp.py\", line 519, in connectionLost\n",
      "    self._commonConnection.connectionLost(self, reason)\n",
      "  File \"/Users/mayank.gupta/Moneygen/nseAPI/env/lib/python3.7/site-packages/twisted/internet/tcp.py\", line 327, in connectionLost\n",
      "    protocol.connectionLost(reason)\n",
      "  File \"/Users/mayank.gupta/Moneygen/nseAPI/env/lib/python3.7/site-packages/twisted/protocols/tls.py\", line 403, in connectionLost\n",
      "    ProtocolWrapper.connectionLost(self, reason)\n",
      "  File \"/Users/mayank.gupta/Moneygen/nseAPI/env/lib/python3.7/site-packages/twisted/protocols/policies.py\", line 125, in connectionLost\n",
      "    self.wrappedProtocol.connectionLost(reason)\n",
      "  File \"/Users/mayank.gupta/Moneygen/nseAPI/env/lib/python3.7/site-packages/autobahn/twisted/websocket.py\", line 288, in connectionLost\n",
      "    self._connectionLost(reason)\n",
      "  File \"/Users/mayank.gupta/Moneygen/nseAPI/env/lib/python3.7/site-packages/autobahn/websocket/protocol.py\", line 3422, in _connectionLost\n",
      "    WebSocketProtocol._connectionLost(self, reason)\n",
      "  File \"/Users/mayank.gupta/Moneygen/nseAPI/env/lib/python3.7/site-packages/autobahn/websocket/protocol.py\", line 1133, in _connectionLost\n",
      "    self._onClose(self.wasClean, WebSocketProtocol.CLOSE_STATUS_CODE_ABNORMAL_CLOSE, \"connection was closed uncleanly (%s)\" % self.wasNotCleanReason)\n",
      "  File \"/Users/mayank.gupta/Moneygen/nseAPI/env/lib/python3.7/site-packages/autobahn/twisted/websocket.py\", line 331, in _onClose\n",
      "    self.onClose(wasClean, code, reason)\n",
      "  File \"/Users/mayank.gupta/Moneygen/nseAPI/env/lib/python3.7/site-packages/kiteconnect-3.8.1-py3.7.egg/kiteconnect/ticker.py\", line 81, in onClose\n",
      "    \n",
      "  File \"/Users/mayank.gupta/Moneygen/nseAPI/env/lib/python3.7/site-packages/kiteconnect-3.8.1-py3.7.egg/kiteconnect/ticker.py\", line 654, in _on_close\n",
      "    \n",
      "  File \"<ipython-input-17-4ba69f82c34c>\", line 23, in on_close\n",
      "    ws.stop()\n",
      "  File \"/Users/mayank.gupta/Moneygen/nseAPI/env/lib/python3.7/site-packages/kiteconnect-3.8.1-py3.7.egg/kiteconnect/ticker.py\", line 555, in stop\n",
      "    \n",
      "  File \"/Users/mayank.gupta/Moneygen/nseAPI/env/lib/python3.7/site-packages/twisted/internet/base.py\", line 647, in stop\n",
      "    \"Can't stop reactor that isn't running.\")\n",
      "twisted.internet.error.ReactorNotRunning: Can't stop reactor that isn't running.\n",
      "\n"
     ]
    },
    {
     "name": "stdout",
     "output_type": "stream",
     "text": [
      "Ticks: [{'tradable': True, 'mode': 'full', 'instrument_token': 134657, 'last_price': 368.25, 'last_quantity': 1, 'average_price': 367.55, 'volume': 4798154, 'buy_quantity': 431053, 'sell_quantity': 475696, 'ohlc': {'open': 362.15, 'high': 372.9, 'low': 361.2, 'close': 360.1}, 'change': 2.263260205498466, 'last_trade_time': datetime.datetime(2020, 4, 20, 14, 5, 43), 'oi': 0, 'oi_day_high': 0, 'oi_day_low': 0, 'timestamp': datetime.datetime(2020, 4, 20, 14, 5, 43), 'depth': {'buy': [{'quantity': 341, 'price': 368.25, 'orders': 4}, {'quantity': 92, 'price': 368.2, 'orders': 2}, {'quantity': 529, 'price': 368.15, 'orders': 4}, {'quantity': 219, 'price': 368.1, 'orders': 1}, {'quantity': 172, 'price': 368.05, 'orders': 3}], 'sell': [{'quantity': 136, 'price': 368.6, 'orders': 4}, {'quantity': 220, 'price': 368.65, 'orders': 3}, {'quantity': 2731, 'price': 368.7, 'orders': 10}, {'quantity': 1129, 'price': 368.75, 'orders': 6}, {'quantity': 1939, 'price': 368.8, 'orders': 4}]}}]\n",
      "Length: 12\n"
     ]
    }
   ],
   "source": [
    "# Infinite loop on the main thread. Nothing after this will run.\n",
    "# You have to use the pre-defined callbacks to manage subscriptions.\n",
    "kws.connect()"
   ]
  },
  {
   "cell_type": "code",
   "execution_count": null,
   "metadata": {},
   "outputs": [],
   "source": []
  }
 ],
 "metadata": {
  "kernelspec": {
   "display_name": "nse_new",
   "language": "python",
   "name": "nse_new"
  },
  "language_info": {
   "codemirror_mode": {
    "name": "ipython",
    "version": 3
   },
   "file_extension": ".py",
   "mimetype": "text/x-python",
   "name": "python",
   "nbconvert_exporter": "python",
   "pygments_lexer": "ipython3",
   "version": "3.7.7"
  }
 },
 "nbformat": 4,
 "nbformat_minor": 4
}
