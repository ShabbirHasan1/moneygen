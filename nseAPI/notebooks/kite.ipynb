{
 "cells": [
  {
   "cell_type": "code",
   "execution_count": 1,
   "metadata": {},
   "outputs": [],
   "source": [
    "import logging\n",
    "from kiteconnect import KiteConnect\n",
    "from kiteconnect import KiteTicker"
   ]
  },
  {
   "cell_type": "code",
   "execution_count": 2,
   "metadata": {},
   "outputs": [],
   "source": [
    "kite = KiteConnect(api_key=\"37wk1ehie3noonc1\")"
   ]
  },
  {
   "cell_type": "code",
   "execution_count": 3,
   "metadata": {},
   "outputs": [
    {
     "name": "stdout",
     "output_type": "stream",
     "text": [
      "https://kite.trade/connect/login?api_key=37wk1ehie3noonc1&v=3\n"
     ]
    }
   ],
   "source": [
    "print(kite.login_url())"
   ]
  },
  {
   "cell_type": "code",
   "execution_count": 4,
   "metadata": {},
   "outputs": [],
   "source": [
    "data = kite.generate_session(\"ARC5X4CSmLeFfrKagI1bsWlA77NG0LkH\", api_secret=\"oqzjzmrz6674x4xl7mbfq0qltd1oekts\")"
   ]
  },
  {
   "cell_type": "code",
   "execution_count": 5,
   "metadata": {},
   "outputs": [],
   "source": [
    "kite.set_access_token(data[\"access_token\"])\n"
   ]
  },
  {
   "cell_type": "code",
   "execution_count": 17,
   "metadata": {},
   "outputs": [],
   "source": [
    "instruments = kite.instruments(exchange='NSE')"
   ]
  },
  {
   "cell_type": "code",
   "execution_count": 18,
   "metadata": {},
   "outputs": [
    {
     "data": {
      "text/plain": [
       "OrderedDict([('instrument_token', 272393),\n",
       "             ('exchange_token', '1064'),\n",
       "             ('tradingsymbol', 'NIFTY100 QUALTY30'),\n",
       "             ('name', ''),\n",
       "             ('last_price', 0.0),\n",
       "             ('expiry', ''),\n",
       "             ('strike', 0.0),\n",
       "             ('tick_size', 0.0),\n",
       "             ('lot_size', 0),\n",
       "             ('instrument_type', 'EQ'),\n",
       "             ('segment', 'INDICES'),\n",
       "             ('exchange', 'NSE')])"
      ]
     },
     "execution_count": 18,
     "metadata": {},
     "output_type": "execute_result"
    }
   ],
   "source": [
    "instruments[0]"
   ]
  },
  {
   "cell_type": "code",
   "execution_count": 19,
   "metadata": {},
   "outputs": [
    {
     "name": "stdout",
     "output_type": "stream",
     "text": [
      "134657\n"
     ]
    }
   ],
   "source": [
    "for instrument in instruments:\n",
    "    if instrument['tradingsymbol'] == 'BPCL':\n",
    "        print(instrument['instrument_token'])"
   ]
  },
  {
   "cell_type": "code",
   "execution_count": 20,
   "metadata": {},
   "outputs": [
    {
     "name": "stdout",
     "output_type": "stream",
     "text": [
      "408065\n"
     ]
    }
   ],
   "source": [
    "for instrument in instruments:\n",
    "    if instrument['tradingsymbol'] == 'INFY':\n",
    "        print(instrument['instrument_token'])"
   ]
  },
  {
   "cell_type": "code",
   "execution_count": 21,
   "metadata": {},
   "outputs": [],
   "source": [
    "# logging.basicConfig(level=logging.DEBUG)"
   ]
  },
  {
   "cell_type": "code",
   "execution_count": 6,
   "metadata": {},
   "outputs": [],
   "source": [
    "# Initialise\n",
    "kws = KiteTicker(\"37wk1ehie3noonc1\", data['access_token'])"
   ]
  },
  {
   "cell_type": "code",
   "execution_count": 7,
   "metadata": {},
   "outputs": [],
   "source": [
    "def on_ticks(ws, ticks):\n",
    "    # Callback to receive ticks.\n",
    "    print(\"Ticks: {}\".format(ticks))\n",
    "\n",
    "def on_connect(ws, response):\n",
    "    # Callback on successful connect.\n",
    "    # Subscribe to a list of instrument_tokens (RELIANCE and ACC here).\n",
    "    ws.subscribe([134657, 408065])\n",
    "\n",
    "    # Set RELIANCE to tick in `full` mode.\n",
    "    ws.set_mode(ws.MODE_FULL, [408065])\n",
    "\n",
    "def on_close(ws, code, reason):\n",
    "    # On connection close stop the main loop\n",
    "    # Reconnection will not happen after executing `ws.stop()`\n",
    "    ws.stop()"
   ]
  },
  {
   "cell_type": "code",
   "execution_count": 8,
   "metadata": {},
   "outputs": [],
   "source": [
    "# Assign the callbacks.\n",
    "kws.on_ticks = on_ticks\n",
    "kws.on_connect = on_connect\n",
    "kws.on_close = on_close"
   ]
  },
  {
   "cell_type": "code",
   "execution_count": 9,
   "metadata": {},
   "outputs": [
    {
     "name": "stdout",
     "output_type": "stream",
     "text": [
      "Ticks: [{'tradable': True, 'mode': 'quote', 'instrument_token': 134657, 'last_price': 453.8, 'last_quantity': 10, 'average_price': 452.88, 'volume': 8658069, 'buy_quantity': 827280, 'sell_quantity': 595506, 'ohlc': {'open': 450.0, 'high': 457.7, 'low': 448.55, 'close': 461.0}, 'change': -1.5618221258134466}, {'tradable': True, 'mode': 'full', 'instrument_token': 408065, 'last_price': 714.85, 'last_quantity': 1, 'average_price': 718.24, 'volume': 6070025, 'buy_quantity': 659161, 'sell_quantity': 1606702, 'ohlc': {'open': 724.95, 'high': 729.0, 'low': 708.3, 'close': 727.9}, 'change': -1.7928286852589579, 'last_trade_time': datetime.datetime(2020, 1, 8, 13, 21, 11), 'oi': 0, 'oi_day_high': 0, 'oi_day_low': 0, 'timestamp': datetime.datetime(2020, 1, 8, 13, 21, 13), 'depth': {'buy': [{'quantity': 13, 'price': 714.85, 'orders': 2}, {'quantity': 50, 'price': 714.75, 'orders': 1}, {'quantity': 176, 'price': 714.7, 'orders': 4}, {'quantity': 515, 'price': 714.65, 'orders': 2}, {'quantity': 2467, 'price': 714.6, 'orders': 10}], 'sell': [{'quantity': 107, 'price': 714.9, 'orders': 1}, {'quantity': 414, 'price': 714.95, 'orders': 5}, {'quantity': 517, 'price': 715.0, 'orders': 9}, {'quantity': 706, 'price': 715.05, 'orders': 5}, {'quantity': 2703, 'price': 715.1, 'orders': 4}]}}]\n",
      "Ticks: [{'tradable': True, 'mode': 'full', 'instrument_token': 408065, 'last_price': 714.9, 'last_quantity': 14, 'average_price': 718.24, 'volume': 6070238, 'buy_quantity': 660269, 'sell_quantity': 1606884, 'ohlc': {'open': 724.95, 'high': 729.0, 'low': 708.3, 'close': 727.9}, 'change': -1.785959609836516, 'last_trade_time': datetime.datetime(2020, 1, 8, 13, 21, 14), 'oi': 0, 'oi_day_high': 0, 'oi_day_low': 0, 'timestamp': datetime.datetime(2020, 1, 8, 13, 21, 14), 'depth': {'buy': [{'quantity': 4, 'price': 714.85, 'orders': 1}, {'quantity': 100, 'price': 714.8, 'orders': 1}, {'quantity': 51, 'price': 714.75, 'orders': 2}, {'quantity': 175, 'price': 714.7, 'orders': 4}, {'quantity': 514, 'price': 714.65, 'orders': 1}], 'sell': [{'quantity': 7, 'price': 714.9, 'orders': 1}, {'quantity': 414, 'price': 714.95, 'orders': 5}, {'quantity': 517, 'price': 715.0, 'orders': 9}, {'quantity': 220, 'price': 715.05, 'orders': 3}, {'quantity': 2695, 'price': 715.1, 'orders': 6}]}}, {'tradable': True, 'mode': 'quote', 'instrument_token': 134657, 'last_price': 453.9, 'last_quantity': 2, 'average_price': 452.88, 'volume': 8658741, 'buy_quantity': 829202, 'sell_quantity': 593798, 'ohlc': {'open': 450.0, 'high': 457.7, 'low': 448.55, 'close': 461.0}, 'change': -1.5401301518438226}]\n",
      "Ticks: [{'tradable': True, 'mode': 'quote', 'instrument_token': 134657, 'last_price': 453.8, 'last_quantity': 100, 'average_price': 452.88, 'volume': 8658741, 'buy_quantity': 829202, 'sell_quantity': 593798, 'ohlc': {'open': 450.0, 'high': 457.7, 'low': 448.55, 'close': 461.0}, 'change': -1.5618221258134466}]\n",
      "Ticks: [{'tradable': True, 'mode': 'quote', 'instrument_token': 134657, 'last_price': 453.8, 'last_quantity': 100, 'average_price': 452.88, 'volume': 8658841, 'buy_quantity': 826491, 'sell_quantity': 593803, 'ohlc': {'open': 450.0, 'high': 457.7, 'low': 448.55, 'close': 461.0}, 'change': -1.5618221258134466}, {'tradable': True, 'mode': 'full', 'instrument_token': 408065, 'last_price': 714.85, 'last_quantity': 10, 'average_price': 718.24, 'volume': 6070307, 'buy_quantity': 660918, 'sell_quantity': 1606094, 'ohlc': {'open': 724.95, 'high': 729.0, 'low': 708.3, 'close': 727.9}, 'change': -1.7928286852589579, 'last_trade_time': datetime.datetime(2020, 1, 8, 13, 21, 15), 'oi': 0, 'oi_day_high': 0, 'oi_day_low': 0, 'timestamp': datetime.datetime(2020, 1, 8, 13, 21, 15), 'depth': {'buy': [{'quantity': 51, 'price': 714.75, 'orders': 2}, {'quantity': 175, 'price': 714.7, 'orders': 4}, {'quantity': 27, 'price': 714.65, 'orders': 1}, {'quantity': 2575, 'price': 714.6, 'orders': 10}, {'quantity': 1009, 'price': 714.55, 'orders': 7}], 'sell': [{'quantity': 26, 'price': 714.85, 'orders': 1}, {'quantity': 370, 'price': 714.95, 'orders': 5}, {'quantity': 517, 'price': 715.0, 'orders': 9}, {'quantity': 30, 'price': 715.05, 'orders': 2}, {'quantity': 2215, 'price': 715.1, 'orders': 4}]}}]\n",
      "Ticks: [{'tradable': True, 'mode': 'full', 'instrument_token': 408065, 'last_price': 714.85, 'last_quantity': 2, 'average_price': 718.24, 'volume': 6070307, 'buy_quantity': 660918, 'sell_quantity': 1606094, 'ohlc': {'open': 724.95, 'high': 729.0, 'low': 708.3, 'close': 727.9}, 'change': -1.7928286852589579, 'last_trade_time': datetime.datetime(2020, 1, 8, 13, 21, 15), 'oi': 0, 'oi_day_high': 0, 'oi_day_low': 0, 'timestamp': datetime.datetime(2020, 1, 8, 13, 21, 16), 'depth': {'buy': [{'quantity': 51, 'price': 714.75, 'orders': 2}, {'quantity': 175, 'price': 714.7, 'orders': 4}, {'quantity': 27, 'price': 714.65, 'orders': 1}, {'quantity': 2575, 'price': 714.6, 'orders': 10}, {'quantity': 1009, 'price': 714.55, 'orders': 7}], 'sell': [{'quantity': 26, 'price': 714.85, 'orders': 1}, {'quantity': 370, 'price': 714.95, 'orders': 5}, {'quantity': 517, 'price': 715.0, 'orders': 9}, {'quantity': 30, 'price': 715.05, 'orders': 2}, {'quantity': 2215, 'price': 715.1, 'orders': 4}]}}]\n",
      "Ticks: [{'tradable': True, 'mode': 'quote', 'instrument_token': 134657, 'last_price': 454.0, 'last_quantity': 138, 'average_price': 452.88, 'volume': 8659114, 'buy_quantity': 832618, 'sell_quantity': 594318, 'ohlc': {'open': 450.0, 'high': 457.7, 'low': 448.55, 'close': 461.0}, 'change': -1.5184381778741864}, {'tradable': True, 'mode': 'full', 'instrument_token': 408065, 'last_price': 714.85, 'last_quantity': 2, 'average_price': 718.24, 'volume': 6070380, 'buy_quantity': 660903, 'sell_quantity': 1606901, 'ohlc': {'open': 724.95, 'high': 729.0, 'low': 708.3, 'close': 727.9}, 'change': -1.7928286852589579, 'last_trade_time': datetime.datetime(2020, 1, 8, 13, 21, 16), 'oi': 0, 'oi_day_high': 0, 'oi_day_low': 0, 'timestamp': datetime.datetime(2020, 1, 8, 13, 21, 17), 'depth': {'buy': [{'quantity': 56, 'price': 714.75, 'orders': 5}, {'quantity': 183, 'price': 714.7, 'orders': 6}, {'quantity': 27, 'price': 714.65, 'orders': 1}, {'quantity': 2650, 'price': 714.6, 'orders': 11}, {'quantity': 906, 'price': 714.55, 'orders': 6}], 'sell': [{'quantity': 2, 'price': 714.85, 'orders': 1}, {'quantity': 370, 'price': 714.95, 'orders': 5}, {'quantity': 517, 'price': 715.0, 'orders': 9}, {'quantity': 6, 'price': 715.05, 'orders': 2}, {'quantity': 2215, 'price': 715.1, 'orders': 4}]}}]\n",
      "Ticks: [{'tradable': True, 'mode': 'full', 'instrument_token': 408065, 'last_price': 714.85, 'last_quantity': 2, 'average_price': 718.24, 'volume': 6070380, 'buy_quantity': 660906, 'sell_quantity': 1607123, 'ohlc': {'open': 724.95, 'high': 729.0, 'low': 708.3, 'close': 727.9}, 'change': -1.7928286852589579, 'last_trade_time': datetime.datetime(2020, 1, 8, 13, 21, 16), 'oi': 0, 'oi_day_high': 0, 'oi_day_low': 0, 'timestamp': datetime.datetime(2020, 1, 8, 13, 21, 18), 'depth': {'buy': [{'quantity': 59, 'price': 714.75, 'orders': 6}, {'quantity': 183, 'price': 714.7, 'orders': 6}, {'quantity': 27, 'price': 714.65, 'orders': 1}, {'quantity': 2650, 'price': 714.6, 'orders': 11}, {'quantity': 906, 'price': 714.55, 'orders': 6}], 'sell': [{'quantity': 2, 'price': 714.85, 'orders': 1}, {'quantity': 370, 'price': 714.95, 'orders': 5}, {'quantity': 517, 'price': 715.0, 'orders': 9}, {'quantity': 6, 'price': 715.05, 'orders': 2}, {'quantity': 2215, 'price': 715.1, 'orders': 4}]}}, {'tradable': True, 'mode': 'quote', 'instrument_token': 134657, 'last_price': 454.0, 'last_quantity': 422, 'average_price': 452.88, 'volume': 8659114, 'buy_quantity': 832480, 'sell_quantity': 592511, 'ohlc': {'open': 450.0, 'high': 457.7, 'low': 448.55, 'close': 461.0}, 'change': -1.5184381778741864}]\n",
      "Ticks: [{'tradable': True, 'mode': 'full', 'instrument_token': 408065, 'last_price': 714.75, 'last_quantity': 100, 'average_price': 718.24, 'volume': 6070585, 'buy_quantity': 661066, 'sell_quantity': 1606609, 'ohlc': {'open': 724.95, 'high': 729.0, 'low': 708.3, 'close': 727.9}, 'change': -1.8065668361038574, 'last_trade_time': datetime.datetime(2020, 1, 8, 13, 21, 19), 'oi': 0, 'oi_day_high': 0, 'oi_day_low': 0, 'timestamp': datetime.datetime(2020, 1, 8, 13, 21, 19), 'depth': {'buy': [{'quantity': 137, 'price': 714.75, 'orders': 2}, {'quantity': 365, 'price': 714.7, 'orders': 8}, {'quantity': 27, 'price': 714.65, 'orders': 1}, {'quantity': 2650, 'price': 714.6, 'orders': 11}, {'quantity': 906, 'price': 714.55, 'orders': 6}], 'sell': [{'quantity': 2, 'price': 714.85, 'orders': 1}, {'quantity': 370, 'price': 714.95, 'orders': 5}, {'quantity': 517, 'price': 715.0, 'orders': 9}, {'quantity': 6, 'price': 715.05, 'orders': 2}, {'quantity': 2215, 'price': 715.1, 'orders': 4}]}}, {'tradable': True, 'mode': 'quote', 'instrument_token': 134657, 'last_price': 453.8, 'last_quantity': 50, 'average_price': 452.88, 'volume': 8659114, 'buy_quantity': 832480, 'sell_quantity': 592511, 'ohlc': {'open': 450.0, 'high': 457.7, 'low': 448.55, 'close': 461.0}, 'change': -1.5618221258134466}]\n",
      "Ticks: [{'tradable': True, 'mode': 'quote', 'instrument_token': 134657, 'last_price': 453.95, 'last_quantity': 44, 'average_price': 452.88, 'volume': 8661008, 'buy_quantity': 826764, 'sell_quantity': 600105, 'ohlc': {'open': 450.0, 'high': 457.7, 'low': 448.55, 'close': 461.0}, 'change': -1.5292841648590045}]\n",
      "Ticks: [{'tradable': True, 'mode': 'full', 'instrument_token': 408065, 'last_price': 714.75, 'last_quantity': 48, 'average_price': 718.24, 'volume': 6070587, 'buy_quantity': 660982, 'sell_quantity': 1606812, 'ohlc': {'open': 724.95, 'high': 729.0, 'low': 708.3, 'close': 727.9}, 'change': -1.8065668361038574, 'last_trade_time': datetime.datetime(2020, 1, 8, 13, 21, 20), 'oi': 0, 'oi_day_high': 0, 'oi_day_low': 0, 'timestamp': datetime.datetime(2020, 1, 8, 13, 21, 20), 'depth': {'buy': [{'quantity': 139, 'price': 714.75, 'orders': 3}, {'quantity': 365, 'price': 714.7, 'orders': 8}, {'quantity': 27, 'price': 714.65, 'orders': 1}, {'quantity': 2650, 'price': 714.6, 'orders': 11}, {'quantity': 906, 'price': 714.55, 'orders': 6}], 'sell': [{'quantity': 2, 'price': 714.85, 'orders': 1}, {'quantity': 370, 'price': 714.95, 'orders': 5}, {'quantity': 600, 'price': 715.0, 'orders': 10}, {'quantity': 6, 'price': 715.05, 'orders': 2}, {'quantity': 2215, 'price': 715.1, 'orders': 4}]}}, {'tradable': True, 'mode': 'quote', 'instrument_token': 134657, 'last_price': 453.95, 'last_quantity': 44, 'average_price': 452.88, 'volume': 8661008, 'buy_quantity': 826764, 'sell_quantity': 600105, 'ohlc': {'open': 450.0, 'high': 457.7, 'low': 448.55, 'close': 461.0}, 'change': -1.5292841648590045}]\n",
      "Ticks: [{'tradable': True, 'mode': 'quote', 'instrument_token': 134657, 'last_price': 454.0, 'last_quantity': 20, 'average_price': 452.88, 'volume': 8661635, 'buy_quantity': 827389, 'sell_quantity': 600110, 'ohlc': {'open': 450.0, 'high': 457.7, 'low': 448.55, 'close': 461.0}, 'change': -1.5184381778741864}]\n",
      "Ticks: [{'tradable': True, 'mode': 'full', 'instrument_token': 408065, 'last_price': 714.8, 'last_quantity': 1, 'average_price': 718.24, 'volume': 6070780, 'buy_quantity': 660722, 'sell_quantity': 1606025, 'ohlc': {'open': 724.95, 'high': 729.0, 'low': 708.3, 'close': 727.9}, 'change': -1.7996977606814155, 'last_trade_time': datetime.datetime(2020, 1, 8, 13, 21, 21), 'oi': 0, 'oi_day_high': 0, 'oi_day_low': 0, 'timestamp': datetime.datetime(2020, 1, 8, 13, 21, 22), 'depth': {'buy': [{'quantity': 33, 'price': 714.75, 'orders': 5}, {'quantity': 357, 'price': 714.7, 'orders': 6}, {'quantity': 42, 'price': 714.65, 'orders': 2}, {'quantity': 2575, 'price': 714.6, 'orders': 10}, {'quantity': 998, 'price': 714.55, 'orders': 7}], 'sell': [{'quantity': 1, 'price': 714.85, 'orders': 1}, {'quantity': 287, 'price': 714.95, 'orders': 2}, {'quantity': 600, 'price': 715.0, 'orders': 10}, {'quantity': 6, 'price': 715.05, 'orders': 2}, {'quantity': 2399, 'price': 715.1, 'orders': 5}]}}, {'tradable': True, 'mode': 'quote', 'instrument_token': 134657, 'last_price': 454.0, 'last_quantity': 20, 'average_price': 452.88, 'volume': 8661635, 'buy_quantity': 827389, 'sell_quantity': 600110, 'ohlc': {'open': 450.0, 'high': 457.7, 'low': 448.55, 'close': 461.0}, 'change': -1.5184381778741864}]\n",
      "Ticks: [{'tradable': True, 'mode': 'quote', 'instrument_token': 134657, 'last_price': 454.15, 'last_quantity': 12, 'average_price': 452.88, 'volume': 8663864, 'buy_quantity': 822733, 'sell_quantity': 598360, 'ohlc': {'open': 450.0, 'high': 457.7, 'low': 448.55, 'close': 461.0}, 'change': -1.4859002169197446}]\n",
      "Ticks: [{'tradable': True, 'mode': 'quote', 'instrument_token': 134657, 'last_price': 454.15, 'last_quantity': 12, 'average_price': 452.88, 'volume': 8663864, 'buy_quantity': 822733, 'sell_quantity': 598360, 'ohlc': {'open': 450.0, 'high': 457.7, 'low': 448.55, 'close': 461.0}, 'change': -1.4859002169197446}, {'tradable': True, 'mode': 'full', 'instrument_token': 408065, 'last_price': 714.85, 'last_quantity': 1, 'average_price': 718.24, 'volume': 6070780, 'buy_quantity': 660722, 'sell_quantity': 1606025, 'ohlc': {'open': 724.95, 'high': 729.0, 'low': 708.3, 'close': 727.9}, 'change': -1.7928286852589579, 'last_trade_time': datetime.datetime(2020, 1, 8, 13, 21, 21), 'oi': 0, 'oi_day_high': 0, 'oi_day_low': 0, 'timestamp': datetime.datetime(2020, 1, 8, 13, 21, 22), 'depth': {'buy': [{'quantity': 33, 'price': 714.75, 'orders': 5}, {'quantity': 357, 'price': 714.7, 'orders': 6}, {'quantity': 42, 'price': 714.65, 'orders': 2}, {'quantity': 2575, 'price': 714.6, 'orders': 10}, {'quantity': 998, 'price': 714.55, 'orders': 7}], 'sell': [{'quantity': 1, 'price': 714.85, 'orders': 1}, {'quantity': 287, 'price': 714.95, 'orders': 2}, {'quantity': 600, 'price': 715.0, 'orders': 10}, {'quantity': 6, 'price': 715.05, 'orders': 2}, {'quantity': 2399, 'price': 715.1, 'orders': 5}]}}]\n",
      "Ticks: [{'tradable': True, 'mode': 'full', 'instrument_token': 408065, 'last_price': 714.85, 'last_quantity': 1, 'average_price': 718.24, 'volume': 6070781, 'buy_quantity': 660764, 'sell_quantity': 1605841, 'ohlc': {'open': 724.95, 'high': 729.0, 'low': 708.3, 'close': 727.9}, 'change': -1.7928286852589579, 'last_trade_time': datetime.datetime(2020, 1, 8, 13, 21, 22), 'oi': 0, 'oi_day_high': 0, 'oi_day_low': 0, 'timestamp': datetime.datetime(2020, 1, 8, 13, 21, 23), 'depth': {'buy': [{'quantity': 31, 'price': 714.75, 'orders': 4}, {'quantity': 365, 'price': 714.7, 'orders': 7}, {'quantity': 28, 'price': 714.65, 'orders': 2}, {'quantity': 2625, 'price': 714.6, 'orders': 11}, {'quantity': 998, 'price': 714.55, 'orders': 7}], 'sell': [{'quantity': 9, 'price': 714.85, 'orders': 1}, {'quantity': 287, 'price': 714.95, 'orders': 2}, {'quantity': 600, 'price': 715.0, 'orders': 10}, {'quantity': 6, 'price': 715.05, 'orders': 2}, {'quantity': 2647, 'price': 715.1, 'orders': 6}]}}, {'tradable': True, 'mode': 'quote', 'instrument_token': 134657, 'last_price': 453.9, 'last_quantity': 1, 'average_price': 452.88, 'volume': 8663927, 'buy_quantity': 831313, 'sell_quantity': 594152, 'ohlc': {'open': 450.0, 'high': 457.7, 'low': 448.55, 'close': 461.0}, 'change': -1.5401301518438226}]\n",
      "Ticks: [{'tradable': True, 'mode': 'full', 'instrument_token': 408065, 'last_price': 714.75, 'last_quantity': 23, 'average_price': 718.24, 'volume': 6070806, 'buy_quantity': 660745, 'sell_quantity': 1605816, 'ohlc': {'open': 724.95, 'high': 729.0, 'low': 708.3, 'close': 727.9}, 'change': -1.8065668361038574, 'last_trade_time': datetime.datetime(2020, 1, 8, 13, 21, 24), 'oi': 0, 'oi_day_high': 0, 'oi_day_low': 0, 'timestamp': datetime.datetime(2020, 1, 8, 13, 21, 24), 'depth': {'buy': [{'quantity': 8, 'price': 714.75, 'orders': 4}, {'quantity': 379, 'price': 714.7, 'orders': 8}, {'quantity': 28, 'price': 714.65, 'orders': 2}, {'quantity': 2625, 'price': 714.6, 'orders': 11}, {'quantity': 984, 'price': 714.55, 'orders': 6}], 'sell': [{'quantity': 9, 'price': 714.85, 'orders': 1}, {'quantity': 287, 'price': 714.95, 'orders': 2}, {'quantity': 600, 'price': 715.0, 'orders': 10}, {'quantity': 6, 'price': 715.05, 'orders': 2}, {'quantity': 2647, 'price': 715.1, 'orders': 6}]}}]\n"
     ]
    },
    {
     "name": "stderr",
     "output_type": "stream",
     "text": [
      "Connection error: 1006 - connection was closed uncleanly (peer dropped the TCP connection without previous WebSocket closing handshake)\n",
      "Connection closed: 1006 - connection was closed uncleanly (peer dropped the TCP connection without previous WebSocket closing handshake)\n",
      "Unhandled Error\n",
      "Traceback (most recent call last):\n",
      "  File \"/Users/mayank.gupta/venv/DLaaS/lib/python3.7/site-packages/twisted/internet/defer.py\", line 311, in addCallbacks\n",
      "    self._runCallbacks()\n",
      "  File \"/Users/mayank.gupta/venv/DLaaS/lib/python3.7/site-packages/twisted/internet/defer.py\", line 654, in _runCallbacks\n",
      "    current.result = callback(current.result, *args, **kw)\n",
      "  File \"/Users/mayank.gupta/venv/DLaaS/lib/python3.7/site-packages/twisted/internet/base.py\", line 447, in _continueFiring\n",
      "    callable(*args, **kwargs)\n",
      "  File \"/Users/mayank.gupta/venv/DLaaS/lib/python3.7/site-packages/twisted/internet/base.py\", line 706, in disconnectAll\n",
      "    failure.Failure(main.CONNECTION_LOST))\n",
      "--- <exception caught here> ---\n",
      "  File \"/Users/mayank.gupta/venv/DLaaS/lib/python3.7/site-packages/twisted/python/log.py\", line 103, in callWithLogger\n",
      "    return callWithContext({\"system\": lp}, func, *args, **kw)\n",
      "  File \"/Users/mayank.gupta/venv/DLaaS/lib/python3.7/site-packages/twisted/python/log.py\", line 86, in callWithContext\n",
      "    return context.call({ILogContext: newCtx}, func, *args, **kw)\n",
      "  File \"/Users/mayank.gupta/venv/DLaaS/lib/python3.7/site-packages/twisted/python/context.py\", line 122, in callWithContext\n",
      "    return self.currentContext().callWithContext(ctx, func, *args, **kw)\n",
      "  File \"/Users/mayank.gupta/venv/DLaaS/lib/python3.7/site-packages/twisted/python/context.py\", line 85, in callWithContext\n",
      "    return func(*args,**kw)\n",
      "  File \"/Users/mayank.gupta/venv/DLaaS/lib/python3.7/site-packages/twisted/internet/tcp.py\", line 519, in connectionLost\n",
      "    self._commonConnection.connectionLost(self, reason)\n",
      "  File \"/Users/mayank.gupta/venv/DLaaS/lib/python3.7/site-packages/twisted/internet/tcp.py\", line 327, in connectionLost\n",
      "    protocol.connectionLost(reason)\n",
      "  File \"/Users/mayank.gupta/venv/DLaaS/lib/python3.7/site-packages/twisted/protocols/tls.py\", line 403, in connectionLost\n",
      "    ProtocolWrapper.connectionLost(self, reason)\n",
      "  File \"/Users/mayank.gupta/venv/DLaaS/lib/python3.7/site-packages/twisted/protocols/policies.py\", line 125, in connectionLost\n",
      "    self.wrappedProtocol.connectionLost(reason)\n",
      "  File \"/Users/mayank.gupta/venv/DLaaS/lib/python3.7/site-packages/autobahn/twisted/websocket.py\", line 288, in connectionLost\n",
      "    self._connectionLost(reason)\n",
      "  File \"/Users/mayank.gupta/venv/DLaaS/lib/python3.7/site-packages/autobahn/websocket/protocol.py\", line 3422, in _connectionLost\n",
      "    WebSocketProtocol._connectionLost(self, reason)\n",
      "  File \"/Users/mayank.gupta/venv/DLaaS/lib/python3.7/site-packages/autobahn/websocket/protocol.py\", line 1133, in _connectionLost\n",
      "    self._onClose(self.wasClean, WebSocketProtocol.CLOSE_STATUS_CODE_ABNORMAL_CLOSE, \"connection was closed uncleanly (%s)\" % self.wasNotCleanReason)\n",
      "  File \"/Users/mayank.gupta/venv/DLaaS/lib/python3.7/site-packages/autobahn/twisted/websocket.py\", line 331, in _onClose\n",
      "    self.onClose(wasClean, code, reason)\n",
      "  File \"/Users/mayank.gupta/venv/DLaaS/lib/python3.7/site-packages/kiteconnect-3.8.0-py3.7.egg/kiteconnect/ticker.py\", line 81, in onClose\n",
      "    \n",
      "  File \"/Users/mayank.gupta/venv/DLaaS/lib/python3.7/site-packages/kiteconnect-3.8.0-py3.7.egg/kiteconnect/ticker.py\", line 656, in _on_close\n",
      "    \n",
      "  File \"<ipython-input-7-5d187de5ca14>\", line 16, in on_close\n",
      "    ws.stop()\n",
      "  File \"/Users/mayank.gupta/venv/DLaaS/lib/python3.7/site-packages/kiteconnect-3.8.0-py3.7.egg/kiteconnect/ticker.py\", line 557, in stop\n",
      "    \n",
      "  File \"/Users/mayank.gupta/venv/DLaaS/lib/python3.7/site-packages/twisted/internet/base.py\", line 647, in stop\n",
      "    \"Can't stop reactor that isn't running.\")\n",
      "twisted.internet.error.ReactorNotRunning: Can't stop reactor that isn't running.\n",
      "\n"
     ]
    },
    {
     "name": "stdout",
     "output_type": "stream",
     "text": [
      "Ticks: [{'tradable': True, 'mode': 'full', 'instrument_token': 408065, 'last_price': 714.8, 'last_quantity': 5, 'average_price': 718.24, 'volume': 6070806, 'buy_quantity': 660745, 'sell_quantity': 1605816, 'ohlc': {'open': 724.95, 'high': 729.0, 'low': 708.3, 'close': 727.9}, 'change': -1.7996977606814155, 'last_trade_time': datetime.datetime(2020, 1, 8, 13, 21, 24), 'oi': 0, 'oi_day_high': 0, 'oi_day_low': 0, 'timestamp': datetime.datetime(2020, 1, 8, 13, 21, 24), 'depth': {'buy': [{'quantity': 8, 'price': 714.75, 'orders': 4}, {'quantity': 379, 'price': 714.7, 'orders': 8}, {'quantity': 28, 'price': 714.65, 'orders': 2}, {'quantity': 2625, 'price': 714.6, 'orders': 11}, {'quantity': 984, 'price': 714.55, 'orders': 6}], 'sell': [{'quantity': 9, 'price': 714.85, 'orders': 1}, {'quantity': 287, 'price': 714.95, 'orders': 2}, {'quantity': 600, 'price': 715.0, 'orders': 10}, {'quantity': 6, 'price': 715.05, 'orders': 2}, {'quantity': 2647, 'price': 715.1, 'orders': 6}]}}, {'tradable': True, 'mode': 'quote', 'instrument_token': 134657, 'last_price': 453.95, 'last_quantity': 49, 'average_price': 452.88, 'volume': 8664130, 'buy_quantity': 825921, 'sell_quantity': 597817, 'ohlc': {'open': 450.0, 'high': 457.7, 'low': 448.55, 'close': 461.0}, 'change': -1.5292841648590045}]\n"
     ]
    }
   ],
   "source": [
    "# Infinite loop on the main thread. Nothing after this will run.\n",
    "# You have to use the pre-defined callbacks to manage subscriptions.\n",
    "kws.connect()"
   ]
  },
  {
   "cell_type": "code",
   "execution_count": null,
   "metadata": {},
   "outputs": [],
   "source": []
  }
 ],
 "metadata": {
  "kernelspec": {
   "display_name": "DLaaS",
   "language": "python",
   "name": "dlaas"
  },
  "language_info": {
   "codemirror_mode": {
    "name": "ipython",
    "version": 3
   },
   "file_extension": ".py",
   "mimetype": "text/x-python",
   "name": "python",
   "nbconvert_exporter": "python",
   "pygments_lexer": "ipython3",
   "version": "3.7.1"
  }
 },
 "nbformat": 4,
 "nbformat_minor": 2
}
