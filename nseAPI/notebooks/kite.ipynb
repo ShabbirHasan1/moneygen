{
 "cells": [
  {
   "cell_type": "code",
   "execution_count": 24,
   "metadata": {},
   "outputs": [],
   "source": [
    "import logging\n",
    "from kiteconnect import KiteConnect\n",
    "from kiteconnect import KiteTicker"
   ]
  },
  {
   "cell_type": "code",
   "execution_count": 25,
   "metadata": {},
   "outputs": [],
   "source": [
    "kite = KiteConnect(api_key=\"37wk1ehie3noonc1\")"
   ]
  },
  {
   "cell_type": "code",
   "execution_count": 26,
   "metadata": {},
   "outputs": [
    {
     "name": "stdout",
     "output_type": "stream",
     "text": [
      "https://kite.trade/connect/login?api_key=37wk1ehie3noonc1&v=3\n"
     ]
    }
   ],
   "source": [
    "print(kite.login_url())"
   ]
  },
  {
   "cell_type": "code",
   "execution_count": 4,
   "metadata": {},
   "outputs": [],
   "source": [
    "data = kite.generate_session(\"05BDIEeJmlUW9PsDHk1L46dqq2B0fOW0\", api_secret=\"oqzjzmrz6674x4xl7mbfq0qltd1oekts\")"
   ]
  },
  {
   "cell_type": "code",
   "execution_count": 5,
   "metadata": {},
   "outputs": [],
   "source": [
    "kite.set_access_token(data[\"access_token\"])\n"
   ]
  },
  {
   "cell_type": "code",
   "execution_count": 6,
   "metadata": {},
   "outputs": [],
   "source": [
    "instruments = kite.instruments(exchange='NSE')"
   ]
  },
  {
   "cell_type": "code",
   "execution_count": 7,
   "metadata": {},
   "outputs": [
    {
     "data": {
      "text/plain": [
       "OrderedDict([('instrument_token', 272393),\n",
       "             ('exchange_token', '1064'),\n",
       "             ('tradingsymbol', 'NIFTY100 QUALTY30'),\n",
       "             ('name', ''),\n",
       "             ('last_price', 0.0),\n",
       "             ('expiry', ''),\n",
       "             ('strike', 0.0),\n",
       "             ('tick_size', 0.0),\n",
       "             ('lot_size', 0),\n",
       "             ('instrument_type', 'EQ'),\n",
       "             ('segment', 'INDICES'),\n",
       "             ('exchange', 'NSE')])"
      ]
     },
     "execution_count": 7,
     "metadata": {},
     "output_type": "execute_result"
    }
   ],
   "source": [
    "instruments[0]"
   ]
  },
  {
   "cell_type": "code",
   "execution_count": 8,
   "metadata": {},
   "outputs": [
    {
     "name": "stdout",
     "output_type": "stream",
     "text": [
      "134657\n"
     ]
    }
   ],
   "source": [
    "for instrument in instruments:\n",
    "    if instrument['tradingsymbol'] == 'BPCL':\n",
    "        print(instrument['instrument_token'])"
   ]
  },
  {
   "cell_type": "code",
   "execution_count": 9,
   "metadata": {},
   "outputs": [
    {
     "name": "stdout",
     "output_type": "stream",
     "text": [
      "408065\n"
     ]
    }
   ],
   "source": [
    "for instrument in instruments:\n",
    "    if instrument['tradingsymbol'] == 'INFY':\n",
    "        print(instrument['instrument_token'])"
   ]
  },
  {
   "cell_type": "code",
   "execution_count": 10,
   "metadata": {},
   "outputs": [],
   "source": [
    "# logging.basicConfig(level=logging.DEBUG)"
   ]
  },
  {
   "cell_type": "code",
   "execution_count": 11,
   "metadata": {},
   "outputs": [],
   "source": [
    "# Initialise\n",
    "new_kws = KiteTicker(\"37wk1ehie3noonc1\", data['access_token'])\n",
    "tick_count = 0"
   ]
  },
  {
   "cell_type": "code",
   "execution_count": 12,
   "metadata": {},
   "outputs": [],
   "source": [
    "def on_ticks(ws, ticks):\n",
    "    # Callback to receive ticks.\n",
    "    global tick_count\n",
    "    print(\"Ticks: {}\".format(ticks))\n",
    "    tick_count = tick_count + 1\n",
    "    print(\"Length: {}\".format(tick_count))\n",
    "    if tick_count > 5:\n",
    "        ws.close()\n",
    "\n",
    "def on_connect(ws, response):\n",
    "    # Callback on successful connect.\n",
    "    # Subscribe to a list of instrument_tokens (RELIANCE and ACC here).\n",
    "#     ws.subscribe([134657, 408065])\n",
    "    ws.subscribe([134657])\n",
    "    # Set RELIANCE to tick in `full` mode.\n",
    "#     ws.set_mode(ws.MODE_FULL, [408065])\n",
    "\n",
    "def on_close(ws, code, reason):\n",
    "    # On connection close stop the main loop\n",
    "    # Reconnection will not happen after executing `ws.stop()`\n",
    "    ws.stop()"
   ]
  },
  {
   "cell_type": "code",
   "execution_count": 13,
   "metadata": {},
   "outputs": [],
   "source": [
    "# Assign the callbacks.\n",
    "new_kws.on_ticks = on_ticks\n",
    "new_kws.on_connect = on_connect\n",
    "new_kws.on_close = on_close"
   ]
  },
  {
   "cell_type": "code",
   "execution_count": 14,
   "metadata": {},
   "outputs": [
    {
     "name": "stdout",
     "output_type": "stream",
     "text": [
      "Ticks: [{'tradable': True, 'mode': 'quote', 'instrument_token': 134657, 'last_price': 453.7, 'last_quantity': 50, 'average_price': 452.89, 'volume': 8829162, 'buy_quantity': 808108, 'sell_quantity': 607283, 'ohlc': {'open': 450.0, 'high': 457.7, 'low': 448.55, 'close': 461.0}, 'change': -1.5835140997830828}]\n",
      "Length: 1\n",
      "Ticks: [{'tradable': True, 'mode': 'quote', 'instrument_token': 134657, 'last_price': 453.5, 'last_quantity': 830, 'average_price': 452.89, 'volume': 8830047, 'buy_quantity': 811818, 'sell_quantity': 611216, 'ohlc': {'open': 450.0, 'high': 457.7, 'low': 448.55, 'close': 461.0}, 'change': -1.6268980477223427}]\n",
      "Length: 2\n",
      "Ticks: [{'tradable': True, 'mode': 'quote', 'instrument_token': 134657, 'last_price': 453.5, 'last_quantity': 830, 'average_price': 452.89, 'volume': 8830047, 'buy_quantity': 811818, 'sell_quantity': 611216, 'ohlc': {'open': 450.0, 'high': 457.7, 'low': 448.55, 'close': 461.0}, 'change': -1.6268980477223427}]\n",
      "Length: 3\n",
      "Ticks: [{'tradable': True, 'mode': 'quote', 'instrument_token': 134657, 'last_price': 453.5, 'last_quantity': 830, 'average_price': 452.89, 'volume': 8830047, 'buy_quantity': 811177, 'sell_quantity': 609746, 'ohlc': {'open': 450.0, 'high': 457.7, 'low': 448.55, 'close': 461.0}, 'change': -1.6268980477223427}]\n",
      "Length: 4\n",
      "Ticks: [{'tradable': True, 'mode': 'quote', 'instrument_token': 134657, 'last_price': 453.5, 'last_quantity': 830, 'average_price': 452.89, 'volume': 8830047, 'buy_quantity': 816578, 'sell_quantity': 609835, 'ohlc': {'open': 450.0, 'high': 457.7, 'low': 448.55, 'close': 461.0}, 'change': -1.6268980477223427}]\n",
      "Length: 5\n"
     ]
    },
    {
     "name": "stderr",
     "output_type": "stream",
     "text": [
      "Connection closed: None - None\n"
     ]
    },
    {
     "name": "stdout",
     "output_type": "stream",
     "text": [
      "Ticks: [{'tradable': True, 'mode': 'quote', 'instrument_token': 134657, 'last_price': 453.5, 'last_quantity': 830, 'average_price': 452.89, 'volume': 8830047, 'buy_quantity': 816578, 'sell_quantity': 609956, 'ohlc': {'open': 450.0, 'high': 457.7, 'low': 448.55, 'close': 461.0}, 'change': -1.6268980477223427}]\n",
      "Length: 6\n"
     ]
    }
   ],
   "source": [
    "# Infinite loop on the main thread. Nothing after this will run.\n",
    "# You have to use the pre-defined callbacks to manage subscriptions.\n",
    "new_kws.connect()"
   ]
  },
  {
   "cell_type": "code",
   "execution_count": null,
   "metadata": {},
   "outputs": [],
   "source": []
  }
 ],
 "metadata": {
  "kernelspec": {
   "display_name": "DLaaS",
   "language": "python",
   "name": "dlaas"
  },
  "language_info": {
   "codemirror_mode": {
    "name": "ipython",
    "version": 3
   },
   "file_extension": ".py",
   "mimetype": "text/x-python",
   "name": "python",
   "nbconvert_exporter": "python",
   "pygments_lexer": "ipython3",
   "version": "3.7.1"
  }
 },
 "nbformat": 4,
 "nbformat_minor": 2
}
