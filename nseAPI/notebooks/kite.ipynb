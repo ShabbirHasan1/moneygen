{
 "cells": [
  {
   "cell_type": "code",
   "execution_count": 22,
   "metadata": {},
   "outputs": [],
   "source": [
    "import logging\n",
    "from kiteconnect import KiteConnect\n",
    "from kiteconnect import KiteTicker\n",
    "import requests\n",
    "import sys\n",
    "import time\n",
    "from selenium.webdriver.common.keys import Keys\n",
    "import urllib.parse as urlparse\n",
    "from urllib.parse import parse_qs\n",
    "import pandas as pd\n",
    "sys.path.append('../src/')\n",
    "from util.selenium_dispatcher import SeleniumDispatcher\n",
    "from config import Config"
   ]
  },
  {
   "cell_type": "code",
   "execution_count": 8,
   "metadata": {},
   "outputs": [],
   "source": [
    " def get_request_token(kite_url):\n",
    "        print('Starting to fetch request token for Kite API')\n",
    "        selenium = SeleniumDispatcher(headless=True)\n",
    "        driver = selenium.get_driver()\n",
    "        driver.get(kite_url)\n",
    "        time.sleep(4)\n",
    "        username_field = driver.find_element_by_xpath(\"//input[@type='text']\")\n",
    "        username_field.send_keys(Config.KITE_USER_ID)\n",
    "        password_field = driver.find_element_by_xpath(\"//input[@type='password']\")\n",
    "        password_field.send_keys(Config.KITE_PASSWORD)\n",
    "        password_field.send_keys(Keys.ENTER)\n",
    "        pin_field = driver.find_element_by_xpath(\"//input[@type='password']\")\n",
    "        pin_field.send_keys(Config.KITE_PIN)\n",
    "        pin_field.send_keys(Keys.ENTER)\n",
    "        url = driver.current_url\n",
    "        parsed = urlparse.urlparse(url)\n",
    "        token = parse_qs(parsed.query)['request_token'][0]\n",
    "        print('Request token received!')\n",
    "        selenium.destroy_driver()\n",
    "        return token"
   ]
  },
  {
   "cell_type": "code",
   "execution_count": 3,
   "metadata": {},
   "outputs": [],
   "source": [
    "kite = KiteConnect(api_key=Config.KITE_API_KEY)"
   ]
  },
  {
   "cell_type": "code",
   "execution_count": 4,
   "metadata": {},
   "outputs": [
    {
     "name": "stdout",
     "output_type": "stream",
     "text": [
      "https://kite.trade/connect/login?api_key=37wk1ehie3noonc1&v=3\n"
     ]
    }
   ],
   "source": [
    "print(kite.login_url())"
   ]
  },
  {
   "cell_type": "code",
   "execution_count": 5,
   "metadata": {},
   "outputs": [
    {
     "name": "stdout",
     "output_type": "stream",
     "text": [
      "Starting to fetch request token for Kite API\n",
      "Request token received!\n"
     ]
    }
   ],
   "source": [
    "data = kite.generate_session(get_request_token(kite.login_url()), api_secret=Config.KITE_API_SECRET)"
   ]
  },
  {
   "cell_type": "code",
   "execution_count": 6,
   "metadata": {},
   "outputs": [],
   "source": [
    "kite.set_access_token(data[\"access_token\"])\n"
   ]
  },
  {
   "cell_type": "code",
   "execution_count": 7,
   "metadata": {},
   "outputs": [],
   "source": [
    "instruments = kite.instruments(exchange='NFO')"
   ]
  },
  {
   "cell_type": "code",
   "execution_count": 8,
   "metadata": {},
   "outputs": [
    {
     "data": {
      "text/plain": [
       "OrderedDict([('instrument_token', 11260674),\n",
       "             ('exchange_token', '43987'),\n",
       "             ('tradingsymbol', 'ACC20MAR1080CE'),\n",
       "             ('name', 'ACC'),\n",
       "             ('last_price', 0.0),\n",
       "             ('expiry', datetime.date(2020, 3, 26)),\n",
       "             ('strike', 1080.0),\n",
       "             ('tick_size', 0.05),\n",
       "             ('lot_size', 400),\n",
       "             ('instrument_type', 'CE'),\n",
       "             ('segment', 'NFO-OPT'),\n",
       "             ('exchange', 'NFO')])"
      ]
     },
     "execution_count": 8,
     "metadata": {},
     "output_type": "execute_result"
    }
   ],
   "source": [
    "instruments[0]"
   ]
  },
  {
   "cell_type": "code",
   "execution_count": 17,
   "metadata": {},
   "outputs": [],
   "source": [
    "required_instruments = list()"
   ]
  },
  {
   "cell_type": "code",
   "execution_count": 18,
   "metadata": {},
   "outputs": [],
   "source": [
    "for instrument in instruments:\n",
    "    if 'BANKNIFTY20312' in instrument['tradingsymbol']:\n",
    "        required_instruments.append(instrument)"
   ]
  },
  {
   "cell_type": "code",
   "execution_count": 20,
   "metadata": {},
   "outputs": [
    {
     "data": {
      "text/plain": [
       "210"
      ]
     },
     "execution_count": 20,
     "metadata": {},
     "output_type": "execute_result"
    }
   ],
   "source": [
    "len(required_instruments)"
   ]
  },
  {
   "cell_type": "code",
   "execution_count": 23,
   "metadata": {},
   "outputs": [],
   "source": [
    "df = pd.DataFrame.from_dict(required_instruments)"
   ]
  },
  {
   "cell_type": "code",
   "execution_count": 31,
   "metadata": {},
   "outputs": [],
   "source": [
    "df_put = df[df.instrument_type == 'PE'].reset_index().drop('index', axis=1)"
   ]
  },
  {
   "cell_type": "code",
   "execution_count": 32,
   "metadata": {},
   "outputs": [],
   "source": [
    "df_call = df[df.instrument_type == 'CE'].reset_index().drop('index', axis=1)"
   ]
  },
  {
   "cell_type": "code",
   "execution_count": 11,
   "metadata": {},
   "outputs": [],
   "source": [
    "# Initialise\n",
    "kws = KiteTicker(Config.KITE_API_KEY, data['access_token'])\n",
    "tick_count = 0"
   ]
  },
  {
   "cell_type": "code",
   "execution_count": 12,
   "metadata": {},
   "outputs": [],
   "source": [
    "def on_ticks(ws, ticks):\n",
    "    # Callback to receive ticks.\n",
    "    global tick_count\n",
    "    print(\"Ticks: {}\".format(ticks))\n",
    "    tick_count = tick_count + 1\n",
    "    print(\"Length: {}\".format(tick_count))\n",
    "#     if tick_count > 5:\n",
    "#         ws.close()\n",
    "\n",
    "def on_connect(ws, response):\n",
    "    pass\n",
    "    # Callback on successful connect.\n",
    "    # Subscribe to a list of instrument_tokens (RELIANCE and ACC here).\n",
    "    ws.subscribe([11260674])\n",
    "#     ws.subscribe([134657])\n",
    "    # Set RELIANCE to tick in `full` mode.\n",
    "#     ws.set_mode(ws.MODE_LTP, [134657, 408065, 237569, 389377, 2791681])\n",
    "    ws.set_mode(ws.MODE_FULL, [11260674])\n",
    "\n",
    "def on_close(ws, code, reason):\n",
    "    # On connection close stop the main loop\n",
    "    # Reconnection will not happen after executing `ws.stop()`\n",
    "    ws.stop()"
   ]
  },
  {
   "cell_type": "code",
   "execution_count": 13,
   "metadata": {},
   "outputs": [],
   "source": [
    "# Assign the callbacks.\n",
    "kws.on_ticks = on_ticks\n",
    "kws.on_connect = on_connect\n",
    "kws.on_close = on_close"
   ]
  },
  {
   "cell_type": "code",
   "execution_count": 14,
   "metadata": {},
   "outputs": [
    {
     "name": "stdout",
     "output_type": "stream",
     "text": [
      "Ticks: [{'tradable': True, 'mode': 'full', 'instrument_token': 11260674, 'last_price': 261.7, 'last_quantity': 400, 'average_price': 232.52, 'volume': 1600, 'buy_quantity': 10000, 'sell_quantity': 10000, 'ohlc': {'open': 203.35, 'high': 261.7, 'low': 203.35, 'close': 387.3}, 'change': -32.4296411050865, 'last_trade_time': datetime.datetime(2020, 3, 6, 15, 13, 32), 'oi': 0, 'oi_day_high': 0, 'oi_day_low': 0, 'timestamp': datetime.datetime(2020, 3, 6, 17, 20, 38), 'depth': {'buy': [{'quantity': 800, 'price': 203.45, 'orders': 1}, {'quantity': 9200, 'price': 203.3, 'orders': 1}, {'quantity': 0, 'price': 0.0, 'orders': 0}, {'quantity': 0, 'price': 0.0, 'orders': 0}, {'quantity': 0, 'price': 0.0, 'orders': 0}], 'sell': [{'quantity': 800, 'price': 257.85, 'orders': 1}, {'quantity': 9200, 'price': 261.75, 'orders': 1}, {'quantity': 0, 'price': 0.0, 'orders': 0}, {'quantity': 0, 'price': 0.0, 'orders': 0}, {'quantity': 0, 'price': 0.0, 'orders': 0}]}}]\n",
      "Length: 1\n"
     ]
    },
    {
     "name": "stderr",
     "output_type": "stream",
     "text": [
      "Connection error: 1006 - connection was closed uncleanly (peer dropped the TCP connection without previous WebSocket closing handshake)\n",
      "Connection closed: 1006 - connection was closed uncleanly (peer dropped the TCP connection without previous WebSocket closing handshake)\n",
      "Unhandled Error\n",
      "Traceback (most recent call last):\n",
      "  File \"/Users/mayank.gupta/venv/nse/lib/python3.7/site-packages/twisted/internet/defer.py\", line 311, in addCallbacks\n",
      "    self._runCallbacks()\n",
      "  File \"/Users/mayank.gupta/venv/nse/lib/python3.7/site-packages/twisted/internet/defer.py\", line 654, in _runCallbacks\n",
      "    current.result = callback(current.result, *args, **kw)\n",
      "  File \"/Users/mayank.gupta/venv/nse/lib/python3.7/site-packages/twisted/internet/base.py\", line 447, in _continueFiring\n",
      "    callable(*args, **kwargs)\n",
      "  File \"/Users/mayank.gupta/venv/nse/lib/python3.7/site-packages/twisted/internet/base.py\", line 706, in disconnectAll\n",
      "    failure.Failure(main.CONNECTION_LOST))\n",
      "--- <exception caught here> ---\n",
      "  File \"/Users/mayank.gupta/venv/nse/lib/python3.7/site-packages/twisted/python/log.py\", line 103, in callWithLogger\n",
      "    return callWithContext({\"system\": lp}, func, *args, **kw)\n",
      "  File \"/Users/mayank.gupta/venv/nse/lib/python3.7/site-packages/twisted/python/log.py\", line 86, in callWithContext\n",
      "    return context.call({ILogContext: newCtx}, func, *args, **kw)\n",
      "  File \"/Users/mayank.gupta/venv/nse/lib/python3.7/site-packages/twisted/python/context.py\", line 122, in callWithContext\n",
      "    return self.currentContext().callWithContext(ctx, func, *args, **kw)\n",
      "  File \"/Users/mayank.gupta/venv/nse/lib/python3.7/site-packages/twisted/python/context.py\", line 85, in callWithContext\n",
      "    return func(*args,**kw)\n",
      "  File \"/Users/mayank.gupta/venv/nse/lib/python3.7/site-packages/twisted/internet/tcp.py\", line 519, in connectionLost\n",
      "    self._commonConnection.connectionLost(self, reason)\n",
      "  File \"/Users/mayank.gupta/venv/nse/lib/python3.7/site-packages/twisted/internet/tcp.py\", line 327, in connectionLost\n",
      "    protocol.connectionLost(reason)\n",
      "  File \"/Users/mayank.gupta/venv/nse/lib/python3.7/site-packages/twisted/protocols/tls.py\", line 403, in connectionLost\n",
      "    ProtocolWrapper.connectionLost(self, reason)\n",
      "  File \"/Users/mayank.gupta/venv/nse/lib/python3.7/site-packages/twisted/protocols/policies.py\", line 125, in connectionLost\n",
      "    self.wrappedProtocol.connectionLost(reason)\n",
      "  File \"/Users/mayank.gupta/venv/nse/lib/python3.7/site-packages/autobahn/twisted/websocket.py\", line 288, in connectionLost\n",
      "    self._connectionLost(reason)\n",
      "  File \"/Users/mayank.gupta/venv/nse/lib/python3.7/site-packages/autobahn/websocket/protocol.py\", line 3422, in _connectionLost\n",
      "    WebSocketProtocol._connectionLost(self, reason)\n",
      "  File \"/Users/mayank.gupta/venv/nse/lib/python3.7/site-packages/autobahn/websocket/protocol.py\", line 1133, in _connectionLost\n",
      "    self._onClose(self.wasClean, WebSocketProtocol.CLOSE_STATUS_CODE_ABNORMAL_CLOSE, \"connection was closed uncleanly (%s)\" % self.wasNotCleanReason)\n",
      "  File \"/Users/mayank.gupta/venv/nse/lib/python3.7/site-packages/autobahn/twisted/websocket.py\", line 331, in _onClose\n",
      "    self.onClose(wasClean, code, reason)\n",
      "  File \"/Users/mayank.gupta/venv/nse/lib/python3.7/site-packages/kiteconnect-3.8.1-py3.7.egg/kiteconnect/ticker.py\", line 81, in onClose\n",
      "    \n",
      "  File \"/Users/mayank.gupta/venv/nse/lib/python3.7/site-packages/kiteconnect-3.8.1-py3.7.egg/kiteconnect/ticker.py\", line 654, in _on_close\n",
      "    \n",
      "  File \"<ipython-input-12-d4bef39b15dc>\", line 23, in on_close\n",
      "    ws.stop()\n",
      "  File \"/Users/mayank.gupta/venv/nse/lib/python3.7/site-packages/kiteconnect-3.8.1-py3.7.egg/kiteconnect/ticker.py\", line 555, in stop\n",
      "    \n",
      "  File \"/Users/mayank.gupta/venv/nse/lib/python3.7/site-packages/twisted/internet/base.py\", line 647, in stop\n",
      "    \"Can't stop reactor that isn't running.\")\n",
      "twisted.internet.error.ReactorNotRunning: Can't stop reactor that isn't running.\n",
      "\n"
     ]
    }
   ],
   "source": [
    "# Infinite loop on the main thread. Nothing after this will run.\n",
    "# You have to use the pre-defined callbacks to manage subscriptions.\n",
    "kws.connect()"
   ]
  },
  {
   "cell_type": "code",
   "execution_count": null,
   "metadata": {},
   "outputs": [],
   "source": []
  }
 ],
 "metadata": {
  "kernelspec": {
   "display_name": "nse",
   "language": "python",
   "name": "nse"
  },
  "language_info": {
   "codemirror_mode": {
    "name": "ipython",
    "version": 3
   },
   "file_extension": ".py",
   "mimetype": "text/x-python",
   "name": "python",
   "nbconvert_exporter": "python",
   "pygments_lexer": "ipython3",
   "version": "3.7.4"
  }
 },
 "nbformat": 4,
 "nbformat_minor": 4
}
