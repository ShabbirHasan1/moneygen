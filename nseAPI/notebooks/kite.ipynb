{
 "cells": [
  {
   "cell_type": "code",
   "execution_count": 1,
   "metadata": {},
   "outputs": [],
   "source": [
    "import logging\n",
    "from kiteconnect import KiteConnect\n",
    "from kiteconnect import KiteTicker"
   ]
  },
  {
   "cell_type": "code",
   "execution_count": 2,
   "metadata": {},
   "outputs": [],
   "source": [
    "kite = KiteConnect(api_key=\"37wk1ehie3noonc1\")"
   ]
  },
  {
   "cell_type": "code",
   "execution_count": 3,
   "metadata": {},
   "outputs": [
    {
     "name": "stdout",
     "output_type": "stream",
     "text": [
      "https://kite.trade/connect/login?api_key=37wk1ehie3noonc1&v=3\n"
     ]
    }
   ],
   "source": [
    "print(kite.login_url())"
   ]
  },
  {
   "cell_type": "code",
   "execution_count": 4,
   "metadata": {},
   "outputs": [],
   "source": [
    "data = kite.generate_session(\"6JXZWkIop2agBQb3xA8uIvD7LU7Cxed7\", api_secret=\"oqzjzmrz6674x4xl7mbfq0qltd1oekts\")"
   ]
  },
  {
   "cell_type": "code",
   "execution_count": 5,
   "metadata": {},
   "outputs": [],
   "source": [
    "kite.set_access_token(data[\"access_token\"])\n"
   ]
  },
  {
   "cell_type": "code",
   "execution_count": 6,
   "metadata": {},
   "outputs": [],
   "source": [
    "instruments = kite.instruments(exchange='NSE')"
   ]
  },
  {
   "cell_type": "code",
   "execution_count": 7,
   "metadata": {},
   "outputs": [
    {
     "data": {
      "text/plain": [
       "OrderedDict([('instrument_token', 259081),\n",
       "             ('exchange_token', '1012'),\n",
       "             ('tradingsymbol', 'NIFTY50 PR 1X INV'),\n",
       "             ('name', 'NIFTY50 PR 1X INV'),\n",
       "             ('last_price', 0.0),\n",
       "             ('expiry', ''),\n",
       "             ('strike', 0.0),\n",
       "             ('tick_size', 0.0),\n",
       "             ('lot_size', 0),\n",
       "             ('instrument_type', 'EQ'),\n",
       "             ('segment', 'INDICES'),\n",
       "             ('exchange', 'NSE')])"
      ]
     },
     "execution_count": 7,
     "metadata": {},
     "output_type": "execute_result"
    }
   ],
   "source": [
    "instruments[0]"
   ]
  },
  {
   "cell_type": "code",
   "execution_count": 8,
   "metadata": {},
   "outputs": [
    {
     "name": "stdout",
     "output_type": "stream",
     "text": [
      "134657\n"
     ]
    }
   ],
   "source": [
    "for instrument in instruments:\n",
    "    if instrument['tradingsymbol'] == 'BPCL':\n",
    "        print(instrument['instrument_token'])"
   ]
  },
  {
   "cell_type": "code",
   "execution_count": 9,
   "metadata": {},
   "outputs": [
    {
     "name": "stdout",
     "output_type": "stream",
     "text": [
      "408065\n"
     ]
    }
   ],
   "source": [
    "for instrument in instruments:\n",
    "    if instrument['tradingsymbol'] == 'INFY':\n",
    "        print(instrument['instrument_token'])"
   ]
  },
  {
   "cell_type": "code",
   "execution_count": 10,
   "metadata": {},
   "outputs": [],
   "source": [
    "# logging.basicConfig(level=logging.DEBUG)"
   ]
  },
  {
   "cell_type": "code",
   "execution_count": 11,
   "metadata": {},
   "outputs": [],
   "source": [
    "# Initialise\n",
    "kws = KiteTicker(\"37wk1ehie3noonc1\", data['access_token'])\n",
    "tick_count = 0"
   ]
  },
  {
   "cell_type": "code",
   "execution_count": 12,
   "metadata": {},
   "outputs": [],
   "source": [
    "def on_ticks(ws, ticks):\n",
    "    # Callback to receive ticks.\n",
    "    global tick_count\n",
    "    print(\"Ticks: {}\".format(ticks))\n",
    "    tick_count = tick_count + 1\n",
    "    print(\"Length: {}\".format(tick_count))\n",
    "#     if tick_count > 5:\n",
    "#         ws.close()\n",
    "\n",
    "def on_connect(ws, response):\n",
    "    pass\n",
    "    # Callback on successful connect.\n",
    "    # Subscribe to a list of instrument_tokens (RELIANCE and ACC here).\n",
    "    ws.subscribe([134657, 408065, 237569, 389377, 2791681])\n",
    "#     ws.subscribe([134657])\n",
    "    # Set RELIANCE to tick in `full` mode.\n",
    "    ws.set_mode(ws.MODE_LTP, [134657, 408065, 237569, 389377, 2791681])\n",
    "\n",
    "def on_close(ws, code, reason):\n",
    "    # On connection close stop the main loop\n",
    "    # Reconnection will not happen after executing `ws.stop()`\n",
    "    ws.stop()"
   ]
  },
  {
   "cell_type": "code",
   "execution_count": 13,
   "metadata": {},
   "outputs": [],
   "source": [
    "# Assign the callbacks.\n",
    "kws.on_ticks = on_ticks\n",
    "kws.on_connect = on_connect\n",
    "kws.on_close = on_close"
   ]
  },
  {
   "cell_type": "code",
   "execution_count": 14,
   "metadata": {},
   "outputs": [
    {
     "name": "stdout",
     "output_type": "stream",
     "text": [
      "Ticks: [{'tradable': True, 'mode': 'ltp', 'instrument_token': 408065, 'last_price': 762.8}, {'tradable': True, 'mode': 'ltp', 'instrument_token': 237569, 'last_price': 17.9}, {'tradable': True, 'mode': 'ltp', 'instrument_token': 2791681, 'last_price': 72.9}, {'tradable': True, 'mode': 'ltp', 'instrument_token': 389377, 'last_price': 274.55}, {'tradable': True, 'mode': 'ltp', 'instrument_token': 134657, 'last_price': 463.4}]\n",
      "Length: 1\n",
      "Ticks: [{'tradable': True, 'mode': 'ltp', 'instrument_token': 408065, 'last_price': 762.85}, {'tradable': True, 'mode': 'ltp', 'instrument_token': 134657, 'last_price': 463.4}]\n",
      "Length: 2\n",
      "Ticks: [{'tradable': True, 'mode': 'ltp', 'instrument_token': 134657, 'last_price': 463.4}]\n",
      "Length: 3\n",
      "Ticks: [{'tradable': True, 'mode': 'ltp', 'instrument_token': 408065, 'last_price': 762.8}]\n",
      "Length: 4\n",
      "Ticks: [{'tradable': True, 'mode': 'ltp', 'instrument_token': 408065, 'last_price': 762.6}]\n",
      "Length: 5\n",
      "Ticks: [{'tradable': True, 'mode': 'ltp', 'instrument_token': 134657, 'last_price': 463.45}, {'tradable': True, 'mode': 'ltp', 'instrument_token': 408065, 'last_price': 762.6}, {'tradable': True, 'mode': 'ltp', 'instrument_token': 2791681, 'last_price': 72.25}]\n",
      "Length: 6\n",
      "Ticks: [{'tradable': True, 'mode': 'ltp', 'instrument_token': 408065, 'last_price': 762.6}, {'tradable': True, 'mode': 'ltp', 'instrument_token': 134657, 'last_price': 463.45}]\n",
      "Length: 7\n",
      "Ticks: [{'tradable': True, 'mode': 'ltp', 'instrument_token': 408065, 'last_price': 762.6}]\n",
      "Length: 8\n",
      "Ticks: [{'tradable': True, 'mode': 'ltp', 'instrument_token': 134657, 'last_price': 463.45}, {'tradable': True, 'mode': 'ltp', 'instrument_token': 408065, 'last_price': 762.6}]\n",
      "Length: 9\n",
      "Ticks: [{'tradable': True, 'mode': 'ltp', 'instrument_token': 408065, 'last_price': 762.6}]\n",
      "Length: 10\n",
      "Ticks: [{'tradable': True, 'mode': 'ltp', 'instrument_token': 389377, 'last_price': 274.75}, {'tradable': True, 'mode': 'ltp', 'instrument_token': 134657, 'last_price': 463.45}, {'tradable': True, 'mode': 'ltp', 'instrument_token': 408065, 'last_price': 762.6}]\n",
      "Length: 11\n",
      "Ticks: [{'tradable': True, 'mode': 'ltp', 'instrument_token': 408065, 'last_price': 762.55}, {'tradable': True, 'mode': 'ltp', 'instrument_token': 389377, 'last_price': 274.55}]\n",
      "Length: 12\n",
      "Ticks: [{'tradable': True, 'mode': 'ltp', 'instrument_token': 134657, 'last_price': 463.45}, {'tradable': True, 'mode': 'ltp', 'instrument_token': 408065, 'last_price': 762.6}, {'tradable': True, 'mode': 'ltp', 'instrument_token': 389377, 'last_price': 274.55}]\n",
      "Length: 13\n",
      "Ticks: [{'tradable': True, 'mode': 'ltp', 'instrument_token': 389377, 'last_price': 274.55}, {'tradable': True, 'mode': 'ltp', 'instrument_token': 408065, 'last_price': 762.4}]\n",
      "Length: 14\n",
      "Ticks: [{'tradable': True, 'mode': 'ltp', 'instrument_token': 408065, 'last_price': 762.45}, {'tradable': True, 'mode': 'ltp', 'instrument_token': 2791681, 'last_price': 72.25}, {'tradable': True, 'mode': 'ltp', 'instrument_token': 389377, 'last_price': 274.55}]\n",
      "Length: 15\n",
      "Ticks: [{'tradable': True, 'mode': 'ltp', 'instrument_token': 134657, 'last_price': 463.45}, {'tradable': True, 'mode': 'ltp', 'instrument_token': 408065, 'last_price': 762.45}, {'tradable': True, 'mode': 'ltp', 'instrument_token': 2791681, 'last_price': 72.25}]\n",
      "Length: 16\n",
      "Ticks: [{'tradable': True, 'mode': 'ltp', 'instrument_token': 389377, 'last_price': 274.55}]\n",
      "Length: 17\n",
      "Ticks: [{'tradable': True, 'mode': 'ltp', 'instrument_token': 408065, 'last_price': 762.45}]\n",
      "Length: 18\n",
      "Ticks: [{'tradable': True, 'mode': 'ltp', 'instrument_token': 389377, 'last_price': 274.55}, {'tradable': True, 'mode': 'ltp', 'instrument_token': 408065, 'last_price': 762.45}]\n",
      "Length: 19\n",
      "Ticks: [{'tradable': True, 'mode': 'ltp', 'instrument_token': 408065, 'last_price': 762.5}]\n",
      "Length: 20\n",
      "Ticks: [{'tradable': True, 'mode': 'ltp', 'instrument_token': 408065, 'last_price': 762.5}, {'tradable': True, 'mode': 'ltp', 'instrument_token': 134657, 'last_price': 463.45}]\n",
      "Length: 21\n",
      "Ticks: [{'tradable': True, 'mode': 'ltp', 'instrument_token': 408065, 'last_price': 762.5}]\n",
      "Length: 22\n",
      "Ticks: [{'tradable': True, 'mode': 'ltp', 'instrument_token': 2791681, 'last_price': 72.25}, {'tradable': True, 'mode': 'ltp', 'instrument_token': 408065, 'last_price': 762.5}]\n",
      "Length: 23\n",
      "Ticks: [{'tradable': True, 'mode': 'ltp', 'instrument_token': 408065, 'last_price': 762.6}, {'tradable': True, 'mode': 'ltp', 'instrument_token': 237569, 'last_price': 17.9}]\n",
      "Length: 24\n",
      "Ticks: [{'tradable': True, 'mode': 'ltp', 'instrument_token': 134657, 'last_price': 463.4}, {'tradable': True, 'mode': 'ltp', 'instrument_token': 408065, 'last_price': 762.6}]\n",
      "Length: 25\n",
      "Ticks: [{'tradable': True, 'mode': 'ltp', 'instrument_token': 237569, 'last_price': 17.9}, {'tradable': True, 'mode': 'ltp', 'instrument_token': 408065, 'last_price': 762.5}, {'tradable': True, 'mode': 'ltp', 'instrument_token': 389377, 'last_price': 274.55}]\n",
      "Length: 26\n",
      "Ticks: [{'tradable': True, 'mode': 'ltp', 'instrument_token': 2791681, 'last_price': 72.25}, {'tradable': True, 'mode': 'ltp', 'instrument_token': 134657, 'last_price': 463.4}, {'tradable': True, 'mode': 'ltp', 'instrument_token': 408065, 'last_price': 762.6}]\n",
      "Length: 27\n",
      "Ticks: [{'tradable': True, 'mode': 'ltp', 'instrument_token': 408065, 'last_price': 762.6}]\n",
      "Length: 28\n",
      "Ticks: [{'tradable': True, 'mode': 'ltp', 'instrument_token': 408065, 'last_price': 762.6}]\n",
      "Length: 29\n",
      "Ticks: [{'tradable': True, 'mode': 'ltp', 'instrument_token': 134657, 'last_price': 463.4}]\n",
      "Length: 30\n",
      "Ticks: [{'tradable': True, 'mode': 'ltp', 'instrument_token': 134657, 'last_price': 463.4}, {'tradable': True, 'mode': 'ltp', 'instrument_token': 408065, 'last_price': 762.55}]\n",
      "Length: 31\n",
      "Ticks: [{'tradable': True, 'mode': 'ltp', 'instrument_token': 408065, 'last_price': 762.55}]\n",
      "Length: 32\n",
      "Ticks: [{'tradable': True, 'mode': 'ltp', 'instrument_token': 134657, 'last_price': 463.4}]\n",
      "Length: 33\n",
      "Ticks: [{'tradable': True, 'mode': 'ltp', 'instrument_token': 408065, 'last_price': 762.5}, {'tradable': True, 'mode': 'ltp', 'instrument_token': 389377, 'last_price': 274.55}]\n",
      "Length: 34\n",
      "Ticks: [{'tradable': True, 'mode': 'ltp', 'instrument_token': 134657, 'last_price': 463.4}, {'tradable': True, 'mode': 'ltp', 'instrument_token': 408065, 'last_price': 762.5}]\n",
      "Length: 35\n",
      "Ticks: [{'tradable': True, 'mode': 'ltp', 'instrument_token': 408065, 'last_price': 762.55}]\n",
      "Length: 36\n",
      "Ticks: [{'tradable': True, 'mode': 'ltp', 'instrument_token': 408065, 'last_price': 762.5}, {'tradable': True, 'mode': 'ltp', 'instrument_token': 237569, 'last_price': 17.9}]\n",
      "Length: 37\n",
      "Ticks: [{'tradable': True, 'mode': 'ltp', 'instrument_token': 134657, 'last_price': 463.4}, {'tradable': True, 'mode': 'ltp', 'instrument_token': 408065, 'last_price': 762.5}]\n",
      "Length: 38\n",
      "Ticks: [{'tradable': True, 'mode': 'ltp', 'instrument_token': 134657, 'last_price': 463.4}, {'tradable': True, 'mode': 'ltp', 'instrument_token': 408065, 'last_price': 762.55}]\n",
      "Length: 39\n",
      "Ticks: [{'tradable': True, 'mode': 'ltp', 'instrument_token': 408065, 'last_price': 762.6}]\n",
      "Length: 40\n",
      "Ticks: [{'tradable': True, 'mode': 'ltp', 'instrument_token': 134657, 'last_price': 463.4}, {'tradable': True, 'mode': 'ltp', 'instrument_token': 408065, 'last_price': 762.6}]\n",
      "Length: 41\n",
      "Ticks: [{'tradable': True, 'mode': 'ltp', 'instrument_token': 408065, 'last_price': 762.6}]\n",
      "Length: 42\n",
      "Ticks: [{'tradable': True, 'mode': 'ltp', 'instrument_token': 134657, 'last_price': 463.4}]\n",
      "Length: 43\n",
      "Ticks: [{'tradable': True, 'mode': 'ltp', 'instrument_token': 408065, 'last_price': 762.6}, {'tradable': True, 'mode': 'ltp', 'instrument_token': 237569, 'last_price': 17.9}, {'tradable': True, 'mode': 'ltp', 'instrument_token': 389377, 'last_price': 274.55}]\n",
      "Length: 44\n",
      "Ticks: [{'tradable': True, 'mode': 'ltp', 'instrument_token': 408065, 'last_price': 762.6}]\n",
      "Length: 45\n",
      "Ticks: [{'tradable': True, 'mode': 'ltp', 'instrument_token': 389377, 'last_price': 274.55}]\n",
      "Length: 46\n",
      "Ticks: [{'tradable': True, 'mode': 'ltp', 'instrument_token': 389377, 'last_price': 274.55}, {'tradable': True, 'mode': 'ltp', 'instrument_token': 134657, 'last_price': 463.4}, {'tradable': True, 'mode': 'ltp', 'instrument_token': 408065, 'last_price': 762.6}]\n",
      "Length: 47\n",
      "Ticks: [{'tradable': True, 'mode': 'ltp', 'instrument_token': 134657, 'last_price': 463.4}, {'tradable': True, 'mode': 'ltp', 'instrument_token': 408065, 'last_price': 762.6}, {'tradable': True, 'mode': 'ltp', 'instrument_token': 2791681, 'last_price': 72.25}]\n",
      "Length: 48\n",
      "Ticks: [{'tradable': True, 'mode': 'ltp', 'instrument_token': 134657, 'last_price': 463.4}, {'tradable': True, 'mode': 'ltp', 'instrument_token': 408065, 'last_price': 762.6}]\n",
      "Length: 49\n",
      "Ticks: [{'tradable': True, 'mode': 'ltp', 'instrument_token': 389377, 'last_price': 274.55}, {'tradable': True, 'mode': 'ltp', 'instrument_token': 134657, 'last_price': 463.4}, {'tradable': True, 'mode': 'ltp', 'instrument_token': 408065, 'last_price': 762.6}]\n",
      "Length: 50\n",
      "Ticks: [{'tradable': True, 'mode': 'ltp', 'instrument_token': 408065, 'last_price': 762.6}]\n",
      "Length: 51\n",
      "Ticks: [{'tradable': True, 'mode': 'ltp', 'instrument_token': 134657, 'last_price': 463.4}, {'tradable': True, 'mode': 'ltp', 'instrument_token': 408065, 'last_price': 762.7}]\n",
      "Length: 52\n",
      "Ticks: [{'tradable': True, 'mode': 'ltp', 'instrument_token': 389377, 'last_price': 274.55}, {'tradable': True, 'mode': 'ltp', 'instrument_token': 408065, 'last_price': 762.7}]\n",
      "Length: 53\n",
      "Ticks: [{'tradable': True, 'mode': 'ltp', 'instrument_token': 408065, 'last_price': 762.7}, {'tradable': True, 'mode': 'ltp', 'instrument_token': 237569, 'last_price': 17.9}]\n",
      "Length: 54\n",
      "Ticks: [{'tradable': True, 'mode': 'ltp', 'instrument_token': 408065, 'last_price': 762.7}]\n",
      "Length: 55\n",
      "Ticks: [{'tradable': True, 'mode': 'ltp', 'instrument_token': 408065, 'last_price': 762.8}, {'tradable': True, 'mode': 'ltp', 'instrument_token': 2791681, 'last_price': 72.25}]\n",
      "Length: 56\n",
      "Ticks: [{'tradable': True, 'mode': 'ltp', 'instrument_token': 408065, 'last_price': 762.8}, {'tradable': True, 'mode': 'ltp', 'instrument_token': 2791681, 'last_price': 72.25}]\n",
      "Length: 57\n"
     ]
    },
    {
     "name": "stderr",
     "output_type": "stream",
     "text": [
      "Connection error: 1006 - connection was closed uncleanly (peer dropped the TCP connection without previous WebSocket closing handshake)\n",
      "Connection closed: 1006 - connection was closed uncleanly (peer dropped the TCP connection without previous WebSocket closing handshake)\n",
      "Unhandled Error\n",
      "Traceback (most recent call last):\n",
      "  File \"/Users/mayank.gupta/venv/DLaaS/lib/python3.7/site-packages/twisted/internet/defer.py\", line 311, in addCallbacks\n",
      "    self._runCallbacks()\n",
      "  File \"/Users/mayank.gupta/venv/DLaaS/lib/python3.7/site-packages/twisted/internet/defer.py\", line 654, in _runCallbacks\n",
      "    current.result = callback(current.result, *args, **kw)\n",
      "  File \"/Users/mayank.gupta/venv/DLaaS/lib/python3.7/site-packages/twisted/internet/base.py\", line 447, in _continueFiring\n",
      "    callable(*args, **kwargs)\n",
      "  File \"/Users/mayank.gupta/venv/DLaaS/lib/python3.7/site-packages/twisted/internet/base.py\", line 706, in disconnectAll\n",
      "    failure.Failure(main.CONNECTION_LOST))\n",
      "--- <exception caught here> ---\n",
      "  File \"/Users/mayank.gupta/venv/DLaaS/lib/python3.7/site-packages/twisted/python/log.py\", line 103, in callWithLogger\n",
      "    return callWithContext({\"system\": lp}, func, *args, **kw)\n",
      "  File \"/Users/mayank.gupta/venv/DLaaS/lib/python3.7/site-packages/twisted/python/log.py\", line 86, in callWithContext\n",
      "    return context.call({ILogContext: newCtx}, func, *args, **kw)\n",
      "  File \"/Users/mayank.gupta/venv/DLaaS/lib/python3.7/site-packages/twisted/python/context.py\", line 122, in callWithContext\n",
      "    return self.currentContext().callWithContext(ctx, func, *args, **kw)\n",
      "  File \"/Users/mayank.gupta/venv/DLaaS/lib/python3.7/site-packages/twisted/python/context.py\", line 85, in callWithContext\n",
      "    return func(*args,**kw)\n",
      "  File \"/Users/mayank.gupta/venv/DLaaS/lib/python3.7/site-packages/twisted/internet/tcp.py\", line 519, in connectionLost\n",
      "    self._commonConnection.connectionLost(self, reason)\n",
      "  File \"/Users/mayank.gupta/venv/DLaaS/lib/python3.7/site-packages/twisted/internet/tcp.py\", line 327, in connectionLost\n",
      "    protocol.connectionLost(reason)\n",
      "  File \"/Users/mayank.gupta/venv/DLaaS/lib/python3.7/site-packages/twisted/protocols/tls.py\", line 403, in connectionLost\n",
      "    ProtocolWrapper.connectionLost(self, reason)\n",
      "  File \"/Users/mayank.gupta/venv/DLaaS/lib/python3.7/site-packages/twisted/protocols/policies.py\", line 125, in connectionLost\n",
      "    self.wrappedProtocol.connectionLost(reason)\n",
      "  File \"/Users/mayank.gupta/venv/DLaaS/lib/python3.7/site-packages/autobahn/twisted/websocket.py\", line 288, in connectionLost\n",
      "    self._connectionLost(reason)\n",
      "  File \"/Users/mayank.gupta/venv/DLaaS/lib/python3.7/site-packages/autobahn/websocket/protocol.py\", line 3422, in _connectionLost\n",
      "    WebSocketProtocol._connectionLost(self, reason)\n",
      "  File \"/Users/mayank.gupta/venv/DLaaS/lib/python3.7/site-packages/autobahn/websocket/protocol.py\", line 1133, in _connectionLost\n",
      "    self._onClose(self.wasClean, WebSocketProtocol.CLOSE_STATUS_CODE_ABNORMAL_CLOSE, \"connection was closed uncleanly (%s)\" % self.wasNotCleanReason)\n",
      "  File \"/Users/mayank.gupta/venv/DLaaS/lib/python3.7/site-packages/autobahn/twisted/websocket.py\", line 331, in _onClose\n",
      "    self.onClose(wasClean, code, reason)\n",
      "  File \"/Users/mayank.gupta/venv/DLaaS/lib/python3.7/site-packages/kiteconnect-3.8.0-py3.7.egg/kiteconnect/ticker.py\", line 81, in onClose\n",
      "    \n",
      "  File \"/Users/mayank.gupta/venv/DLaaS/lib/python3.7/site-packages/kiteconnect-3.8.0-py3.7.egg/kiteconnect/ticker.py\", line 656, in _on_close\n",
      "    \n",
      "  File \"<ipython-input-12-31dad39b323e>\", line 22, in on_close\n",
      "    ws.stop()\n",
      "  File \"/Users/mayank.gupta/venv/DLaaS/lib/python3.7/site-packages/kiteconnect-3.8.0-py3.7.egg/kiteconnect/ticker.py\", line 557, in stop\n",
      "    \n",
      "  File \"/Users/mayank.gupta/venv/DLaaS/lib/python3.7/site-packages/twisted/internet/base.py\", line 647, in stop\n",
      "    \"Can't stop reactor that isn't running.\")\n",
      "twisted.internet.error.ReactorNotRunning: Can't stop reactor that isn't running.\n",
      "\n"
     ]
    },
    {
     "name": "stdout",
     "output_type": "stream",
     "text": [
      "Ticks: [{'tradable': True, 'mode': 'ltp', 'instrument_token': 237569, 'last_price': 17.9}, {'tradable': True, 'mode': 'ltp', 'instrument_token': 408065, 'last_price': 762.8}, {'tradable': True, 'mode': 'ltp', 'instrument_token': 389377, 'last_price': 274.55}]\n",
      "Length: 58\n"
     ]
    }
   ],
   "source": [
    "# Infinite loop on the main thread. Nothing after this will run.\n",
    "# You have to use the pre-defined callbacks to manage subscriptions.\n",
    "kws.connect()"
   ]
  },
  {
   "cell_type": "code",
   "execution_count": null,
   "metadata": {},
   "outputs": [],
   "source": []
  }
 ],
 "metadata": {
  "kernelspec": {
   "display_name": "DLaaS",
   "language": "python",
   "name": "dlaas"
  },
  "language_info": {
   "codemirror_mode": {
    "name": "ipython",
    "version": 3
   },
   "file_extension": ".py",
   "mimetype": "text/x-python",
   "name": "python",
   "nbconvert_exporter": "python",
   "pygments_lexer": "ipython3",
   "version": "3.7.1"
  }
 },
 "nbformat": 4,
 "nbformat_minor": 2
}
