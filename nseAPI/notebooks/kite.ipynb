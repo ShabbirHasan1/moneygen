{
 "cells": [
  {
   "cell_type": "code",
   "execution_count": 1,
   "metadata": {},
   "outputs": [],
   "source": [
    "import logging\n",
    "from kiteconnect import KiteConnect\n",
    "from kiteconnect import KiteTicker"
   ]
  },
  {
   "cell_type": "code",
   "execution_count": 2,
   "metadata": {},
   "outputs": [],
   "source": [
    "kite = KiteConnect(api_key=\"37wk1ehie3noonc1\")"
   ]
  },
  {
   "cell_type": "code",
   "execution_count": 3,
   "metadata": {},
   "outputs": [
    {
     "name": "stdout",
     "output_type": "stream",
     "text": [
      "https://kite.trade/connect/login?api_key=37wk1ehie3noonc1&v=3\n"
     ]
    }
   ],
   "source": [
    "print(kite.login_url())"
   ]
  },
  {
   "cell_type": "code",
   "execution_count": 4,
   "metadata": {},
   "outputs": [],
   "source": [
    "data = kite.generate_session(\"UK2Uozain7Bn0aRDwuvj71uSKVpA1Ksz\", api_secret=\"oqzjzmrz6674x4xl7mbfq0qltd1oekts\")"
   ]
  },
  {
   "cell_type": "code",
   "execution_count": 5,
   "metadata": {},
   "outputs": [],
   "source": [
    "kite.set_access_token(data[\"access_token\"])\n"
   ]
  },
  {
   "cell_type": "code",
   "execution_count": 6,
   "metadata": {},
   "outputs": [],
   "source": [
    "instruments = kite.instruments(exchange='NSE')"
   ]
  },
  {
   "cell_type": "code",
   "execution_count": 7,
   "metadata": {},
   "outputs": [
    {
     "data": {
      "text/plain": [
       "OrderedDict([('instrument_token', 259081),\n",
       "             ('exchange_token', '1012'),\n",
       "             ('tradingsymbol', 'NIFTY50 PR 1X INV'),\n",
       "             ('name', 'NIFTY50 PR 1X INV'),\n",
       "             ('last_price', 0.0),\n",
       "             ('expiry', ''),\n",
       "             ('strike', 0.0),\n",
       "             ('tick_size', 0.0),\n",
       "             ('lot_size', 0),\n",
       "             ('instrument_type', 'EQ'),\n",
       "             ('segment', 'INDICES'),\n",
       "             ('exchange', 'NSE')])"
      ]
     },
     "execution_count": 7,
     "metadata": {},
     "output_type": "execute_result"
    }
   ],
   "source": [
    "instruments[0]"
   ]
  },
  {
   "cell_type": "code",
   "execution_count": 8,
   "metadata": {},
   "outputs": [
    {
     "name": "stdout",
     "output_type": "stream",
     "text": [
      "134657\n"
     ]
    }
   ],
   "source": [
    "for instrument in instruments:\n",
    "    if instrument['tradingsymbol'] == 'BPCL':\n",
    "        print(instrument['instrument_token'])"
   ]
  },
  {
   "cell_type": "code",
   "execution_count": 9,
   "metadata": {},
   "outputs": [
    {
     "name": "stdout",
     "output_type": "stream",
     "text": [
      "408065\n"
     ]
    }
   ],
   "source": [
    "for instrument in instruments:\n",
    "    if instrument['tradingsymbol'] == 'INFY':\n",
    "        print(instrument['instrument_token'])"
   ]
  },
  {
   "cell_type": "code",
   "execution_count": 39,
   "metadata": {},
   "outputs": [],
   "source": [
    "# logging.basicConfig(level=logging.DEBUG)"
   ]
  },
  {
   "cell_type": "code",
   "execution_count": 12,
   "metadata": {},
   "outputs": [],
   "source": [
    "# Initialise\n",
    "kws = KiteTicker(\"37wk1ehie3noonc1\", data['access_token'])\n",
    "tick_count = 0"
   ]
  },
  {
   "cell_type": "code",
   "execution_count": 13,
   "metadata": {},
   "outputs": [],
   "source": [
    "def on_ticks(ws, ticks):\n",
    "    # Callback to receive ticks.\n",
    "    global tick_count\n",
    "    print(\"Ticks: {}\".format(ticks))\n",
    "    tick_count = tick_count + 1\n",
    "    print(\"Length: {}\".format(tick_count))\n",
    "    if tick_count > 5:\n",
    "        ws.close()\n",
    "\n",
    "def on_connect(ws, response):\n",
    "    pass\n",
    "    # Callback on successful connect.\n",
    "    # Subscribe to a list of instrument_tokens (RELIANCE and ACC here).\n",
    "    ws.subscribe([134657, 408065])\n",
    "#     ws.subscribe([134657])\n",
    "    # Set RELIANCE to tick in `full` mode.\n",
    "#     ws.set_mode(ws.MODE_FULL, [408065])\n",
    "\n",
    "def on_close(ws, code, reason):\n",
    "    # On connection close stop the main loop\n",
    "    # Reconnection will not happen after executing `ws.stop()`\n",
    "    ws.stop()"
   ]
  },
  {
   "cell_type": "code",
   "execution_count": 14,
   "metadata": {},
   "outputs": [],
   "source": [
    "# Assign the callbacks.\n",
    "kws.on_ticks = on_ticks\n",
    "kws.on_connect = on_connect\n",
    "kws.on_close = on_close"
   ]
  },
  {
   "cell_type": "code",
   "execution_count": 15,
   "metadata": {},
   "outputs": [
    {
     "name": "stdout",
     "output_type": "stream",
     "text": [
      "Ticks: [{'tradable': True, 'mode': 'quote', 'instrument_token': 408065, 'last_price': 763.65, 'last_quantity': 32, 'average_price': 759.03, 'volume': 5773332, 'buy_quantity': 1191083, 'sell_quantity': 1103674, 'ohlc': {'open': 760.0, 'high': 764.0, 'low': 755.0, 'close': 738.15}, 'change': 3.454582401950823}, {'tradable': True, 'mode': 'quote', 'instrument_token': 134657, 'last_price': 472.1, 'last_quantity': 5, 'average_price': 472.01, 'volume': 198183, 'buy_quantity': 253002, 'sell_quantity': 285802, 'ohlc': {'open': 471.0, 'high': 474.0, 'low': 470.9, 'close': 470.25}, 'change': 0.3934077618288193}]\n",
      "Length: 1\n",
      "Ticks: [{'tradable': True, 'mode': 'quote', 'instrument_token': 134657, 'last_price': 472.1, 'last_quantity': 13, 'average_price': 472.01, 'volume': 198434, 'buy_quantity': 253323, 'sell_quantity': 285435, 'ohlc': {'open': 471.0, 'high': 474.0, 'low': 470.9, 'close': 470.25}, 'change': 0.3934077618288193}, {'tradable': True, 'mode': 'quote', 'instrument_token': 408065, 'last_price': 764.0, 'last_quantity': 4, 'average_price': 759.03, 'volume': 5776610, 'buy_quantity': 1191324, 'sell_quantity': 1102961, 'ohlc': {'open': 760.0, 'high': 764.0, 'low': 755.0, 'close': 738.15}, 'change': 3.5019982388403474}]\n",
      "Length: 2\n",
      "Ticks: [{'tradable': True, 'mode': 'quote', 'instrument_token': 408065, 'last_price': 763.9, 'last_quantity': 1, 'average_price': 759.04, 'volume': 5780488, 'buy_quantity': 1192790, 'sell_quantity': 1104693, 'ohlc': {'open': 760.0, 'high': 764.0, 'low': 755.0, 'close': 738.15}, 'change': 3.4884508568719097}]\n",
      "Length: 3\n",
      "Ticks: [{'tradable': True, 'mode': 'quote', 'instrument_token': 134657, 'last_price': 472.1, 'last_quantity': 13, 'average_price': 472.01, 'volume': 198434, 'buy_quantity': 253323, 'sell_quantity': 285449, 'ohlc': {'open': 471.0, 'high': 474.0, 'low': 470.9, 'close': 470.25}, 'change': 0.3934077618288193}]\n",
      "Length: 4\n",
      "Ticks: [{'tradable': True, 'mode': 'quote', 'instrument_token': 408065, 'last_price': 763.6, 'last_quantity': 28, 'average_price': 759.04, 'volume': 5783353, 'buy_quantity': 1196709, 'sell_quantity': 1104553, 'ohlc': {'open': 760.0, 'high': 764.0, 'low': 755.0, 'close': 738.15}, 'change': 3.447808710966612}, {'tradable': True, 'mode': 'quote', 'instrument_token': 134657, 'last_price': 472.1, 'last_quantity': 5, 'average_price': 472.01, 'volume': 198434, 'buy_quantity': 253323, 'sell_quantity': 285449, 'ohlc': {'open': 471.0, 'high': 474.0, 'low': 470.9, 'close': 470.25}, 'change': 0.3934077618288193}]\n",
      "Length: 5\n"
     ]
    },
    {
     "name": "stderr",
     "output_type": "stream",
     "text": [
      "Connection closed: None - None\n"
     ]
    },
    {
     "name": "stdout",
     "output_type": "stream",
     "text": [
      "Ticks: [{'tradable': True, 'mode': 'quote', 'instrument_token': 134657, 'last_price': 472.1, 'last_quantity': 5, 'average_price': 472.01, 'volume': 198439, 'buy_quantity': 253323, 'sell_quantity': 285645, 'ohlc': {'open': 471.0, 'high': 474.0, 'low': 470.9, 'close': 470.25}, 'change': 0.3934077618288193}]\n",
      "Length: 6\n"
     ]
    }
   ],
   "source": [
    "# Infinite loop on the main thread. Nothing after this will run.\n",
    "# You have to use the pre-defined callbacks to manage subscriptions.\n",
    "kws.connect()"
   ]
  },
  {
   "cell_type": "code",
   "execution_count": null,
   "metadata": {},
   "outputs": [],
   "source": []
  }
 ],
 "metadata": {
  "kernelspec": {
   "display_name": "DLaaS",
   "language": "python",
   "name": "dlaas"
  },
  "language_info": {
   "codemirror_mode": {
    "name": "ipython",
    "version": 3
   },
   "file_extension": ".py",
   "mimetype": "text/x-python",
   "name": "python",
   "nbconvert_exporter": "python",
   "pygments_lexer": "ipython3",
   "version": "3.7.1"
  }
 },
 "nbformat": 4,
 "nbformat_minor": 2
}
