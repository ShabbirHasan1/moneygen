{
 "cells": [
  {
   "cell_type": "code",
   "execution_count": 12,
   "metadata": {},
   "outputs": [
    {
     "name": "stdout",
     "output_type": "stream",
     "text": [
      "Requirement already satisfied: kiteconnect in /anaconda3/lib/python3.7/site-packages/kiteconnect-3.7.6-py3.7.egg (3.7.6)\n",
      "Requirement already satisfied: requests>=2.18.4 in /anaconda3/lib/python3.7/site-packages (from kiteconnect) (2.21.0)\n",
      "Requirement already satisfied: six>=1.11.0 in /anaconda3/lib/python3.7/site-packages (from kiteconnect) (1.12.0)\n",
      "Requirement already satisfied: pyOpenSSL>=17.5.0 in /anaconda3/lib/python3.7/site-packages (from kiteconnect) (18.0.0)\n",
      "Requirement already satisfied: enum34>=1.1.6 in /anaconda3/lib/python3.7/site-packages (from kiteconnect) (1.1.6)\n",
      "Requirement already satisfied: python-dateutil>=2.6.1 in /anaconda3/lib/python3.7/site-packages (from kiteconnect) (2.7.5)\n",
      "Requirement already satisfied: autobahn[twisted]>=17.10.1 in /anaconda3/lib/python3.7/site-packages (from kiteconnect) (19.1.1)\n",
      "Requirement already satisfied: chardet<3.1.0,>=3.0.2 in /anaconda3/lib/python3.7/site-packages (from requests>=2.18.4->kiteconnect) (3.0.4)\n",
      "Requirement already satisfied: urllib3<1.25,>=1.21.1 in /anaconda3/lib/python3.7/site-packages (from requests>=2.18.4->kiteconnect) (1.24.1)\n",
      "Requirement already satisfied: idna<2.9,>=2.5 in /anaconda3/lib/python3.7/site-packages (from requests>=2.18.4->kiteconnect) (2.8)\n",
      "Requirement already satisfied: certifi>=2017.4.17 in /anaconda3/lib/python3.7/site-packages (from requests>=2.18.4->kiteconnect) (2018.11.29)\n",
      "Requirement already satisfied: cryptography>=2.2.1 in /anaconda3/lib/python3.7/site-packages (from pyOpenSSL>=17.5.0->kiteconnect) (2.4.2)\n",
      "Requirement already satisfied: txaio>=18.8.1 in /anaconda3/lib/python3.7/site-packages (from autobahn[twisted]>=17.10.1->kiteconnect) (18.8.1)\n",
      "Requirement already satisfied: zope.interface>=3.6.0; extra == \"twisted\" in /anaconda3/lib/python3.7/site-packages (from autobahn[twisted]>=17.10.1->kiteconnect) (4.6.0)\n",
      "Requirement already satisfied: Twisted>=12.1.0; extra == \"twisted\" in /anaconda3/lib/python3.7/site-packages (from autobahn[twisted]>=17.10.1->kiteconnect) (18.9.0)\n",
      "Requirement already satisfied: asn1crypto>=0.21.0 in /anaconda3/lib/python3.7/site-packages (from cryptography>=2.2.1->pyOpenSSL>=17.5.0->kiteconnect) (0.24.0)\n",
      "Requirement already satisfied: cffi!=1.11.3,>=1.7 in /anaconda3/lib/python3.7/site-packages (from cryptography>=2.2.1->pyOpenSSL>=17.5.0->kiteconnect) (1.11.5)\n",
      "Requirement already satisfied: setuptools in /anaconda3/lib/python3.7/site-packages (from zope.interface>=3.6.0; extra == \"twisted\"->autobahn[twisted]>=17.10.1->kiteconnect) (40.6.3)\n",
      "Requirement already satisfied: constantly>=15.1 in /anaconda3/lib/python3.7/site-packages (from Twisted>=12.1.0; extra == \"twisted\"->autobahn[twisted]>=17.10.1->kiteconnect) (15.1.0)\n",
      "Requirement already satisfied: incremental>=16.10.1 in /anaconda3/lib/python3.7/site-packages (from Twisted>=12.1.0; extra == \"twisted\"->autobahn[twisted]>=17.10.1->kiteconnect) (17.5.0)\n",
      "Requirement already satisfied: Automat>=0.3.0 in /anaconda3/lib/python3.7/site-packages (from Twisted>=12.1.0; extra == \"twisted\"->autobahn[twisted]>=17.10.1->kiteconnect) (0.7.0)\n",
      "Requirement already satisfied: attrs>=17.4.0 in /anaconda3/lib/python3.7/site-packages (from Twisted>=12.1.0; extra == \"twisted\"->autobahn[twisted]>=17.10.1->kiteconnect) (18.2.0)\n",
      "Requirement already satisfied: hyperlink>=17.1.1 in /anaconda3/lib/python3.7/site-packages (from Twisted>=12.1.0; extra == \"twisted\"->autobahn[twisted]>=17.10.1->kiteconnect) (18.0.0)\n",
      "Requirement already satisfied: PyHamcrest>=1.9.0 in /anaconda3/lib/python3.7/site-packages (from Twisted>=12.1.0; extra == \"twisted\"->autobahn[twisted]>=17.10.1->kiteconnect) (1.9.0)\n",
      "Requirement already satisfied: pycparser in /anaconda3/lib/python3.7/site-packages (from cffi!=1.11.3,>=1.7->cryptography>=2.2.1->pyOpenSSL>=17.5.0->kiteconnect) (2.19)\n"
     ]
    }
   ],
   "source": [
    "!pip install kiteconnect"
   ]
  },
  {
   "cell_type": "code",
   "execution_count": 13,
   "metadata": {},
   "outputs": [
    {
     "data": {
      "text/plain": [
       "'https://kite.trade/connect/login?api_key=37wk1ehie3noonc1&v=3'"
      ]
     },
     "execution_count": 13,
     "metadata": {},
     "output_type": "execute_result"
    }
   ],
   "source": [
    "import logging\n",
    "from kiteconnect import KiteConnect\n",
    "\n",
    "logging.basicConfig(level=logging.DEBUG)\n",
    "\n",
    "kite = KiteConnect(api_key=\"37wk1ehie3noonc1\")\n",
    "\n",
    "# Redirect the user to the login url obtained\n",
    "# from kite.login_url(), and receive the request_token\n",
    "# from the registered redirect url after the login flow.\n",
    "# Once you have the request_token, obtain the access_token\n",
    "# as follows.\n",
    "\n",
    "kite.login_url()\n"
   ]
  },
  {
   "cell_type": "code",
   "execution_count": 15,
   "metadata": {},
   "outputs": [
    {
     "name": "stderr",
     "output_type": "stream",
     "text": [
      "DEBUG:urllib3.connectionpool:Starting new HTTPS connection (1): api.kite.trade:443\n",
      "DEBUG:urllib3.connectionpool:https://api.kite.trade:443 \"POST /session/token HTTP/1.1\" 200 None\n"
     ]
    }
   ],
   "source": [
    "data = kite.generate_session(\"7xGji51ZqVlnCzZmgdXrJWdIFT0bMN7D\", api_secret=\"q5sh7gqhh76mx3c5kzlya2kr3z1qv5qy\")\n",
    "kite.set_access_token(data[\"access_token\"])"
   ]
  },
  {
   "cell_type": "code",
   "execution_count": 16,
   "metadata": {},
   "outputs": [
    {
     "name": "stderr",
     "output_type": "stream",
     "text": [
      "DEBUG:urllib3.connectionpool:Starting new HTTPS connection (1): api.kite.trade:443\n",
      "DEBUG:urllib3.connectionpool:https://api.kite.trade:443 \"GET /instruments HTTP/1.1\" 200 4868627\n"
     ]
    }
   ],
   "source": [
    "instruments = kite.instruments()"
   ]
  },
  {
   "cell_type": "code",
   "execution_count": 17,
   "metadata": {},
   "outputs": [
    {
     "name": "stderr",
     "output_type": "stream",
     "text": [
      "DEBUG:urllib3.connectionpool:Starting new HTTPS connection (1): api.kite.trade:443\n",
      "DEBUG:urllib3.connectionpool:https://api.kite.trade:443 \"GET /mf/instruments HTTP/1.1\" 200 664771\n"
     ]
    }
   ],
   "source": [
    "# Get mutual fund instruments\n",
    "mf_instruments = kite.mf_instruments()"
   ]
  },
  {
   "cell_type": "code",
   "execution_count": 18,
   "metadata": {},
   "outputs": [],
   "source": [
    "import logging\n",
    "from kiteconnect import KiteTicker\n",
    "\n",
    "logging.basicConfig(level=logging.DEBUG)\n",
    "\n",
    "# Initialise\n",
    "kws = KiteTicker(\"37wk1ehie3noonc1\", data[\"access_token\"])\n",
    "\n",
    "def on_ticks(ws, ticks):\n",
    "    # Callback to receive ticks.\n",
    "    logging.debug(\"Ticks: {}\".format(ticks))\n",
    "\n",
    "def on_connect(ws, response):\n",
    "    # Callback on successful connect.\n",
    "    # Subscribe to a list of instrument_tokens (RELIANCE and ACC here).\n",
    "    ws.subscribe([738561, 5633])\n",
    "\n",
    "    # Set RELIANCE to tick in `full` mode.\n",
    "    ws.set_mode(ws.MODE_FULL, [738561])\n",
    "\n",
    "def on_close(ws, code, reason):\n",
    "    # On connection close stop the main loop\n",
    "    # Reconnection will not happen after executing `ws.stop()`\n",
    "    ws.stop()\n",
    "\n",
    "# Assign the callbacks.\n",
    "kws.on_ticks = on_ticks\n",
    "kws.on_connect = on_connect\n",
    "kws.on_close = on_close\n",
    "\n",
    "# Infinite loop on the main thread. Nothing after this will run.\n",
    "# You have to use the pre-defined callbacks to manage subscriptions.\n",
    "# kws.connect()"
   ]
  },
  {
   "cell_type": "code",
   "execution_count": null,
   "metadata": {},
   "outputs": [],
   "source": []
  }
 ],
 "metadata": {
  "kernelspec": {
   "display_name": "Python 3",
   "language": "python",
   "name": "python3"
  },
  "language_info": {
   "codemirror_mode": {
    "name": "ipython",
    "version": 3
   },
   "file_extension": ".py",
   "mimetype": "text/x-python",
   "name": "python",
   "nbconvert_exporter": "python",
   "pygments_lexer": "ipython3",
   "version": "3.7.1"
  }
 },
 "nbformat": 4,
 "nbformat_minor": 2
}
